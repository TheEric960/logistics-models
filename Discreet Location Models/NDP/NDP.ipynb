{
 "cells": [
  {
   "cell_type": "markdown",
   "id": "dcafc505",
   "metadata": {},
   "source": [
    "### (NDP) Node Design Problem\n",
    "- Minimize the total fixed charges and transportation cost.\n",
    "- Sets:\n",
    "    - $I$: set of customers locations\n",
    "    - $J$: set of candidate facility locations\n",
    "    - $K$: set of candidate distribution center locations\n",
    "    - $L$: set of products\n",
    "- Parameters:\n",
    "    - $h_{il}$: (annual) demand of customer $i\\in I$ for product $l\\in L$\n",
    "    - $v_j$: capacity of distribution center $j\\in J$\n",
    "    - $b_k$: capacity of plant $k\\in K$\n",
    "    - $s_l$: units of capacity of plant $\\in K$\n",
    "    - $f_j$: fixed (annual) cost to open a distribution center at site $l\\in L$\n",
    "    - $g_k$: fixed (annual) cost to open a plant at site $k\\in K$\n",
    "    - $c_{ijk}$: cost to transport 1 unit of product $l\\in L$ from distribution center at $j$ to customer $i$\n",
    "    - $d_{jkl}$: cost to transport 1 unit of product $l\\in L$ from plant at $k$ to distribution center at $j$\n",
    "- Decision variables:\n",
    "    - $x_j=\\begin{cases}1, \\quad\\text{if a distribution center is opened at } j\\in J\\\\0, \\quad\\text{O.W.}\\end{cases}$\n",
    "    - $z_k=\\begin{cases}1, \\quad\\text{if a plant is opened at } k\\in K\\\\0, \\quad\\text{O.W.}\\end{cases}$\n",
    "    - $y_{ijl}=\\text{the number of units of product }l\\in L\\text{ shipped from distribution center at }j\\text{ to customer }i$\n",
    "    - $w_{jkl}=\\text{the number of units of product }l\\in L\\text{ shipped from plant at }k\\text{ to distribution center at }j$\n",
    "\n",
    "<br>\n",
    "\n",
    "$$\n",
    "\\begin{split}\n",
    "\\text{(NDP)}\\quad & \\text{minimize}\\quad \\sum\\limits_{j\\in J}f_{j}x_{j} + \\sum\\limits_{k\\in K}g_{k}z_{k} + \\sum\\limits_{l\\in L}(\\sum\\limits_{j\\in J}\\sum\\limits_{i\\in I}c_{ijl}y_{ijl} + \\sum\\limits_{k\\in K}\\sum\\limits_{j\\in J}d_{jkl}w_{jkl})\\\\\n",
    "&\\begin{split}\n",
    "\\text{subject to}\\quad\\quad &\\sum\\limits_{j\\in J}y_{ijl} = h_{il}                  &\\forall i\\in I, \\forall l\\in L\\\\\n",
    "    &\\sum\\limits_{i\\in I}\\sum\\limits_{l\\in L}s_{l} y_{ijl} \\le v_{j}x_{j}          &\\forall j\\in J\\\\\n",
    "    &\\sum\\limits_{k\\in K}w_{jkl}=\\sum\\limits_{i\\in I}y_{ijl}                       &\\forall j\\in J, \\forall l\\in L\\\\\n",
    "    &\\sum\\limits_{j\\in J}\\sum\\limits_{l\\in L}s_{l}w_{jkl} \\le b_{k}z_{k}\\quad\\quad &\\forall k\\in K\\\\\n",
    "    &x_{j}, z_{k}\\in \\{0, 1\\} &\\forall j\\in J, \\forall k\\in K\\\\\n",
    "    &y_{ijl}, w_{jkl}\\ge 0    &\\forall i\\in I, \\forall j\\in J, \\forall k\\in K, \\forall l\\in L\\\\ \n",
    "\\end{split}\n",
    "\\end{split}\n",
    "$$"
   ]
  },
  {
   "cell_type": "code",
   "execution_count": 1,
   "id": "a2df1d64",
   "metadata": {},
   "outputs": [],
   "source": [
    "# import libraries\n",
    "import numpy as np\n",
    "import matplotlib.pyplot as plt\n",
    "import pandas as pd\n",
    "import seaborn as sns\n",
    "\n",
    "from matplotlib.lines import Line2D\n",
    "from scipy import stats\n",
    "from gurobipy import Model, GRB, quicksum\n",
    "%matplotlib inline"
   ]
  },
  {
   "cell_type": "code",
   "execution_count": 2,
   "id": "a85b0eae",
   "metadata": {},
   "outputs": [],
   "source": [
    "# settings\n",
    "sns.reset_orig\n",
    "sns.set_style('darkgrid')\n",
    "sns.set_palette('Set1')\n",
    "\n",
    "np.set_printoptions(linewidth=200)"
   ]
  },
  {
   "cell_type": "code",
   "execution_count": 3,
   "id": "83b6fa85",
   "metadata": {},
   "outputs": [],
   "source": [
    "# import data\n",
    "i_data = pd.read_excel('data.xlsx', sheet_name='i_data')\n",
    "j_data = pd.read_excel('data.xlsx', sheet_name='j_data')\n",
    "k_data = pd.read_excel('data.xlsx', sheet_name='k_data')\n",
    "l_data = pd.read_excel('data.xlsx', sheet_name='l_data')\n",
    "dist_ij = pd.read_excel('data.xlsx', sheet_name='dist_ij').values\n",
    "dist_jk = pd.read_excel('data.xlsx', sheet_name='dist_jk').values"
   ]
  },
  {
   "cell_type": "code",
   "execution_count": 4,
   "id": "f89325c6",
   "metadata": {},
   "outputs": [],
   "source": [
    "# declare the parameters and sets\n",
    "h = i_data[[f'Demand_{i}' for i in range(5)]].values\n",
    "v = j_data['Capacity'].values\n",
    "b = k_data['Capacity'].values\n",
    "s = l_data['Capacity Consumed'].values\n",
    "f = j_data['Fixed Charge'].values\n",
    "g = k_data['Fixed Charge'].values\n",
    "\n",
    "I = [i for i in range(len(i_data['X']))]\n",
    "J = [j for j in range(len(v))]\n",
    "K = [k for k in range(len(b))]\n",
    "L = [j for j in range(len(s))]\n",
    "\n",
    "IJL = [(i, j, l) for i in I for j in J for l in L]\n",
    "JKL = [(j, k, l) for j in J for k in K for l in L]\n",
    "\n",
    "c = {(i, j, l): dist_ij[i, j] * s[l] for i, j, l in IJL}\n",
    "d = {(j, k, l): dist_jk[j, k] * s[l] for j, k, l in JKL}"
   ]
  },
  {
   "cell_type": "code",
   "execution_count": 5,
   "id": "01a0d2d7",
   "metadata": {},
   "outputs": [
    {
     "name": "stdout",
     "output_type": "stream",
     "text": [
      "Academic license - for non-commercial use only - expires 2022-08-28\n",
      "Using license file C:\\Users\\jack4\\gurobi.lic\n"
     ]
    }
   ],
   "source": [
    "# create model\n",
    "mdl = Model('NDP')"
   ]
  },
  {
   "cell_type": "code",
   "execution_count": 6,
   "id": "5e07fc31",
   "metadata": {},
   "outputs": [],
   "source": [
    "# add model variables\n",
    "x = mdl.addVars(J, vtype=GRB.BINARY)\n",
    "z = mdl.addVars(K, vtype=GRB.BINARY)\n",
    "\n",
    "y = mdl.addVars(IJL)\n",
    "w = mdl.addVars(JKL)"
   ]
  },
  {
   "cell_type": "code",
   "execution_count": 7,
   "id": "8db35570",
   "metadata": {},
   "outputs": [],
   "source": [
    "# add objective function\n",
    "mdl.ModelSense = GRB.MINIMIZE\n",
    "mdl.setObjective(\n",
    "    quicksum(f[j]*x[j] for j in J) +\n",
    "    quicksum(g[k]*z[k] for k in K) +\n",
    "    quicksum(c[i,j,l]*y[i,j,l] for i,j,l in IJL) +\n",
    "    quicksum(d[j,k,l]*w[j,k,l] for j,k,l in JKL)\n",
    ")"
   ]
  },
  {
   "cell_type": "code",
   "execution_count": 8,
   "id": "cc5d62ed",
   "metadata": {},
   "outputs": [],
   "source": [
    "# add the model constraints\n",
    "mdl.addConstrs(quicksum(y[i,j,l] for j in J) == h[i,l] for i in I for l in L)\n",
    "mdl.addConstrs(quicksum(s[l]*y[i,j,l] for i in I for l in L) <= v[j]*x[j] for j in J)\n",
    "mdl.addConstrs(quicksum(w[j,k,l] for k in K) == quicksum(y[i,j,l] for i in I) for j in J for l in L)\n",
    "mdl.addConstrs(quicksum(s[l]*w[j,k,l] for j in J for l in L) <= b[k]*z[k] for k in K)\n",
    "mdl.addConstrs(y[i,j,l] >= 0 for i,j,l in IJL)\n",
    "mdl.addConstrs(w[j,k,l] >= 0 for j,k,l in JKL)\n",
    "mdl.update()"
   ]
  },
  {
   "cell_type": "code",
   "execution_count": 9,
   "id": "15d7e183",
   "metadata": {
    "scrolled": false
   },
   "outputs": [
    {
     "name": "stdout",
     "output_type": "stream",
     "text": [
      "Gurobi Optimizer version 9.1.2 build v9.1.2rc0 (win64)\n",
      "Thread count: 8 physical cores, 16 logical processors, using up to 16 threads\n",
      "Optimize a model with 11125 rows, 10525 columns and 41525 nonzeros\n",
      "Model fingerprint: 0xb59a2f49\n",
      "Variable types: 10500 continuous, 25 integer (25 binary)\n",
      "Coefficient statistics:\n",
      "  Matrix range     [1e+00, 5e+03]\n",
      "  Objective range  [4e+00, 1e+04]\n",
      "  Bounds range     [1e+00, 1e+00]\n",
      "  RHS range        [1e+00, 9e+00]\n",
      "Found heuristic solution: objective 747458.01386\n",
      "Presolve removed 10758 rows and 5160 columns\n",
      "Presolve time: 0.02s\n",
      "Presolved: 367 rows, 5365 columns, 15545 nonzeros\n",
      "Variable types: 5340 continuous, 25 integer (25 binary)\n",
      "\n",
      "Root relaxation: objective 2.332220e+05, 412 iterations, 0.01 seconds\n",
      "\n",
      "    Nodes    |    Current Node    |     Objective Bounds      |     Work\n",
      " Expl Unexpl |  Obj  Depth IntInf | Incumbent    BestBd   Gap | It/Node Time\n",
      "\n",
      "     0     0 233222.032    0   19 747458.014 233222.032  68.8%     -    0s\n",
      "H    0     0                    329132.36605 233222.032  29.1%     -    0s\n",
      "H    0     0                    328958.10115 233222.032  29.1%     -    0s\n",
      "H    0     0                    320908.55856 233222.032  27.3%     -    0s\n",
      "H    0     0                    314407.09486 233222.032  25.8%     -    0s\n",
      "H    0     0                    312530.70653 233222.032  25.4%     -    0s\n",
      "H    0     0                    298436.31797 233222.032  21.9%     -    0s\n",
      "H    0     0                    297881.63873 233222.032  21.7%     -    0s\n",
      "H    0     0                    297687.48037 233222.032  21.7%     -    0s\n",
      "H    0     0                    292826.62013 238200.241  18.7%     -    0s\n",
      "     0     0 255752.088    0   19 292826.620 255752.088  12.7%     -    0s\n",
      "H    0     0                    292766.33973 255752.088  12.6%     -    0s\n",
      "     0     0 255924.980    0   19 292766.340 255924.980  12.6%     -    0s\n",
      "     0     0 255925.804    0   19 292766.340 255925.804  12.6%     -    0s\n",
      "H    0     0                    292124.57910 255925.804  12.4%     -    0s\n",
      "H    0     0                    286318.40965 255925.804  10.6%     -    0s\n",
      "H    0     0                    286210.63525 255925.804  10.6%     -    0s\n",
      "H    0     0                    280631.62237 255925.804  8.80%     -    0s\n",
      "H    0     0                    280518.74392 255925.804  8.77%     -    0s\n",
      "H    0     0                    280283.58718 255925.804  8.69%     -    0s\n",
      "H    0     0                    278588.19184 255925.804  8.13%     -    0s\n",
      "H    0     0                    273542.64529 255925.804  6.44%     -    0s\n",
      "     0     0 260523.980    0   15 273542.645 260523.980  4.76%     -    0s\n",
      "     0     0 261130.236    0   15 273542.645 261130.236  4.54%     -    0s\n",
      "     0     0 261511.863    0   16 273542.645 261511.863  4.40%     -    0s\n",
      "     0     0 261569.919    0   15 273542.645 261569.919  4.38%     -    0s\n",
      "     0     0 261591.038    0   15 273542.645 261591.038  4.37%     -    0s\n",
      "H    0     0                    271801.33217 261591.038  3.76%     -    0s\n",
      "H    0     0                    271543.94686 261591.038  3.67%     -    0s\n",
      "     0     0 263436.524    0   17 271543.947 263436.524  2.99%     -    0s\n",
      "     0     0 264145.771    0   16 271543.947 264145.771  2.72%     -    0s\n",
      "     0     0 264345.158    0   16 271543.947 264345.158  2.65%     -    0s\n",
      "     0     0 264371.806    0   15 271543.947 264371.806  2.64%     -    0s\n",
      "H    0     0                    267616.41597 264371.806  1.21%     -    0s\n",
      "     0     0 264710.461    0   15 267616.416 264710.461  1.09%     -    0s\n",
      "     0     0 264779.724    0   16 267616.416 264779.724  1.06%     -    0s\n",
      "     0     0 264806.096    0   16 267616.416 264806.096  1.05%     -    0s\n",
      "     0     0 265070.500    0   16 267616.416 265070.500  0.95%     -    0s\n",
      "     0     0 265072.376    0   15 267616.416 265072.376  0.95%     -    0s\n",
      "     0     0 265072.376    0   15 267616.416 265072.376  0.95%     -    0s\n",
      "H    0     0                    267117.55836 265072.376  0.77%     -    0s\n",
      "     0     0 265072.376    0   18 267117.558 265072.376  0.77%     -    0s\n",
      "     0     0 265072.376    0   17 267117.558 265072.376  0.77%     -    0s\n",
      "     0     0 265072.376    0   16 267117.558 265072.376  0.77%     -    0s\n",
      "     0     0 265072.376    0   17 267117.558 265072.376  0.77%     -    0s\n",
      "     0     0 265072.376    0   18 267117.558 265072.376  0.77%     -    0s\n",
      "     0     0 265072.376    0   16 267117.558 265072.376  0.77%     -    1s\n",
      "     0     0 265072.376    0   16 267117.558 265072.376  0.77%     -    1s\n",
      "     0     0 265072.376    0   15 267117.558 265072.376  0.77%     -    1s\n",
      "     0     0 265077.377    0   15 267117.558 265077.377  0.76%     -    1s\n",
      "     0     0 265290.697    0   16 267117.558 265290.697  0.68%     -    1s\n",
      "     0     0 265319.768    0   16 267117.558 265319.768  0.67%     -    1s\n",
      "     0     0 265453.919    0   13 267117.558 265453.919  0.62%     -    1s\n",
      "     0     0 265479.067    0   13 267117.558 265479.067  0.61%     -    1s\n",
      "     0     0 265539.519    0   15 267117.558 265539.519  0.59%     -    1s\n",
      "     0     0 265540.066    0   13 267117.558 265540.066  0.59%     -    1s\n",
      "     0     0 265540.066    0   13 267117.558 265540.066  0.59%     -    1s\n",
      "     0     0 265540.066    0   14 267117.558 265540.066  0.59%     -    1s\n",
      "     0     0 265540.066    0   15 267117.558 265540.066  0.59%     -    1s\n",
      "     0     0 265540.066    0   16 267117.558 265540.066  0.59%     -    1s\n",
      "     0     0 265540.066    0   16 267117.558 265540.066  0.59%     -    1s\n",
      "     0     0 265540.066    0   16 267117.558 265540.066  0.59%     -    1s\n",
      "     0     0 265540.066    0   15 267117.558 265540.066  0.59%     -    1s\n",
      "     0     0 265540.066    0   12 267117.558 265540.066  0.59%     -    1s\n",
      "     0     0 265540.066    0   13 267117.558 265540.066  0.59%     -    1s\n",
      "     0     0 265540.066    0   12 267117.558 265540.066  0.59%     -    1s\n",
      "     0     0 265540.066    0   12 267117.558 265540.066  0.59%     -    1s\n",
      "     0     0 265584.965    0   12 267117.558 265584.965  0.57%     -    1s\n",
      "     0     0 265597.568    0   12 267117.558 265597.568  0.57%     -    1s\n",
      "     0     0 265618.582    0   12 267117.558 265618.582  0.56%     -    1s\n",
      "     0     0 265618.582    0   12 267117.558 265618.582  0.56%     -    1s\n",
      "     0     2 265687.629    0   12 267117.558 265687.629  0.54%     -    1s\n",
      "\n",
      "Cutting planes:\n",
      "  Implied bound: 193\n",
      "  MIR: 46\n",
      "  Flow cover: 94\n",
      "  Flow path: 123\n",
      "  Relax-and-lift: 13\n",
      "\n",
      "Explored 11 nodes (7929 simplex iterations) in 2.07 seconds\n",
      "Thread count was 16 (of 16 available processors)\n",
      "\n",
      "Solution count 10: 267118 271544 273543 ... 298436\n",
      "\n",
      "Optimal solution found (tolerance 1.00e-04)\n",
      "Best objective 2.671175583591e+05, best bound 2.671175583591e+05, gap 0.0000%\n",
      "Wall time: 2.07 s\n"
     ]
    }
   ],
   "source": [
    "%%time\n",
    "\n",
    "# optimize\n",
    "mdl.optimize()"
   ]
  },
  {
   "cell_type": "code",
   "execution_count": 10,
   "id": "7de53a31",
   "metadata": {},
   "outputs": [],
   "source": [
    "# update the dataframes\n",
    "j_data['Opened'] = [int(x[j].X > 0.0) for j in J]\n",
    "k_data['Opened'] = [int(z[k].X > 0.0) for k in K]"
   ]
  },
  {
   "cell_type": "code",
   "execution_count": 11,
   "id": "05461a8f",
   "metadata": {},
   "outputs": [
    {
     "data": {
      "text/plain": [
       "Text(0.5, 1.0, 'Plants and Distribution Centers Chosen')"
      ]
     },
     "execution_count": 11,
     "metadata": {},
     "output_type": "execute_result"
    },
    {
     "data": {
      "image/png": "[encoded data removed]",
      "text/plain": [
       "<Figure size 720x720 with 1 Axes>"
      ]
     },
     "metadata": {},
     "output_type": "display_data"
    }
   ],
   "source": [
    "# plot the station locations\n",
    "fig, ax = plt.subplots(figsize=(10,10))\n",
    "s1 = [100 if i == 1 else 50 for i in j_data['Opened'].values]\n",
    "s2 = [100 if i == 1 else 50 for i in k_data['Opened'].values]\n",
    "sns.scatterplot(x='X', y='Y', data=j_data, hue='Opened', palette=['grey', 'red'], style='Opened', markers=('X', '^'), s=s1)\n",
    "sns.scatterplot(x='X', y='Y', data=k_data, hue='Opened', palette=['skyblue', 'black'], style='Opened', markers=('X', 's'), s=s2)\n",
    "\n",
    "legend_elements = [\n",
    "    Line2D([0], [0], marker='x', lw=0, color='grey', label='Unopened DC', markerfacecolor='grey', markersize=5),\n",
    "    Line2D([0], [0], marker='^', lw=0, color='red', label='Opened DC', markerfacecolor='red', markersize=5),\n",
    "    Line2D([0], [0], marker='x', lw=0, color='skyblue', label='Unopened Plant', markerfacecolor='skyblue', markersize=5),\n",
    "    Line2D([0], [0], marker='s', lw=0, color='black', label='Opened Plant', markerfacecolor='black', markersize=5)\n",
    "]\n",
    "\n",
    "ax.legend(handles=legend_elements)\n",
    "plt.title('Plants and Distribution Centers Chosen')"
   ]
  },
  {
   "cell_type": "code",
   "execution_count": 12,
   "id": "2883f26a",
   "metadata": {},
   "outputs": [
    {
     "data": {
      "text/plain": [
       "Text(0.5, 1.0, 'Plant and Distribution Center Coverage')"
      ]
     },
     "execution_count": 12,
     "metadata": {},
     "output_type": "execute_result"
    },
    {
     "data": {
      "image/png": "[encoded data removed]",
      "text/plain": [
       "<Figure size 720x720 with 1 Axes>"
      ]
     },
     "metadata": {},
     "output_type": "display_data"
    }
   ],
   "source": [
    "# plot the customer coverage\n",
    "fig, ax = plt.subplots(figsize=(10,10))\n",
    "sns.scatterplot(x='X', y='Y', data=i_data, size=1, color='grey', legend=False, label=\"Customer\")\n",
    "sns.scatterplot(x='X', y='Y', data=j_data[j_data['Opened'] == 1], s=100, color='red', marker='^', label=\"DC\")\n",
    "sns.scatterplot(x='X', y='Y', data=k_data[k_data['Opened'] == 1], s=100, color='black', marker='s', label=\"Plant\")\n",
    "plt.title('Plant and Distribution Center Coverage')"
   ]
  },
  {
   "cell_type": "code",
   "execution_count": 13,
   "id": "f7b34ed3",
   "metadata": {},
   "outputs": [
    {
     "name": "stdout",
     "output_type": "stream",
     "text": [
      "Distribution center cost =  50842.063804984646\n",
      "Plant cost =  31161.40109703781\n",
      "Transportation cost =  185114.09345712562\n",
      "Objective value =  333923.01296390954\n"
     ]
    }
   ],
   "source": [
    "# find objective value\n",
    "fac_cost = sum([f[j]*x[j].X for j in J])\n",
    "plant_cost = sum(g[k]*z[k].X for k in K)\n",
    "trans_cost1 = sum(c[i,j,l]*y[i,j,l].X for i,j,l in IJL)\n",
    "trans_cost2 = sum(d[j,k,l]*w[j,k,l].X for j,k,l in JKL)\n",
    "obj_val = fac_cost + plant_cost + trans_cost1 + trans_cost1\n",
    "\n",
    "print('Distribution center cost = ', fac_cost)\n",
    "print('Plant cost = ', plant_cost)\n",
    "print('Transportation cost = ', trans_cost1 + trans_cost2)\n",
    "print('Objective value = ', obj_val)"
   ]
  }
 ],
 "metadata": {
  "kernelspec": {
   "display_name": "Python 3 (ipykernel)",
   "language": "python",
   "name": "python3"
  },
  "language_info": {
   "codemirror_mode": {
    "name": "ipython",
    "version": 3
   },
   "file_extension": ".py",
   "mimetype": "text/x-python",
   "name": "python",
   "nbconvert_exporter": "python",
   "pygments_lexer": "ipython3",
   "version": "3.9.7"
  }
 },
 "nbformat": 4,
 "nbformat_minor": 5
}
