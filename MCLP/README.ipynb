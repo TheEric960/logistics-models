{
 "cells": [
  {
   "cell_type": "markdown",
   "id": "32a2db05",
   "metadata": {},
   "source": [
    "### (MCLP) Maximum Covering Location Problem\n",
    "- Cover the most customer demands with no more than $p$ facilities.\n",
    "- Sets:\n",
    "    - $I$: set of customers\n",
    "    - $J$: set of candidate facility locations\n",
    "- Parameters:\n",
    "    - $h_i$: demand at customer $i$ (annual)\n",
    "    - $p$: number of facilities to locate\n",
    "    - $a_{ij}=\\begin{cases}\n",
    "            1, \\quad\\text{if facitlity at } j\\in J \\text{ can cover customer } i\\in I\\\\\n",
    "            0, \\quad\\text{O.W.}\n",
    "        \\end{cases}\n",
    "        $\n",
    "- Decision variables:\n",
    "    - $x_j=\\begin{cases}\n",
    "            1, \\quad\\text{if a facility is installed at } j\\\\\n",
    "            0, \\quad\\text{O.W.}\n",
    "        \\end{cases}\n",
    "        $\n",
    "    - $z_{ij}=\\begin{cases}\n",
    "            1, \\quad\\text{if customer } i \\text{ is covered by an open facility}\\\\\n",
    "            0, \\quad\\text{O.W.}\n",
    "        \\end{cases}\n",
    "        $\n",
    "        \n",
    "<br>\n",
    "\n",
    "$\n",
    "\\begin{split}\n",
    "&\\text{(MCLP)}\\quad & \\text{maximize}\\quad \\sum\\limits_{i\\in I}h_{i}z_{i}\\\\\n",
    "&&\\begin{split}\n",
    "\\text{subject to}\\quad\\quad &z_{i}\\le\\sum\\limits_{j\\in J}a_{ij}x_{j} & \\forall i\\in I\\\\\n",
    "    \\sum\\limits_{j\\in J}&x_{j}=p\\\\\n",
    "    & x_{j}\\in \\{0, 1\\}                & \\forall j\\in J\\\\\n",
    "    & z_{i}\\in \\{0, 1\\}\\quad\\quad\\quad & \\forall i\\in I\n",
    "\\end{split}\n",
    "\\end{split}\n",
    "$"
   ]
  }
 ],
 "metadata": {
  "kernelspec": {
   "display_name": "Python 3 (ipykernel)",
   "language": "python",
   "name": "python3"
  },
  "language_info": {
   "codemirror_mode": {
    "name": "ipython",
    "version": 3
   },
   "file_extension": ".py",
   "mimetype": "text/x-python",
   "name": "python",
   "nbconvert_exporter": "python",
   "pygments_lexer": "ipython3",
   "version": "3.9.7"
  }
 },
 "nbformat": 4,
 "nbformat_minor": 5
}
