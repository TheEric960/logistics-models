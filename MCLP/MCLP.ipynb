{
 "cells": [
  {
   "cell_type": "markdown",
   "id": "737cb446",
   "metadata": {},
   "source": [
    "### (MCLP) Maximum Covering Location Problem\n",
    "- Cover the most customer demands with no more than $p$ facilities.\n",
    "- Sets:\n",
    "    - $I$: set of customers\n",
    "    - $J$: set of candidate facility locations\n",
    "- Parameters:\n",
    "    - $h_i$: demand at customer $i$ (annual)\n",
    "    - $p$: number of facilities to locate\n",
    "    - $a_{ij}=\\begin{cases}\n",
    "            1, \\quad\\text{if facitlity at } j\\in J \\text{ can cover customer } i\\in I\\\\\n",
    "            0, \\quad\\text{O.W.}\n",
    "        \\end{cases}\n",
    "        $\n",
    "- Decision variables:\n",
    "    - $x_j=\\begin{cases}\n",
    "            1, \\quad\\text{if a facility is installed at } j\\\\\n",
    "            0, \\quad\\text{O.W.}\n",
    "        \\end{cases}\n",
    "        $\n",
    "    - $z_{ij}=\\begin{cases}\n",
    "            1, \\quad\\text{if customer } i \\text{ is covered by an open facility}\\\\\n",
    "            0, \\quad\\text{O.W.}\n",
    "        \\end{cases}\n",
    "        $\n",
    "        \n",
    "<br>\n",
    "\n",
    "$\n",
    "\\begin{split}\n",
    "&\\text{(MCLP)}\\quad & \\text{maximize}\\quad \\sum\\limits_{i\\in I}h_{i}z_{i}\\\\\n",
    "&&\\begin{split}\n",
    "\\text{subject to}\\quad\\quad &z_{i}\\le\\sum\\limits_{j\\in J}a_{ij}x_{j} & \\forall i\\in I\\\\\n",
    "    \\sum\\limits_{j\\in J}&x_{j}=p\\\\\n",
    "    & x_{j}\\in \\{0, 1\\}                & \\forall j\\in J\\\\\n",
    "    & z_{i}\\in \\{0, 1\\}\\quad\\quad\\quad & \\forall i\\in I\n",
    "\\end{split}\n",
    "\\end{split}\n",
    "$"
   ]
  },
  {
   "cell_type": "code",
   "execution_count": 1,
   "id": "a2df1d64",
   "metadata": {},
   "outputs": [],
   "source": [
    "# import libraries\n",
    "import numpy as np\n",
    "import matplotlib.pyplot as plt\n",
    "import pandas as pd\n",
    "import seaborn as sns\n",
    "\n",
    "from scipy import stats\n",
    "from gurobipy import Model, GRB, quicksum\n",
    "%matplotlib inline"
   ]
  },
  {
   "cell_type": "code",
   "execution_count": 2,
   "id": "a85b0eae",
   "metadata": {},
   "outputs": [],
   "source": [
    "# settings\n",
    "sns.reset_orig\n",
    "sns.set_style('darkgrid')\n",
    "sns.set_palette('Set1')\n",
    "\n",
    "np.set_printoptions(linewidth=200)"
   ]
  },
  {
   "cell_type": "code",
   "execution_count": 3,
   "id": "83b6fa85",
   "metadata": {},
   "outputs": [],
   "source": [
    "# import data\n",
    "i_data = pd.read_excel('data.xlsx', sheet_name='i_data')\n",
    "j_data = pd.read_excel('data.xlsx', sheet_name='j_data')\n",
    "dist_ij = pd.read_excel('data.xlsx', sheet_name='dist_ij').values"
   ]
  },
  {
   "cell_type": "code",
   "execution_count": 4,
   "id": "f89325c6",
   "metadata": {},
   "outputs": [],
   "source": [
    "# declare the parameters and sets\n",
    "h = i_data['Demand'].values\n",
    "\n",
    "I = [i for i in range(len(i_data['X'].values))]\n",
    "J = [j for j in range(len(j_data['X'].values))]\n",
    "A = [(i, j) for i in I for j in J]\n",
    "\n",
    "p = 2\n",
    "D = 100\n",
    "\n",
    "a = {(i, j): int(dist_ij[i, j] <= D) for (i, j) in A}"
   ]
  },
  {
   "cell_type": "code",
   "execution_count": 5,
   "id": "01a0d2d7",
   "metadata": {},
   "outputs": [
    {
     "name": "stdout",
     "output_type": "stream",
     "text": [
      "Academic license - for non-commercial use only - expires 2022-08-28\n",
      "Using license file C:\\Users\\jack4\\gurobi.lic\n"
     ]
    }
   ],
   "source": [
    "# create model\n",
    "mdl = Model('MCLP')"
   ]
  },
  {
   "cell_type": "code",
   "execution_count": 6,
   "id": "5e07fc31",
   "metadata": {},
   "outputs": [],
   "source": [
    "# add model variables\n",
    "x = mdl.addVars(J, vtype=GRB.BINARY)\n",
    "z = mdl.addVars(I, vtype=GRB.BINARY)"
   ]
  },
  {
   "cell_type": "code",
   "execution_count": 7,
   "id": "8db35570",
   "metadata": {},
   "outputs": [],
   "source": [
    "# add objective function\n",
    "mdl.ModelSense = GRB.MAXIMIZE\n",
    "mdl.setObjective(quicksum(h[i]*z[i] for i in I))"
   ]
  },
  {
   "cell_type": "code",
   "execution_count": 8,
   "id": "cc5d62ed",
   "metadata": {},
   "outputs": [],
   "source": [
    "# add the model constraints\n",
    "mdl.addConstrs(z[i] <= quicksum(a[i,j]*x[j] for j in J) for i in I)\n",
    "mdl.addConstr(quicksum(x[j] for j in J) == p)\n",
    "mdl.update()"
   ]
  },
  {
   "cell_type": "code",
   "execution_count": 9,
   "id": "15d7e183",
   "metadata": {},
   "outputs": [
    {
     "name": "stdout",
     "output_type": "stream",
     "text": [
      "Gurobi Optimizer version 9.1.2 build v9.1.2rc0 (win64)\n",
      "Thread count: 8 physical cores, 16 logical processors, using up to 16 threads\n",
      "Optimize a model with 101 rows, 120 columns and 1170 nonzeros\n",
      "Model fingerprint: 0x3fbf17d0\n",
      "Variable types: 0 continuous, 120 integer (120 binary)\n",
      "Coefficient statistics:\n",
      "  Matrix range     [1e+00, 1e+00]\n",
      "  Objective range  [5e+01, 1e+02]\n",
      "  Bounds range     [1e+00, 1e+00]\n",
      "  RHS range        [2e+00, 2e+00]\n",
      "Found heuristic solution: objective 5224.0396869\n",
      "Presolve removed 42 rows and 42 columns\n",
      "Presolve time: 0.00s\n",
      "Presolved: 59 rows, 78 columns, 673 nonzeros\n",
      "Variable types: 0 continuous, 78 integer (78 binary)\n",
      "\n",
      "Root relaxation: objective 6.877949e+03, 34 iterations, 0.00 seconds\n",
      "\n",
      "    Nodes    |    Current Node    |     Objective Bounds      |     Work\n",
      " Expl Unexpl |  Obj  Depth IntInf | Incumbent    BestBd   Gap | It/Node Time\n",
      "\n",
      "*    0     0               0    6877.9492233 6877.94922  0.00%     -    0s\n",
      "\n",
      "Explored 0 nodes (34 simplex iterations) in 0.01 seconds\n",
      "Thread count was 16 (of 16 available processors)\n",
      "\n",
      "Solution count 2: 6877.95 5224.04 \n",
      "\n",
      "Optimal solution found (tolerance 1.00e-04)\n",
      "Best objective 6.877949223286e+03, best bound 6.877949223286e+03, gap 0.0000%\n",
      "Wall time: 14.9 ms\n"
     ]
    }
   ],
   "source": [
    "%%time\n",
    "\n",
    "# optimize\n",
    "mdl.optimize()"
   ]
  },
  {
   "cell_type": "code",
   "execution_count": 10,
   "id": "825b8a16",
   "metadata": {},
   "outputs": [],
   "source": [
    "# opened locations and covered customers\n",
    "opened = [j for j in J if x[j].X > 0.0]\n",
    "covered = [i for i in I if z[i].X > 0.0]"
   ]
  },
  {
   "cell_type": "code",
   "execution_count": 11,
   "id": "7de53a31",
   "metadata": {},
   "outputs": [],
   "source": [
    "# update the dataframes\n",
    "j_data['Opened'] = [int(x[j].X > 0.0) for j in J]\n",
    "i_data['Covered'] = [int(z[i].X > 0.0) for i in I]"
   ]
  },
  {
   "cell_type": "code",
   "execution_count": 12,
   "id": "05461a8f",
   "metadata": {},
   "outputs": [
    {
     "data": {
      "text/plain": [
       "Text(0.5, 1.0, 'Facilities Chosen')"
      ]
     },
     "execution_count": 12,
     "metadata": {},
     "output_type": "execute_result"
    },
    {
     "data": {
      "image/png": "[encoded data removed]",
      "text/plain": [
       "<Figure size 720x720 with 1 Axes>"
      ]
     },
     "metadata": {},
     "output_type": "display_data"
    }
   ],
   "source": [
    "# plot the station locations\n",
    "fig, ax = plt.subplots(figsize=(10,10))\n",
    "s = [100 if i == 1 else 50 for i in j_data['Opened'].values]\n",
    "sns.scatterplot(x='X', y='Y', data=j_data, hue='Opened', palette=['grey', 'red'], style='Opened', markers=('X', '^'), s=s)\n",
    "plt.title('Facilities Chosen')"
   ]
  },
  {
   "cell_type": "code",
   "execution_count": 13,
   "id": "2883f26a",
   "metadata": {},
   "outputs": [
    {
     "data": {
      "text/plain": [
       "Text(0.5, 1.0, 'Facility Coverage')"
      ]
     },
     "execution_count": 13,
     "metadata": {},
     "output_type": "execute_result"
    },
    {
     "data": {
      "image/png": "[encoded data removed]",
      "text/plain": [
       "<Figure size 720x720 with 1 Axes>"
      ]
     },
     "metadata": {},
     "output_type": "display_data"
    }
   ],
   "source": [
    "# plot the customer coverage\n",
    "fig, ax = plt.subplots(figsize=(10,10))\n",
    "s = [25 if i == 1 else 50 for i in i_data['Covered'].values]\n",
    "sns.scatterplot(x='X', y='Y', data=i_data, hue='Covered', palette=['red', 'grey'], style='Covered', markers=('X', 'o'), s=s)\n",
    "plt.legend(labels=['Uncovered', 'Covered'])\n",
    "\n",
    "sns.scatterplot(x='X', y='Y', data=j_data[j_data['Opened'] == 1], s=150, color='black', marker='^', label=\"Facility\")\n",
    "plt.title('Facility Coverage')"
   ]
  },
  {
   "cell_type": "code",
   "execution_count": 14,
   "id": "f7b34ed3",
   "metadata": {},
   "outputs": [
    {
     "name": "stdout",
     "output_type": "stream",
     "text": [
      "Objective value =  6877.949223286187\n"
     ]
    }
   ],
   "source": [
    "# find objective value\n",
    "obj_val = sum([h[i]*z[i].X for i in covered])\n",
    "\n",
    "print('Objective value = ', obj_val)"
   ]
  }
 ],
 "metadata": {
  "kernelspec": {
   "display_name": "Python 3 (ipykernel)",
   "language": "python",
   "name": "python3"
  },
  "language_info": {
   "codemirror_mode": {
    "name": "ipython",
    "version": 3
   },
   "file_extension": ".py",
   "mimetype": "text/x-python",
   "name": "python",
   "nbconvert_exporter": "python",
   "pygments_lexer": "ipython3",
   "version": "3.9.7"
  }
 },
 "nbformat": 4,
 "nbformat_minor": 5
}
