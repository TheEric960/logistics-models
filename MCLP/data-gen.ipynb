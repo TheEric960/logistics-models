{
 "cells": [
  {
   "cell_type": "code",
   "execution_count": 1,
   "id": "86fabd40",
   "metadata": {},
   "outputs": [],
   "source": [
    "# import libraries\n",
    "import time\n",
    "import random as r\n",
    "import numpy as np\n",
    "import matplotlib.pyplot as plt\n",
    "import pandas as pd\n",
    "import seaborn as sns\n",
    "\n",
    "%matplotlib inline"
   ]
  },
  {
   "cell_type": "code",
   "execution_count": 2,
   "id": "3da81b1e",
   "metadata": {},
   "outputs": [],
   "source": [
    "# settings\n",
    "sns.reset_orig\n",
    "sns.set_style('darkgrid')\n",
    "sns.set_palette('Set1')\n",
    "\n",
    "np.set_printoptions(linewidth=200)"
   ]
  },
  {
   "cell_type": "code",
   "execution_count": 3,
   "id": "69735952",
   "metadata": {},
   "outputs": [
    {
     "name": "stdout",
     "output_type": "stream",
     "text": [
      "Seeded at 1653252624.\n"
     ]
    }
   ],
   "source": [
    "# initialize the random state using a seed\n",
    "epoch = int(time.time())\n",
    "r.seed(epoch)\n",
    "\n",
    "print(f'Seeded at {epoch}.')"
   ]
  },
  {
   "cell_type": "code",
   "execution_count": 4,
   "id": "70fd9ec9",
   "metadata": {},
   "outputs": [],
   "source": [
    "# create random coordinate function (-100 < X < 100)\n",
    "rcoord = lambda: r.random() * 100 * (-1 if r.randrange(2) else 1)"
   ]
  },
  {
   "cell_type": "code",
   "execution_count": 5,
   "id": "9a27b338",
   "metadata": {},
   "outputs": [
    {
     "data": {
      "text/html": [
       "<div>\n",
       "<style scoped>\n",
       "    .dataframe tbody tr th:only-of-type {\n",
       "        vertical-align: middle;\n",
       "    }\n",
       "\n",
       "    .dataframe tbody tr th {\n",
       "        vertical-align: top;\n",
       "    }\n",
       "\n",
       "    .dataframe thead th {\n",
       "        text-align: right;\n",
       "    }\n",
       "</style>\n",
       "<table border=\"1\" class=\"dataframe\">\n",
       "  <thead>\n",
       "    <tr style=\"text-align: right;\">\n",
       "      <th></th>\n",
       "      <th>X</th>\n",
       "      <th>Y</th>\n",
       "      <th>Demand</th>\n",
       "    </tr>\n",
       "  </thead>\n",
       "  <tbody>\n",
       "    <tr>\n",
       "      <th>0</th>\n",
       "      <td>97.959231</td>\n",
       "      <td>58.144851</td>\n",
       "      <td>51.149133</td>\n",
       "    </tr>\n",
       "    <tr>\n",
       "      <th>1</th>\n",
       "      <td>-30.846652</td>\n",
       "      <td>40.087183</td>\n",
       "      <td>86.218323</td>\n",
       "    </tr>\n",
       "    <tr>\n",
       "      <th>2</th>\n",
       "      <td>88.767788</td>\n",
       "      <td>-20.565257</td>\n",
       "      <td>97.186292</td>\n",
       "    </tr>\n",
       "    <tr>\n",
       "      <th>3</th>\n",
       "      <td>-82.893010</td>\n",
       "      <td>70.526550</td>\n",
       "      <td>62.091384</td>\n",
       "    </tr>\n",
       "    <tr>\n",
       "      <th>4</th>\n",
       "      <td>-36.851640</td>\n",
       "      <td>28.297480</td>\n",
       "      <td>86.259965</td>\n",
       "    </tr>\n",
       "    <tr>\n",
       "      <th>5</th>\n",
       "      <td>15.004803</td>\n",
       "      <td>-32.985962</td>\n",
       "      <td>93.484246</td>\n",
       "    </tr>\n",
       "    <tr>\n",
       "      <th>6</th>\n",
       "      <td>-25.874900</td>\n",
       "      <td>-63.903737</td>\n",
       "      <td>97.371373</td>\n",
       "    </tr>\n",
       "    <tr>\n",
       "      <th>7</th>\n",
       "      <td>-20.466095</td>\n",
       "      <td>-38.864939</td>\n",
       "      <td>50.038527</td>\n",
       "    </tr>\n",
       "    <tr>\n",
       "      <th>8</th>\n",
       "      <td>14.886786</td>\n",
       "      <td>50.155108</td>\n",
       "      <td>59.064108</td>\n",
       "    </tr>\n",
       "    <tr>\n",
       "      <th>9</th>\n",
       "      <td>-57.610291</td>\n",
       "      <td>52.447772</td>\n",
       "      <td>64.888262</td>\n",
       "    </tr>\n",
       "  </tbody>\n",
       "</table>\n",
       "</div>"
      ],
      "text/plain": [
       "           X          Y     Demand\n",
       "0  97.959231  58.144851  51.149133\n",
       "1 -30.846652  40.087183  86.218323\n",
       "2  88.767788 -20.565257  97.186292\n",
       "3 -82.893010  70.526550  62.091384\n",
       "4 -36.851640  28.297480  86.259965\n",
       "5  15.004803 -32.985962  93.484246\n",
       "6 -25.874900 -63.903737  97.371373\n",
       "7 -20.466095 -38.864939  50.038527\n",
       "8  14.886786  50.155108  59.064108\n",
       "9 -57.610291  52.447772  64.888262"
      ]
     },
     "execution_count": 5,
     "metadata": {},
     "output_type": "execute_result"
    }
   ],
   "source": [
    "# create set of customers\n",
    "i_data = pd.DataFrame()\n",
    "len_ = 100\n",
    "\n",
    "i_data['X'] = [rcoord() for _ in range(len_)]\n",
    "i_data['Y'] = [rcoord() for _ in range(len_)]\n",
    "i_data['Demand'] = [r.random() + r.randrange(50, 100) for _ in range(len_)]\n",
    "\n",
    "i_data.head(10)"
   ]
  },
  {
   "cell_type": "code",
   "execution_count": 6,
   "id": "7137dfad",
   "metadata": {},
   "outputs": [
    {
     "data": {
      "text/html": [
       "<div>\n",
       "<style scoped>\n",
       "    .dataframe tbody tr th:only-of-type {\n",
       "        vertical-align: middle;\n",
       "    }\n",
       "\n",
       "    .dataframe tbody tr th {\n",
       "        vertical-align: top;\n",
       "    }\n",
       "\n",
       "    .dataframe thead th {\n",
       "        text-align: right;\n",
       "    }\n",
       "</style>\n",
       "<table border=\"1\" class=\"dataframe\">\n",
       "  <thead>\n",
       "    <tr style=\"text-align: right;\">\n",
       "      <th></th>\n",
       "      <th>X</th>\n",
       "      <th>Y</th>\n",
       "    </tr>\n",
       "  </thead>\n",
       "  <tbody>\n",
       "    <tr>\n",
       "      <th>0</th>\n",
       "      <td>-29.204613</td>\n",
       "      <td>3.285223</td>\n",
       "    </tr>\n",
       "    <tr>\n",
       "      <th>1</th>\n",
       "      <td>-7.215044</td>\n",
       "      <td>24.777846</td>\n",
       "    </tr>\n",
       "    <tr>\n",
       "      <th>2</th>\n",
       "      <td>-53.641003</td>\n",
       "      <td>30.318153</td>\n",
       "    </tr>\n",
       "    <tr>\n",
       "      <th>3</th>\n",
       "      <td>-29.173518</td>\n",
       "      <td>-18.006279</td>\n",
       "    </tr>\n",
       "    <tr>\n",
       "      <th>4</th>\n",
       "      <td>-40.278851</td>\n",
       "      <td>18.122623</td>\n",
       "    </tr>\n",
       "    <tr>\n",
       "      <th>5</th>\n",
       "      <td>64.965128</td>\n",
       "      <td>-6.096157</td>\n",
       "    </tr>\n",
       "    <tr>\n",
       "      <th>6</th>\n",
       "      <td>-28.063498</td>\n",
       "      <td>-81.908156</td>\n",
       "    </tr>\n",
       "    <tr>\n",
       "      <th>7</th>\n",
       "      <td>-56.492352</td>\n",
       "      <td>13.915816</td>\n",
       "    </tr>\n",
       "    <tr>\n",
       "      <th>8</th>\n",
       "      <td>74.890065</td>\n",
       "      <td>58.849722</td>\n",
       "    </tr>\n",
       "    <tr>\n",
       "      <th>9</th>\n",
       "      <td>22.093676</td>\n",
       "      <td>-9.149705</td>\n",
       "    </tr>\n",
       "  </tbody>\n",
       "</table>\n",
       "</div>"
      ],
      "text/plain": [
       "           X          Y\n",
       "0 -29.204613   3.285223\n",
       "1  -7.215044  24.777846\n",
       "2 -53.641003  30.318153\n",
       "3 -29.173518 -18.006279\n",
       "4 -40.278851  18.122623\n",
       "5  64.965128  -6.096157\n",
       "6 -28.063498 -81.908156\n",
       "7 -56.492352  13.915816\n",
       "8  74.890065  58.849722\n",
       "9  22.093676  -9.149705"
      ]
     },
     "execution_count": 6,
     "metadata": {},
     "output_type": "execute_result"
    }
   ],
   "source": [
    "# create set of candidate locations\n",
    "j_data = pd.DataFrame()\n",
    "len_ = 20\n",
    "\n",
    "j_data['X'] = [rcoord() for _ in range(len_)]\n",
    "j_data['Y'] = [rcoord() for _ in range(len_)]\n",
    "\n",
    "j_data.head(10)"
   ]
  },
  {
   "cell_type": "code",
   "execution_count": 7,
   "id": "a939e15a",
   "metadata": {},
   "outputs": [
    {
     "data": {
      "text/plain": [
       "Text(0.5, 1.0, 'Customer and Facility Locations')"
      ]
     },
     "execution_count": 7,
     "metadata": {},
     "output_type": "execute_result"
    },
    {
     "data": {
      "image/png": "[encoded data removed]",
      "text/plain": [
       "<Figure size 720x720 with 1 Axes>"
      ]
     },
     "metadata": {},
     "output_type": "display_data"
    }
   ],
   "source": [
    "# plot the customers and facilities\n",
    "fig, ax = plt.subplots(figsize=(10,10))\n",
    "sns.scatterplot(x='X', y='Y', data=i_data, size=1, color='red', legend=False, label=\"Customer\")\n",
    "sns.scatterplot(x='X', y='Y', data=j_data, s=100, color='black', marker='^', label=\"Facility\")\n",
    "plt.legend()\n",
    "plt.title('Customer and Facility Locations')"
   ]
  },
  {
   "cell_type": "code",
   "execution_count": 8,
   "id": "2b1bc980",
   "metadata": {},
   "outputs": [
    {
     "data": {
      "text/plain": [
       "array([[138.49267852, 110.34031435, 154.13291628, ..., 142.14994707, 168.60891305, 195.49750875],\n",
       "       [ 36.83857417,  28.15721401,  24.79952332, ..., 170.14567023, 124.51094858,  71.96393619],\n",
       "       [120.35918239, 106.15413776, 151.22627075, ...,  63.00028572, 105.66668101, 205.94332388],\n",
       "       ...,\n",
       "       [102.33651654,  71.95982053, 111.71900514, ..., 151.93014169, 153.61368308, 149.99143365],\n",
       "       [ 91.28597493,  64.37424892, 110.05310256, ..., 122.43833248, 127.74997149, 156.99495213],\n",
       "       [ 55.30619589,  65.68146965,  91.71681472, ...,  91.59540425,  40.74062334, 148.74416925]])"
      ]
     },
     "execution_count": 8,
     "metadata": {},
     "output_type": "execute_result"
    }
   ],
   "source": [
    "# create distance matrix\n",
    "eucl = lambda x1, y1, x2, y2: ((x1 - x2)**2 + (y1 - y2)**2)**0.5\n",
    "\n",
    "i_loc = i_data[['X', 'Y']].values\n",
    "j_loc = j_data[['X', 'Y']].values\n",
    "\n",
    "dist_ij = np.array([[eucl(i[0],i[1],j[0],j[1]) for j in j_loc] for i in i_loc])\n",
    "dist_ij"
   ]
  },
  {
   "cell_type": "code",
   "execution_count": 9,
   "id": "8613a881",
   "metadata": {},
   "outputs": [
    {
     "name": "stdout",
     "output_type": "stream",
     "text": [
      "Done\n"
     ]
    }
   ],
   "source": [
    "# save new data to files\n",
    "with pd.ExcelWriter('data.xlsx', mode='w') as writer:\n",
    "    i_data.to_excel(writer, sheet_name='i_data', index=False)\n",
    "    j_data.to_excel(writer, sheet_name='j_data', index=False)\n",
    "    pd.DataFrame(dist_ij).to_excel(writer, sheet_name='dist_ij', index=False)\n",
    "    \n",
    "print('Done')"
   ]
  }
 ],
 "metadata": {
  "kernelspec": {
   "display_name": "Python 3 (ipykernel)",
   "language": "python",
   "name": "python3"
  },
  "language_info": {
   "codemirror_mode": {
    "name": "ipython",
    "version": 3
   },
   "file_extension": ".py",
   "mimetype": "text/x-python",
   "name": "python",
   "nbconvert_exporter": "python",
   "pygments_lexer": "ipython3",
   "version": "3.9.7"
  }
 },
 "nbformat": 4,
 "nbformat_minor": 5
}
