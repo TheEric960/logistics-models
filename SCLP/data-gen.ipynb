{
 "cells": [
  {
   "cell_type": "code",
   "execution_count": 1,
   "id": "86fabd40",
   "metadata": {},
   "outputs": [],
   "source": [
    "# import libraries\n",
    "import time\n",
    "import random as r\n",
    "import numpy as np\n",
    "import matplotlib.pyplot as plt\n",
    "import pandas as pd\n",
    "import seaborn as sns\n",
    "\n",
    "%matplotlib inline"
   ]
  },
  {
   "cell_type": "code",
   "execution_count": 2,
   "id": "3da81b1e",
   "metadata": {},
   "outputs": [],
   "source": [
    "# settings\n",
    "sns.reset_orig\n",
    "sns.set_style('darkgrid')\n",
    "sns.set_palette('Set1')\n",
    "\n",
    "np.set_printoptions(linewidth=200)"
   ]
  },
  {
   "cell_type": "code",
   "execution_count": 3,
   "id": "69735952",
   "metadata": {},
   "outputs": [
    {
     "name": "stdout",
     "output_type": "stream",
     "text": [
      "Seeded at 1653251472.\n"
     ]
    }
   ],
   "source": [
    "# initialize the random state using a seed\n",
    "epoch = int(time.time())\n",
    "r.seed(epoch)\n",
    "\n",
    "print(f'Seeded at {epoch}.')"
   ]
  },
  {
   "cell_type": "code",
   "execution_count": 4,
   "id": "70fd9ec9",
   "metadata": {},
   "outputs": [],
   "source": [
    "# create random coordinate function (-100 < X < 100)\n",
    "rcoord = lambda: r.random() * 100 * (-1 if r.randrange(2) else 1)"
   ]
  },
  {
   "cell_type": "code",
   "execution_count": 5,
   "id": "9a27b338",
   "metadata": {},
   "outputs": [
    {
     "data": {
      "text/html": [
       "<div>\n",
       "<style scoped>\n",
       "    .dataframe tbody tr th:only-of-type {\n",
       "        vertical-align: middle;\n",
       "    }\n",
       "\n",
       "    .dataframe tbody tr th {\n",
       "        vertical-align: top;\n",
       "    }\n",
       "\n",
       "    .dataframe thead th {\n",
       "        text-align: right;\n",
       "    }\n",
       "</style>\n",
       "<table border=\"1\" class=\"dataframe\">\n",
       "  <thead>\n",
       "    <tr style=\"text-align: right;\">\n",
       "      <th></th>\n",
       "      <th>X</th>\n",
       "      <th>Y</th>\n",
       "    </tr>\n",
       "  </thead>\n",
       "  <tbody>\n",
       "    <tr>\n",
       "      <th>0</th>\n",
       "      <td>59.552929</td>\n",
       "      <td>90.303036</td>\n",
       "    </tr>\n",
       "    <tr>\n",
       "      <th>1</th>\n",
       "      <td>36.966803</td>\n",
       "      <td>-6.577148</td>\n",
       "    </tr>\n",
       "    <tr>\n",
       "      <th>2</th>\n",
       "      <td>-34.773144</td>\n",
       "      <td>-19.735652</td>\n",
       "    </tr>\n",
       "    <tr>\n",
       "      <th>3</th>\n",
       "      <td>-95.752420</td>\n",
       "      <td>82.852735</td>\n",
       "    </tr>\n",
       "    <tr>\n",
       "      <th>4</th>\n",
       "      <td>-95.934728</td>\n",
       "      <td>19.435636</td>\n",
       "    </tr>\n",
       "    <tr>\n",
       "      <th>5</th>\n",
       "      <td>4.064146</td>\n",
       "      <td>15.567652</td>\n",
       "    </tr>\n",
       "    <tr>\n",
       "      <th>6</th>\n",
       "      <td>23.964106</td>\n",
       "      <td>32.055785</td>\n",
       "    </tr>\n",
       "    <tr>\n",
       "      <th>7</th>\n",
       "      <td>97.314064</td>\n",
       "      <td>-30.096594</td>\n",
       "    </tr>\n",
       "    <tr>\n",
       "      <th>8</th>\n",
       "      <td>-53.521205</td>\n",
       "      <td>25.502172</td>\n",
       "    </tr>\n",
       "    <tr>\n",
       "      <th>9</th>\n",
       "      <td>42.131656</td>\n",
       "      <td>84.468800</td>\n",
       "    </tr>\n",
       "  </tbody>\n",
       "</table>\n",
       "</div>"
      ],
      "text/plain": [
       "           X          Y\n",
       "0  59.552929  90.303036\n",
       "1  36.966803  -6.577148\n",
       "2 -34.773144 -19.735652\n",
       "3 -95.752420  82.852735\n",
       "4 -95.934728  19.435636\n",
       "5   4.064146  15.567652\n",
       "6  23.964106  32.055785\n",
       "7  97.314064 -30.096594\n",
       "8 -53.521205  25.502172\n",
       "9  42.131656  84.468800"
      ]
     },
     "execution_count": 5,
     "metadata": {},
     "output_type": "execute_result"
    }
   ],
   "source": [
    "# create set of customers\n",
    "i_data = pd.DataFrame()\n",
    "len_ = 100\n",
    "\n",
    "i_data['X'] = [rcoord() for _ in range(len_)]\n",
    "i_data['Y'] = [rcoord() for _ in range(len_)]\n",
    "\n",
    "i_data.head(10)"
   ]
  },
  {
   "cell_type": "code",
   "execution_count": 6,
   "id": "7137dfad",
   "metadata": {},
   "outputs": [
    {
     "data": {
      "text/html": [
       "<div>\n",
       "<style scoped>\n",
       "    .dataframe tbody tr th:only-of-type {\n",
       "        vertical-align: middle;\n",
       "    }\n",
       "\n",
       "    .dataframe tbody tr th {\n",
       "        vertical-align: top;\n",
       "    }\n",
       "\n",
       "    .dataframe thead th {\n",
       "        text-align: right;\n",
       "    }\n",
       "</style>\n",
       "<table border=\"1\" class=\"dataframe\">\n",
       "  <thead>\n",
       "    <tr style=\"text-align: right;\">\n",
       "      <th></th>\n",
       "      <th>X</th>\n",
       "      <th>Y</th>\n",
       "    </tr>\n",
       "  </thead>\n",
       "  <tbody>\n",
       "    <tr>\n",
       "      <th>0</th>\n",
       "      <td>32.347390</td>\n",
       "      <td>-93.754034</td>\n",
       "    </tr>\n",
       "    <tr>\n",
       "      <th>1</th>\n",
       "      <td>-68.445353</td>\n",
       "      <td>1.833930</td>\n",
       "    </tr>\n",
       "    <tr>\n",
       "      <th>2</th>\n",
       "      <td>49.296640</td>\n",
       "      <td>67.154104</td>\n",
       "    </tr>\n",
       "    <tr>\n",
       "      <th>3</th>\n",
       "      <td>-10.128408</td>\n",
       "      <td>-47.881965</td>\n",
       "    </tr>\n",
       "    <tr>\n",
       "      <th>4</th>\n",
       "      <td>57.280796</td>\n",
       "      <td>-53.600833</td>\n",
       "    </tr>\n",
       "    <tr>\n",
       "      <th>5</th>\n",
       "      <td>-42.337491</td>\n",
       "      <td>40.697887</td>\n",
       "    </tr>\n",
       "    <tr>\n",
       "      <th>6</th>\n",
       "      <td>21.184709</td>\n",
       "      <td>-0.709555</td>\n",
       "    </tr>\n",
       "    <tr>\n",
       "      <th>7</th>\n",
       "      <td>-8.743916</td>\n",
       "      <td>-56.435056</td>\n",
       "    </tr>\n",
       "    <tr>\n",
       "      <th>8</th>\n",
       "      <td>78.585936</td>\n",
       "      <td>-5.675892</td>\n",
       "    </tr>\n",
       "    <tr>\n",
       "      <th>9</th>\n",
       "      <td>15.208381</td>\n",
       "      <td>25.194666</td>\n",
       "    </tr>\n",
       "  </tbody>\n",
       "</table>\n",
       "</div>"
      ],
      "text/plain": [
       "           X          Y\n",
       "0  32.347390 -93.754034\n",
       "1 -68.445353   1.833930\n",
       "2  49.296640  67.154104\n",
       "3 -10.128408 -47.881965\n",
       "4  57.280796 -53.600833\n",
       "5 -42.337491  40.697887\n",
       "6  21.184709  -0.709555\n",
       "7  -8.743916 -56.435056\n",
       "8  78.585936  -5.675892\n",
       "9  15.208381  25.194666"
      ]
     },
     "execution_count": 6,
     "metadata": {},
     "output_type": "execute_result"
    }
   ],
   "source": [
    "# create set of candidate locations\n",
    "j_data = pd.DataFrame()\n",
    "len_ = 20\n",
    "\n",
    "j_data['X'] = [rcoord() for _ in range(len_)]\n",
    "j_data['Y'] = [rcoord() for _ in range(len_)]\n",
    "\n",
    "j_data.head(10)"
   ]
  },
  {
   "cell_type": "code",
   "execution_count": 7,
   "id": "a939e15a",
   "metadata": {},
   "outputs": [
    {
     "data": {
      "text/plain": [
       "Text(0.5, 1.0, 'Customer and Facility Locations')"
      ]
     },
     "execution_count": 7,
     "metadata": {},
     "output_type": "execute_result"
    },
    {
     "data": {
      "image/png": "[encoded data removed]",
      "text/plain": [
       "<Figure size 720x720 with 1 Axes>"
      ]
     },
     "metadata": {},
     "output_type": "display_data"
    }
   ],
   "source": [
    "# plot the customers and facilities\n",
    "fig, ax = plt.subplots(figsize=(10,10))\n",
    "sns.scatterplot(x='X', y='Y', data=i_data, size=1, color='red', legend=False, label=\"Customer\")\n",
    "sns.scatterplot(x='X', y='Y', data=j_data, s=100, color='black', marker='^', label=\"Facility\")\n",
    "plt.legend()\n",
    "plt.title('Customer and Facility Locations')"
   ]
  },
  {
   "cell_type": "code",
   "execution_count": 8,
   "id": "2b1bc980",
   "metadata": {},
   "outputs": [
    {
     "data": {
      "text/plain": [
       "array([[186.05683625, 155.59673192,  25.31925207, ...,  23.62310977,  37.25363174, 160.92861141],\n",
       "       [ 87.29918935, 105.74719352,  74.75508209, ..., 111.82196141,  63.54847771, 108.45712063],\n",
       "       [ 99.9194027 ,  39.98830418, 120.90309476, ..., 164.49092952, 118.65519572,  40.22745495],\n",
       "       ...,\n",
       "       [137.69634454,   2.54527752, 136.41310377, ..., 179.58162492, 138.81631366,   3.47228533],\n",
       "       [161.65506012,  67.97888514,  77.83173079, ..., 117.12690069,  86.76800976,  73.79118022],\n",
       "       [ 77.74382936,  76.70688206,  98.82556038, ..., 140.17442794,  91.80700491,  78.27085226]])"
      ]
     },
     "execution_count": 8,
     "metadata": {},
     "output_type": "execute_result"
    }
   ],
   "source": [
    "# create distance matrix\n",
    "eucl = lambda x1, y1, x2, y2: ((x1 - x2)**2 + (y1 - y2)**2)**0.5\n",
    "\n",
    "i_loc = i_data[['X', 'Y']].values\n",
    "j_loc = j_data[['X', 'Y']].values\n",
    "\n",
    "dist_ij = np.array([[eucl(i[0],i[1],j[0],j[1]) for j in j_loc] for i in i_loc])\n",
    "dist_ij"
   ]
  },
  {
   "cell_type": "code",
   "execution_count": 9,
   "id": "8613a881",
   "metadata": {},
   "outputs": [
    {
     "name": "stdout",
     "output_type": "stream",
     "text": [
      "Done\n"
     ]
    }
   ],
   "source": [
    "# save new data to files\n",
    "with pd.ExcelWriter('data.xlsx', mode='w') as writer:\n",
    "    i_data.to_excel(writer, sheet_name='i_data', index=False)\n",
    "    j_data.to_excel(writer, sheet_name='j_data', index=False)\n",
    "    pd.DataFrame(dist_ij).to_excel(writer, sheet_name='dist_ij', index=False)\n",
    "    \n",
    "print('Done')"
   ]
  }
 ],
 "metadata": {
  "kernelspec": {
   "display_name": "Python 3 (ipykernel)",
   "language": "python",
   "name": "python3"
  },
  "language_info": {
   "codemirror_mode": {
    "name": "ipython",
    "version": 3
   },
   "file_extension": ".py",
   "mimetype": "text/x-python",
   "name": "python",
   "nbconvert_exporter": "python",
   "pygments_lexer": "ipython3",
   "version": "3.9.7"
  }
 },
 "nbformat": 4,
 "nbformat_minor": 5
}
