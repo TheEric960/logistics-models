{
 "cells": [
  {
   "cell_type": "markdown",
   "id": "32a2db05",
   "metadata": {},
   "source": [
    "### (SCLP) Set-Covering Location Problem\n",
    "- Service is provided to customers within distance $r$ of any facility.\n",
    "- Sets:\n",
    "    - $I$: set of customers\n",
    "    - $J$: set of candidate facility locations\n",
    "- Parameters:\n",
    "    - $a_{ij}$: whether customer $i$ is covered by facility at $j$ (distance $\\le r$)<br>\n",
    "      $a_{ij}=\\begin{cases}1, \\quad\\text{if customer } i \\text{ is covered by a facility at } j\\\\0, \\quad\\text{O.W.}\\end{cases}$\n",
    "- Decision variables:\n",
    "    - $x_j=\\begin{cases}1, \\quad\\text{if a facility is installed at } j\\\\0, \\quad\\text{O.W.}\\end{cases}$\n",
    "        \n",
    "<br>\n",
    "\n",
    "$$\n",
    "\\begin{split}\n",
    "\\text{SCLP}\\quad & \\text{minimize}\\quad \\sum\\limits_{j\\in J}x_{j}\\\\\n",
    "&\\begin{split}\n",
    "\\text{subject to}\\quad \\sum\\limits_{j\\in J}&a_{ij}\\ge1 & \\forall i\\in I\\\\\n",
    "    & x_{j}\\in \\{0, 1\\}\\quad\\quad & \\forall j\\in J\\\\\n",
    "\\end{split}\n",
    "\\end{split}\n",
    "$$"
   ]
  }
 ],
 "metadata": {
  "kernelspec": {
   "display_name": "Python 3 (ipykernel)",
   "language": "python",
   "name": "python3"
  },
  "language_info": {
   "codemirror_mode": {
    "name": "ipython",
    "version": 3
   },
   "file_extension": ".py",
   "mimetype": "text/x-python",
   "name": "python",
   "nbconvert_exporter": "python",
   "pygments_lexer": "ipython3",
   "version": "3.9.7"
  }
 },
 "nbformat": 4,
 "nbformat_minor": 5
}
