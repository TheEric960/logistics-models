{
 "cells": [
  {
   "cell_type": "markdown",
   "id": "db58f288",
   "metadata": {},
   "source": [
    "### (SCLP) Set-Covering Location Problem\n",
    "- Service is provided to customers within distance $r$ of any facility.\n",
    "- Sets:\n",
    "    - $I$: set of customers\n",
    "    - $J$: set of candidate facility locations\n",
    "- Parameters:\n",
    "    - $a_{ij}$: whether customer $i$ is covered by facility at $j$ (distance $\\le r$)\n",
    "        - $\n",
    "        a_{ij}=\\begin{cases}\n",
    "            1, \\quad\\text{if customer } i \\text{ is covered by a facility at } j\\\\\n",
    "            0, \\quad\\text{O.W.}\n",
    "        \\end{cases}\n",
    "        $\n",
    "- Decision variables:\n",
    "    - $x_j=\\begin{cases}\n",
    "            1, \\quad\\text{if a facility is installed at } j\\\\\n",
    "            0, \\quad\\text{O.W.}\n",
    "        \\end{cases}\n",
    "        $\n",
    "        \n",
    "<br>\n",
    "\n",
    "$\n",
    "\\begin{split}\n",
    "&\\text{SCLP}\\quad & \\text{minimize}\\quad \\sum\\limits_{j\\in J}x_{j}\\\\\n",
    "&&\\begin{split}\n",
    "\\text{subject to}\\quad \\sum\\limits_{j\\in J}&a_{ij}\\ge1 & \\forall i\\in I\\\\\n",
    "    & x_{j}\\in \\{0, 1\\}\\quad\\quad & \\forall j\\in J\\\\\n",
    "\\end{split}\n",
    "\\end{split}\n",
    "$"
   ]
  },
  {
   "cell_type": "code",
   "execution_count": 1,
   "id": "a2df1d64",
   "metadata": {},
   "outputs": [],
   "source": [
    "# import libraries\n",
    "import numpy as np\n",
    "import matplotlib.pyplot as plt\n",
    "import pandas as pd\n",
    "import seaborn as sns\n",
    "\n",
    "from scipy import stats\n",
    "from gurobipy import Model, GRB, quicksum\n",
    "%matplotlib inline"
   ]
  },
  {
   "cell_type": "code",
   "execution_count": 2,
   "id": "a85b0eae",
   "metadata": {},
   "outputs": [],
   "source": [
    "# settings\n",
    "sns.reset_orig\n",
    "sns.set_style('darkgrid')\n",
    "sns.set_palette('Set1')\n",
    "\n",
    "np.set_printoptions(linewidth=200)"
   ]
  },
  {
   "cell_type": "code",
   "execution_count": 3,
   "id": "83b6fa85",
   "metadata": {},
   "outputs": [],
   "source": [
    "# import data\n",
    "i_data = pd.read_excel('data.xlsx', sheet_name='i_data')\n",
    "j_data = pd.read_excel('data.xlsx', sheet_name='j_data')\n",
    "dist_ij = pd.read_excel('data.xlsx', sheet_name='dist_ij').values"
   ]
  },
  {
   "cell_type": "code",
   "execution_count": 4,
   "id": "f89325c6",
   "metadata": {},
   "outputs": [],
   "source": [
    "# declare the parameters and sets\n",
    "I = [i for i in range(len(i_data['X'].values))]\n",
    "J = [j for j in range(len(j_data['X'].values))]\n",
    "A = [(i, j) for i in I for j in J]\n",
    "\n",
    "D = 100\n",
    "a = {(i, j): int(dist_ij[i, j] <= D) for (i, j) in A}"
   ]
  },
  {
   "cell_type": "code",
   "execution_count": 5,
   "id": "01a0d2d7",
   "metadata": {},
   "outputs": [
    {
     "name": "stdout",
     "output_type": "stream",
     "text": [
      "Academic license - for non-commercial use only - expires 2022-08-28\n",
      "Using license file C:\\Users\\jack4\\gurobi.lic\n"
     ]
    }
   ],
   "source": [
    "# create model\n",
    "mdl = Model('SCLP')"
   ]
  },
  {
   "cell_type": "code",
   "execution_count": 6,
   "id": "5e07fc31",
   "metadata": {},
   "outputs": [],
   "source": [
    "# add model variables\n",
    "x = mdl.addVars(J, vtype=GRB.BINARY)"
   ]
  },
  {
   "cell_type": "code",
   "execution_count": 7,
   "id": "8db35570",
   "metadata": {},
   "outputs": [],
   "source": [
    "# add objective function\n",
    "mdl.ModelSense = GRB.MINIMIZE\n",
    "mdl.setObjective(quicksum(x[j] for j in J))"
   ]
  },
  {
   "cell_type": "code",
   "execution_count": 8,
   "id": "cc5d62ed",
   "metadata": {},
   "outputs": [],
   "source": [
    "# add the model constraints\n",
    "mdl.addConstrs(quicksum(a[i,j]*x[j] for j in J) >= 1 for i in I)\n",
    "mdl.update()"
   ]
  },
  {
   "cell_type": "code",
   "execution_count": 9,
   "id": "15d7e183",
   "metadata": {},
   "outputs": [
    {
     "name": "stdout",
     "output_type": "stream",
     "text": [
      "Gurobi Optimizer version 9.1.2 build v9.1.2rc0 (win64)\n",
      "Thread count: 8 physical cores, 16 logical processors, using up to 16 threads\n",
      "Optimize a model with 100 rows, 20 columns and 1062 nonzeros\n",
      "Model fingerprint: 0xf503178d\n",
      "Variable types: 0 continuous, 20 integer (20 binary)\n",
      "Coefficient statistics:\n",
      "  Matrix range     [1e+00, 1e+00]\n",
      "  Objective range  [1e+00, 1e+00]\n",
      "  Bounds range     [1e+00, 1e+00]\n",
      "  RHS range        [1e+00, 1e+00]\n",
      "Found heuristic solution: objective 4.0000000\n",
      "Presolve removed 100 rows and 20 columns\n",
      "Presolve time: 0.00s\n",
      "Presolve: All rows and columns removed\n",
      "\n",
      "Explored 0 nodes (0 simplex iterations) in 0.00 seconds\n",
      "Thread count was 1 (of 16 available processors)\n",
      "\n",
      "Solution count 2: 3 4 \n",
      "\n",
      "Optimal solution found (tolerance 1.00e-04)\n",
      "Best objective 3.000000000000e+00, best bound 3.000000000000e+00, gap 0.0000%\n",
      "Wall time: 7.97 ms\n"
     ]
    }
   ],
   "source": [
    "%%time\n",
    "\n",
    "# optimize\n",
    "mdl.optimize()"
   ]
  },
  {
   "cell_type": "code",
   "execution_count": 10,
   "id": "825b8a16",
   "metadata": {},
   "outputs": [],
   "source": [
    "# opened locations and covered customers\n",
    "opened = [j for j in J if x[j].X > 0.0]"
   ]
  },
  {
   "cell_type": "code",
   "execution_count": 11,
   "id": "7de53a31",
   "metadata": {},
   "outputs": [],
   "source": [
    "# update the dataframes\n",
    "j_data['Opened'] = [int(x[j].X > 0.0) for j in J]"
   ]
  },
  {
   "cell_type": "code",
   "execution_count": 12,
   "id": "05461a8f",
   "metadata": {},
   "outputs": [
    {
     "data": {
      "text/plain": [
       "Text(0.5, 1.0, 'Facilities Chosen')"
      ]
     },
     "execution_count": 12,
     "metadata": {},
     "output_type": "execute_result"
    },
    {
     "data": {
      "image/png": "[encoded data removed]",
      "text/plain": [
       "<Figure size 720x720 with 1 Axes>"
      ]
     },
     "metadata": {},
     "output_type": "display_data"
    }
   ],
   "source": [
    "# plot the station locations\n",
    "fig, ax = plt.subplots(figsize=(10,10))\n",
    "s = [100 if i == 1 else 50 for i in j_data['Opened'].values]\n",
    "sns.scatterplot(x='X', y='Y', data=j_data, hue='Opened', palette=['grey', 'red'], style='Opened', markers=('X', '^'), s=s)\n",
    "plt.title('Facilities Chosen')"
   ]
  },
  {
   "cell_type": "code",
   "execution_count": 13,
   "id": "2883f26a",
   "metadata": {},
   "outputs": [
    {
     "data": {
      "text/plain": [
       "Text(0.5, 1.0, 'Facility Coverage')"
      ]
     },
     "execution_count": 13,
     "metadata": {},
     "output_type": "execute_result"
    },
    {
     "data": {
      "image/png": "[encoded data removed]",
      "text/plain": [
       "<Figure size 720x720 with 1 Axes>"
      ]
     },
     "metadata": {},
     "output_type": "display_data"
    }
   ],
   "source": [
    "# plot the customer coverage\n",
    "fig, ax = plt.subplots(figsize=(10,10))\n",
    "sns.scatterplot(x='X', y='Y', data=i_data, size=1, legend=False, label=\"Customer\")\n",
    "sns.scatterplot(x='X', y='Y', data=j_data[j_data['Opened'] == 1], s=100, color='black', marker='^', label=\"Facility\")\n",
    "plt.title('Facility Coverage')"
   ]
  },
  {
   "cell_type": "code",
   "execution_count": 14,
   "id": "f7b34ed3",
   "metadata": {},
   "outputs": [
    {
     "name": "stdout",
     "output_type": "stream",
     "text": [
      "Objective value =  3\n"
     ]
    }
   ],
   "source": [
    "# find objective value\n",
    "obj_val = sum([int(x[j].X) for j in J])\n",
    "\n",
    "print('Objective value = ', obj_val)"
   ]
  }
 ],
 "metadata": {
  "kernelspec": {
   "display_name": "Python 3 (ipykernel)",
   "language": "python",
   "name": "python3"
  },
  "language_info": {
   "codemirror_mode": {
    "name": "ipython",
    "version": 3
   },
   "file_extension": ".py",
   "mimetype": "text/x-python",
   "name": "python",
   "nbconvert_exporter": "python",
   "pygments_lexer": "ipython3",
   "version": "3.9.7"
  }
 },
 "nbformat": 4,
 "nbformat_minor": 5
}
