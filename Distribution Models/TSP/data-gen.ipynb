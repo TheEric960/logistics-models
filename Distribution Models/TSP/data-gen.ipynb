{
 "cells": [
  {
   "cell_type": "code",
   "execution_count": 1,
   "id": "86fabd40",
   "metadata": {},
   "outputs": [],
   "source": [
    "# import libraries\n",
    "import time\n",
    "import random as r\n",
    "import numpy as np\n",
    "import matplotlib.pyplot as plt\n",
    "import pandas as pd\n",
    "import seaborn as sns\n",
    "\n",
    "%matplotlib inline"
   ]
  },
  {
   "cell_type": "code",
   "execution_count": 2,
   "id": "3da81b1e",
   "metadata": {},
   "outputs": [],
   "source": [
    "# settings\n",
    "sns.reset_orig\n",
    "sns.set_style('darkgrid')\n",
    "sns.set_palette('Set1')\n",
    "\n",
    "np.set_printoptions(linewidth=200)"
   ]
  },
  {
   "cell_type": "code",
   "execution_count": 3,
   "id": "69735952",
   "metadata": {
    "scrolled": true
   },
   "outputs": [
    {
     "name": "stdout",
     "output_type": "stream",
     "text": [
      "Seeded at 1655835943.\n"
     ]
    }
   ],
   "source": [
    "# initialize the random state using a seed\n",
    "epoch = int(time.time())\n",
    "r.seed(epoch)\n",
    "\n",
    "print(f'Seeded at {epoch}.')"
   ]
  },
  {
   "cell_type": "code",
   "execution_count": 4,
   "id": "70fd9ec9",
   "metadata": {},
   "outputs": [],
   "source": [
    "# create random coordinate function (-100 < X < 100)\n",
    "rcoord = lambda: r.random() * 100 * (-1 if r.randrange(2) else 1)"
   ]
  },
  {
   "cell_type": "code",
   "execution_count": 5,
   "id": "9a27b338",
   "metadata": {},
   "outputs": [
    {
     "data": {
      "text/html": [
       "<div>\n",
       "<style scoped>\n",
       "    .dataframe tbody tr th:only-of-type {\n",
       "        vertical-align: middle;\n",
       "    }\n",
       "\n",
       "    .dataframe tbody tr th {\n",
       "        vertical-align: top;\n",
       "    }\n",
       "\n",
       "    .dataframe thead th {\n",
       "        text-align: right;\n",
       "    }\n",
       "</style>\n",
       "<table border=\"1\" class=\"dataframe\">\n",
       "  <thead>\n",
       "    <tr style=\"text-align: right;\">\n",
       "      <th></th>\n",
       "      <th>X</th>\n",
       "      <th>Y</th>\n",
       "    </tr>\n",
       "  </thead>\n",
       "  <tbody>\n",
       "    <tr>\n",
       "      <th>0</th>\n",
       "      <td>13.861748</td>\n",
       "      <td>58.302876</td>\n",
       "    </tr>\n",
       "    <tr>\n",
       "      <th>1</th>\n",
       "      <td>-68.498514</td>\n",
       "      <td>-22.333382</td>\n",
       "    </tr>\n",
       "    <tr>\n",
       "      <th>2</th>\n",
       "      <td>64.743060</td>\n",
       "      <td>96.807231</td>\n",
       "    </tr>\n",
       "    <tr>\n",
       "      <th>3</th>\n",
       "      <td>78.946019</td>\n",
       "      <td>-71.037303</td>\n",
       "    </tr>\n",
       "    <tr>\n",
       "      <th>4</th>\n",
       "      <td>-28.997920</td>\n",
       "      <td>28.508731</td>\n",
       "    </tr>\n",
       "    <tr>\n",
       "      <th>5</th>\n",
       "      <td>-40.151225</td>\n",
       "      <td>-95.855327</td>\n",
       "    </tr>\n",
       "    <tr>\n",
       "      <th>6</th>\n",
       "      <td>-31.035985</td>\n",
       "      <td>5.923103</td>\n",
       "    </tr>\n",
       "    <tr>\n",
       "      <th>7</th>\n",
       "      <td>13.760904</td>\n",
       "      <td>-56.483232</td>\n",
       "    </tr>\n",
       "    <tr>\n",
       "      <th>8</th>\n",
       "      <td>80.630163</td>\n",
       "      <td>34.584988</td>\n",
       "    </tr>\n",
       "    <tr>\n",
       "      <th>9</th>\n",
       "      <td>-39.995324</td>\n",
       "      <td>-35.276180</td>\n",
       "    </tr>\n",
       "  </tbody>\n",
       "</table>\n",
       "</div>"
      ],
      "text/plain": [
       "           X          Y\n",
       "0  13.861748  58.302876\n",
       "1 -68.498514 -22.333382\n",
       "2  64.743060  96.807231\n",
       "3  78.946019 -71.037303\n",
       "4 -28.997920  28.508731\n",
       "5 -40.151225 -95.855327\n",
       "6 -31.035985   5.923103\n",
       "7  13.760904 -56.483232\n",
       "8  80.630163  34.584988\n",
       "9 -39.995324 -35.276180"
      ]
     },
     "execution_count": 5,
     "metadata": {},
     "output_type": "execute_result"
    }
   ],
   "source": [
    "# create set of locations\n",
    "i_data = pd.DataFrame()\n",
    "len_ = 15\n",
    "\n",
    "i_data['X'] = [rcoord() for _ in range(len_)]\n",
    "i_data['Y'] = [rcoord() for _ in range(len_)]\n",
    "\n",
    "i_data.head(10)"
   ]
  },
  {
   "cell_type": "code",
   "execution_count": 6,
   "id": "cd68a157",
   "metadata": {},
   "outputs": [
    {
     "data": {
      "text/plain": [
       "Text(0.5, 1.0, 'Locations')"
      ]
     },
     "execution_count": 6,
     "metadata": {},
     "output_type": "execute_result"
    },
    {
     "data": {
      "image/png": "[encoded data removed]",
      "text/plain": [
       "<Figure size 720x720 with 1 Axes>"
      ]
     },
     "metadata": {},
     "output_type": "display_data"
    }
   ],
   "source": [
    "fig, ax = plt.subplots(figsize=(10,10))\n",
    "sns.scatterplot(x='X', y='Y', data=i_data, size=1, color='red', legend=False, label=\"Locations\")\n",
    "plt.title('Locations')"
   ]
  },
  {
   "cell_type": "code",
   "execution_count": 7,
   "id": "2b1bc980",
   "metadata": {},
   "outputs": [
    {
     "data": {
      "text/plain": [
       "array([[  0.        , 115.26239183,  63.80825355, 144.79241819,  52.19810561, 163.3467258 ,  68.98874572, 114.78615273,  70.85590589, 107.97047759, 132.65130917, 105.95584843,  39.34066896,\n",
       "         80.40943033,  75.28383323],\n",
       "       [115.26239183,   0.        , 178.73948295, 155.28027054,  64.38336307,  78.79749467,  46.92408847,  89.06640342, 159.62162496,  31.3041187 ,  86.08601369,  55.72030761, 154.56414247,\n",
       "        129.92285699,  44.0148404 ],\n",
       "       [ 63.80825355, 178.73948295,   0.        , 168.44438788, 115.98300038, 219.3665249 , 132.03616958, 161.54611215,  64.21843647, 168.57092466, 182.15918098, 166.96808645,  24.75811243,\n",
       "        104.06545508, 137.2722456 ],\n",
       "       [144.79241819, 155.28027054, 168.44438788,   0.        , 146.83768961, 121.65561191, 134.2346653 ,  66.79012048, 105.63571727, 124.20105149,  78.39522379, 195.19208387, 159.40309793,\n",
       "         66.46446091, 126.70634979],\n",
       "       [ 52.19810561,  64.38336307, 115.98300038, 146.83768961,   0.        , 124.86318593,  22.67739647,  95.14174145, 109.79634534,  64.72602129, 106.39078438,  59.2023779 ,  91.38831375,\n",
       "         96.38292608,  32.42902838],\n",
       "       [163.3467258 ,  78.79749467, 219.3665249 , 121.65561191, 124.86318593,   0.        , 102.18579364,  66.75836674, 177.77181831,  60.57934741,  46.38844007, 134.51703287, 198.60414426,\n",
       "        134.17378589,  92.67111377],\n",
       "       [ 68.98874572,  46.92408847, 132.03616958, 134.2346653 ,  22.67739647, 102.18579364,   0.        ,  76.81999723, 115.28587133,  42.16219521,  85.6606272 ,  61.93488524, 108.08799706,\n",
       "         92.50454589,  10.15601969],\n",
       "       [114.78615273,  89.06640342, 161.54611215,  66.79012048,  95.14174145,  66.75836674,  76.81999723,   0.        , 112.98193868,  57.78815797,  21.66043296, 133.55449879, 143.89977875,\n",
       "         67.96666197,  67.46153517],\n",
       "       [ 70.85590589, 159.62162496,  64.21843647, 105.63571727, 109.79634534, 177.77181831, 115.28587133, 112.98193868,   0.        , 139.39544815, 134.63875886, 168.88453685,  62.17152924,\n",
       "         46.34098947, 115.74344073],\n",
       "       [107.97047759,  31.3041187 , 168.57092466, 124.20105149,  64.72602129,  60.57934741,  42.16219521,  57.78815797, 139.39544815,   0.        ,  55.88135925,  80.97130205, 145.79141654,\n",
       "        104.38625505,  33.3923914 ],\n",
       "       [132.65130917,  86.08601369, 182.15918098,  78.39522379, 106.39078438,  46.38844007,  85.6606272 ,  21.66043296, 134.63875886,  55.88135925,   0.        , 136.34346843, 163.70673009,\n",
       "         89.53532301,  75.5989017 ],\n",
       "       [105.95584843,  55.72030761, 166.96808645, 195.19208387,  59.2023779 , 134.51703287,  61.93488524, 133.55449879, 168.88453685,  80.97130205, 136.34346843,   0.        , 142.40072835,\n",
       "        153.24840094,  68.5288023 ],\n",
       "       [ 39.34066896, 154.56414247,  24.75811243, 159.40309793,  91.38831375, 198.60414426, 108.08799706, 143.89977875,  62.17152924, 145.79141654, 163.70673009, 142.40072835,   0.        ,\n",
       "         93.11371888, 113.82162379],\n",
       "       [ 80.40943033, 129.92285699, 104.06545508,  66.46446091,  96.38292608, 134.17378589,  92.50454589,  67.96666197,  46.34098947, 104.38625505,  89.53532301, 153.24840094,  93.11371888,\n",
       "          0.        ,  89.11815676],\n",
       "       [ 75.28383323,  44.0148404 , 137.2722456 , 126.70634979,  32.42902838,  92.67111377,  10.15601969,  67.46153517, 115.74344073,  33.3923914 ,  75.5989017 ,  68.5288023 , 113.82162379,\n",
       "         89.11815676,   0.        ]])"
      ]
     },
     "execution_count": 7,
     "metadata": {},
     "output_type": "execute_result"
    }
   ],
   "source": [
    "# create distance matrix\n",
    "eucl = lambda x1, y1, x2, y2: ((x1 - x2)**2 + (y1 - y2)**2)**0.5\n",
    "\n",
    "i_loc = i_data[['X', 'Y']].values\n",
    "j_loc = i_data[['X', 'Y']].values\n",
    "\n",
    "dist_ij = np.array([[eucl(i[0],i[1],j[0],j[1]) for j in j_loc] for i in i_loc])\n",
    "dist_ij"
   ]
  },
  {
   "cell_type": "code",
   "execution_count": 8,
   "id": "8613a881",
   "metadata": {},
   "outputs": [
    {
     "name": "stdout",
     "output_type": "stream",
     "text": [
      "Done\n"
     ]
    }
   ],
   "source": [
    "# save new data to files\n",
    "with pd.ExcelWriter('data.xlsx', mode='w') as writer:\n",
    "    i_data.to_excel(writer, sheet_name='i_data', index=False)\n",
    "    pd.DataFrame(dist_ij).to_excel(writer, sheet_name='dist_ij', index=False)\n",
    "    \n",
    "print('Done')"
   ]
  }
 ],
 "metadata": {
  "kernelspec": {
   "display_name": "Python 3 (ipykernel)",
   "language": "python",
   "name": "python3"
  },
  "language_info": {
   "codemirror_mode": {
    "name": "ipython",
    "version": 3
   },
   "file_extension": ".py",
   "mimetype": "text/x-python",
   "name": "python",
   "nbconvert_exporter": "python",
   "pygments_lexer": "ipython3",
   "version": "3.9.7"
  }
 },
 "nbformat": 4,
 "nbformat_minor": 5
}
