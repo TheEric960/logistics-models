{
 "cells": [
  {
   "cell_type": "markdown",
   "id": "b71e8664",
   "metadata": {},
   "source": [
    "### (TSP) Traveling Salesman Problem\n",
    "- Find the shortest route through $n$ nodes such that \n",
    "    - the route begins and ends at the same location \n",
    "    - the route visits every node\n",
    "- Sets:\n",
    "    - $N=\\{1,...,n\\}$: set of nodes\n",
    "- Parameters:\n",
    "    - $c_{ij}$: distance (or transportation cost) from node $i$ to node $j$\n",
    "- Decision variables:\n",
    "    - $x_j=\\begin{cases}1, \\quad\\text{if the tour goes from }i\\text{ to }j\\\\0, \\quad\\text{O.W.}\\end{cases}$\n",
    "\n",
    "<br>\n",
    "\n",
    "$$\n",
    "\\begin{split}\n",
    "\\text{(TSP)}\\quad & \\text{minimize}\\quad \\sum\\limits_{i,j\\in N}c_{ij}x_{ij}\\\\\n",
    "&\\begin{split}\n",
    "\\text{subject to}\\quad\\quad \\sum\\limits_{i\\in N}&x_{ih}+\\sum\\limits_{j\\in N}x_{hj}=2 \\quad\\quad &\\forall h\\in N\\\\\n",
    "   \\sum\\limits_{i,j\\in S}&x_{ij}\\le |S|-1 &\\forall S\\subseteq N: 2\\le |S|\\le n-1\\\\\n",
    "        &x_{ij}\\in \\{0,1\\}     &\\forall i,j\\in N\\\\ \n",
    "\\end{split}\n",
    "\\end{split}\n",
    "$$"
   ]
  },
  {
   "cell_type": "code",
   "execution_count": 1,
   "id": "71d04f71",
   "metadata": {},
   "outputs": [],
   "source": [
    "# import libraries\n",
    "import itertools\n",
    "import numpy as np\n",
    "import matplotlib.pyplot as plt\n",
    "import pandas as pd\n",
    "import seaborn as sns\n",
    "\n",
    "from gurobipy import Model, GRB, quicksum\n",
    "%matplotlib inline"
   ]
  },
  {
   "cell_type": "code",
   "execution_count": 2,
   "id": "3e56dc8e",
   "metadata": {},
   "outputs": [],
   "source": [
    "# settings\n",
    "sns.reset_orig\n",
    "sns.set_style('darkgrid')\n",
    "sns.set_palette('Set1')\n",
    "\n",
    "np.set_printoptions(linewidth=200)"
   ]
  },
  {
   "cell_type": "code",
   "execution_count": 3,
   "id": "4bfb2568",
   "metadata": {},
   "outputs": [],
   "source": [
    "# import data\n",
    "i_data = pd.read_excel('data.xlsx', sheet_name='i_data')\n",
    "dist_ij = pd.read_excel('data.xlsx', sheet_name='dist_ij').values"
   ]
  },
  {
   "cell_type": "code",
   "execution_count": 4,
   "id": "c0097c30",
   "metadata": {},
   "outputs": [],
   "source": [
    "# declare the parameters and sets\n",
    "N = np.arange(len(i_data['X'].values))\n",
    "\n",
    "I = [i for i in range(len(N))]\n",
    "J = I\n",
    "H = I\n",
    "A = [(i, j) for i in I for j in J]\n",
    "\n",
    "S = []\n",
    "for n in range(2, len(N)):\n",
    "    S += itertools.combinations(N, int(n))\n",
    "\n",
    "cost = 2\n",
    "c = {(i, j): dist_ij[i, j]*2 for (i, j) in A}"
   ]
  },
  {
   "cell_type": "code",
   "execution_count": 5,
   "id": "1e31f291",
   "metadata": {},
   "outputs": [
    {
     "name": "stdout",
     "output_type": "stream",
     "text": [
      "Academic license - for non-commercial use only - expires 2022-08-28\n",
      "Using license file C:\\Users\\jack4\\gurobi.lic\n"
     ]
    }
   ],
   "source": [
    "# create model\n",
    "mdl = Model('TSP')"
   ]
  },
  {
   "cell_type": "code",
   "execution_count": 6,
   "id": "48bbca1e",
   "metadata": {},
   "outputs": [],
   "source": [
    "# add model variables\n",
    "x = mdl.addVars(A, vtype=GRB.BINARY)"
   ]
  },
  {
   "cell_type": "code",
   "execution_count": 7,
   "id": "b7250664",
   "metadata": {},
   "outputs": [],
   "source": [
    "# add objective function\n",
    "mdl.ModelSense = GRB.MINIMIZE\n",
    "mdl.setObjective(quicksum(c[i,j]*x[i,j] for i,j in A))"
   ]
  },
  {
   "cell_type": "code",
   "execution_count": 8,
   "id": "a84fb0f2",
   "metadata": {},
   "outputs": [
    {
     "name": "stdout",
     "output_type": "stream",
     "text": [
      "Wall time: 938 ms\n"
     ]
    }
   ],
   "source": [
    "%%time\n",
    "\n",
    "# add the model constraints\n",
    "mdl.addConstrs(\n",
    "    quicksum(x[i,h] for i in I) + \n",
    "    quicksum(x[h,j] for j in J) == 2 \n",
    "    for h in H\n",
    ")\n",
    "mdl.addConstrs(\n",
    "    quicksum(\n",
    "        x[i,j] for i,j in itertools.combinations(s, 2)\n",
    "    ) \n",
    "    <= len(s) - 1\n",
    "    for s in S\n",
    ")\n",
    "mdl.addConstrs(x[i,j] + x[j,i] <= 1 for i,j in A)\n",
    "mdl.update()"
   ]
  },
  {
   "cell_type": "code",
   "execution_count": 9,
   "id": "838c8511",
   "metadata": {},
   "outputs": [
    {
     "name": "stdout",
     "output_type": "stream",
     "text": [
      "Gurobi Optimizer version 9.1.2 build v9.1.2rc0 (win64)\n",
      "Thread count: 8 physical cores, 16 logical processors, using up to 16 threads\n",
      "Optimize a model with 32991 rows, 225 columns and 860925 nonzeros\n",
      "Model fingerprint: 0xd1e5b71a\n",
      "Variable types: 0 continuous, 225 integer (225 binary)\n",
      "Coefficient statistics:\n",
      "  Matrix range     [1e+00, 2e+00]\n",
      "  Objective range  [2e+01, 4e+02]\n",
      "  Bounds range     [1e+00, 1e+00]\n",
      "  RHS range        [1e+00, 1e+01]\n",
      "Found heuristic solution: objective 3401.5448787\n",
      "Presolve removed 32976 rows and 120 columns\n",
      "Presolve time: 0.26s\n",
      "Presolved: 15 rows, 105 columns, 210 nonzeros\n",
      "Found heuristic solution: objective 1354.2515191\n",
      "Variable types: 0 continuous, 105 integer (105 binary)\n",
      "\n",
      "Root relaxation: objective 1.343404e+03, 23 iterations, 0.00 seconds\n",
      "\n",
      "    Nodes    |    Current Node    |     Objective Bounds      |     Work\n",
      " Expl Unexpl |  Obj  Depth IntInf | Incumbent    BestBd   Gap | It/Node Time\n",
      "\n",
      "     0     0 infeasible    0      1354.25152 1354.25152  0.00%     -    0s\n",
      "\n",
      "Explored 0 nodes (23 simplex iterations) in 0.31 seconds\n",
      "Thread count was 16 (of 16 available processors)\n",
      "\n",
      "Solution count 2: 1354.25 3401.54 \n",
      "\n",
      "Optimal solution found (tolerance 1.00e-04)\n",
      "Best objective 1.354251519086e+03, best bound 1.354251519086e+03, gap 0.0000%\n",
      "Wall time: 319 ms\n"
     ]
    }
   ],
   "source": [
    "%%time\n",
    "\n",
    "# optimize\n",
    "mdl.optimize()"
   ]
  },
  {
   "cell_type": "code",
   "execution_count": 10,
   "id": "f648687a",
   "metadata": {},
   "outputs": [
    {
     "data": {
      "text/plain": [
       "[(4, 0),\n",
       " (6, 4),\n",
       " (7, 3),\n",
       " (8, 2),\n",
       " (9, 1),\n",
       " (9, 5),\n",
       " (10, 5),\n",
       " (10, 7),\n",
       " (11, 1),\n",
       " (12, 0),\n",
       " (12, 2),\n",
       " (13, 3),\n",
       " (13, 8),\n",
       " (14, 6),\n",
       " (14, 11)]"
      ]
     },
     "execution_count": 10,
     "metadata": {},
     "output_type": "execute_result"
    }
   ],
   "source": [
    "# get the route\n",
    "routes = [(i,j) for i,j in A if x[i,j].X > 0]\n",
    "routes"
   ]
  },
  {
   "cell_type": "code",
   "execution_count": 11,
   "id": "2733e16e",
   "metadata": {},
   "outputs": [
    {
     "data": {
      "text/plain": [
       "Text(0.5, 1.0, 'Route')"
      ]
     },
     "execution_count": 11,
     "metadata": {},
     "output_type": "execute_result"
    },
    {
     "data": {
      "image/png": "[encoded data removed]",
      "text/plain": [
       "<Figure size 720x720 with 1 Axes>"
      ]
     },
     "metadata": {},
     "output_type": "display_data"
    }
   ],
   "source": [
    "# plot the coverage\n",
    "fig, ax = plt.subplots(figsize=(10,10))\n",
    "sns.scatterplot(x='X', y='Y', data=i_data, s=50, legend=False, label=\"Location\")\n",
    "\n",
    "for path in routes:\n",
    "    point1 = [i_data['X'][path[0]], i_data['Y'][path[0]]]\n",
    "    point2 = [i_data['X'][path[1]], i_data['Y'][path[1]]]\n",
    "    x_values = [point1[0], point2[0]]\n",
    "    y_values = [point1[1], point2[1]]\n",
    "    \n",
    "    plt.plot(x_values, y_values, 'r', linestyle=\":\", zorder=0)\n",
    "\n",
    "plt.title('Route')"
   ]
  },
  {
   "cell_type": "code",
   "execution_count": 12,
   "id": "f60b45aa",
   "metadata": {},
   "outputs": [
    {
     "name": "stdout",
     "output_type": "stream",
     "text": [
      "Objective value = 1354.2515190862532\n"
     ]
    }
   ],
   "source": [
    "# find objective value\n",
    "print('Objective value =', sum(c[a]*x[a].X for a in A))"
   ]
  }
 ],
 "metadata": {
  "kernelspec": {
   "display_name": "Python 3 (ipykernel)",
   "language": "python",
   "name": "python3"
  },
  "language_info": {
   "codemirror_mode": {
    "name": "ipython",
    "version": 3
   },
   "file_extension": ".py",
   "mimetype": "text/x-python",
   "name": "python",
   "nbconvert_exporter": "python",
   "pygments_lexer": "ipython3",
   "version": "3.9.7"
  }
 },
 "nbformat": 4,
 "nbformat_minor": 5
}
