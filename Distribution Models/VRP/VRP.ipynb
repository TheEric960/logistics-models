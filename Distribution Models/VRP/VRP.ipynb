{
 "cells": [
  {
   "cell_type": "markdown",
   "id": "b71e8664",
   "metadata": {},
   "source": [
    "### (VRP) Vehicle Routing Problem\n",
    "- Optimize a set of routes such that\n",
    "    - all begin and end at the same location(s)\n",
    "    - serve a set of customers\n",
    "- Sets:\n",
    "    - $N=\\{1,...,n\\}$: set of nodes\n",
    "- Parameters:\n",
    "    - $K$: number of vehicles\n",
    "    - $c_{ij}$: distance (or transportation cost) from node $i$ to node $j$\n",
    "- Decision variables:\n",
    "    - $x_j=\\begin{cases}1, \\quad\\text{if the route goes from }i\\text{ to }j\\\\0, \\quad\\text{O.W.}\\end{cases}$\n",
    "- Notes:\n",
    "    - $N^{-}=N\\backslash\\{0\\}$, where $N=\\{0\\}$ is the start and end location\n",
    "    - $v(S)$: minimum number of vehicles to visit all customers in subset $S$\n",
    "\n",
    "<br>\n",
    "\n",
    "$$\n",
    "\\begin{split}\n",
    "\\text{(VRP)}\\quad & \\text{minimize}\\quad \\sum\\limits_{i,j\\in N}c_{ij}x_{ij}\\\\\n",
    "&\\begin{split}\n",
    "\\text{subject to}\\quad\\quad \\sum\\limits_{i\\in N}&x_{ih} +\\sum\\limits_{j\\in N}x_{hj}=2 \\quad\\quad &\\forall h\\in N^{-}\\\\\n",
    "    \\sum\\limits_{i\\in N}&x_{0j}=2K\\\\\n",
    "    \\sum\\limits_{i,j\\in S}&x_{ij}\\le |S|-v(S) &\\forall S\\subseteq N^{-}:S\\ne \\emptyset\\\\\n",
    "    &x_{ij}\\in \\{0,1\\}     &\\forall i,j\\in N^{-}\\\\ \n",
    "    &x_{0j}\\in \\{0,1,2\\}   &\\forall j\\in N^{-}\\\\ \n",
    "\\end{split}\n",
    "\\end{split}\n",
    "$$"
   ]
  },
  {
   "cell_type": "code",
   "execution_count": 1,
   "id": "71d04f71",
   "metadata": {},
   "outputs": [],
   "source": [
    "# import libraries\n",
    "import itertools\n",
    "import numpy as np\n",
    "import matplotlib.pyplot as plt\n",
    "import pandas as pd\n",
    "import seaborn as sns\n",
    "\n",
    "from gurobipy import Model, GRB, quicksum\n",
    "%matplotlib inline"
   ]
  },
  {
   "cell_type": "code",
   "execution_count": 2,
   "id": "3e56dc8e",
   "metadata": {},
   "outputs": [],
   "source": [
    "# settings\n",
    "sns.reset_orig\n",
    "sns.set_style('darkgrid')\n",
    "sns.set_palette('Set1')\n",
    "\n",
    "np.set_printoptions(linewidth=200)"
   ]
  },
  {
   "cell_type": "code",
   "execution_count": 3,
   "id": "4bfb2568",
   "metadata": {},
   "outputs": [],
   "source": [
    "# import data\n",
    "i_data = pd.read_excel('data.xlsx', sheet_name='i_data')\n",
    "dist_ij = pd.read_excel('data.xlsx', sheet_name='dist_ij').values"
   ]
  },
  {
   "cell_type": "code",
   "execution_count": 4,
   "id": "c0097c30",
   "metadata": {},
   "outputs": [],
   "source": [
    "# declare the parameters and sets\n",
    "N = np.arange(len(i_data['X'].values))\n",
    "K = 5\n",
    "v = lambda s: 1   # assuming all subroutes require 1 truck\n",
    "\n",
    "I = [i for i in range(len(N))]\n",
    "J = I\n",
    "H = I\n",
    "A = [(i, j) for i in I for j in J]\n",
    "\n",
    "S = []\n",
    "for n in range(1, len(N)):\n",
    "    S += itertools.combinations(N[1:], int(n))\n",
    "\n",
    "cost = 2\n",
    "c = {(i, j): dist_ij[i, j]*2 for (i, j) in A}"
   ]
  },
  {
   "cell_type": "code",
   "execution_count": 5,
   "id": "1e31f291",
   "metadata": {},
   "outputs": [
    {
     "name": "stdout",
     "output_type": "stream",
     "text": [
      "Academic license - for non-commercial use only - expires 2022-08-28\n",
      "Using license file C:\\Users\\jack4\\gurobi.lic\n"
     ]
    }
   ],
   "source": [
    "# create model\n",
    "mdl = Model('VRP')"
   ]
  },
  {
   "cell_type": "code",
   "execution_count": 6,
   "id": "48bbca1e",
   "metadata": {},
   "outputs": [],
   "source": [
    "# add model variables\n",
    "x = mdl.addVars(A, lb=0.0, ub=2.0, vtype=GRB.INTEGER)"
   ]
  },
  {
   "cell_type": "code",
   "execution_count": 7,
   "id": "b7250664",
   "metadata": {},
   "outputs": [],
   "source": [
    "# add objective function\n",
    "mdl.ModelSense = GRB.MINIMIZE\n",
    "mdl.setObjective(quicksum(c[i,j]*x[i,j] for i,j in A))"
   ]
  },
  {
   "cell_type": "code",
   "execution_count": 8,
   "id": "a84fb0f2",
   "metadata": {},
   "outputs": [
    {
     "name": "stdout",
     "output_type": "stream",
     "text": [
      "Wall time: 706 ms\n"
     ]
    }
   ],
   "source": [
    "%%time\n",
    "\n",
    "# add the model constraints\n",
    "mdl.addConstrs(\n",
    "    quicksum(x[i,h] for i in I) + \n",
    "    quicksum(x[h,j] for j in J) == 2 \n",
    "    for h in H[1:]\n",
    ")\n",
    "mdl.addConstr(quicksum(x[0,j] for j in J[1:]) == 2*K)\n",
    "mdl.addConstrs(\n",
    "    quicksum(\n",
    "        x[i,j] for i,j in itertools.permutations(s, 2)\n",
    "    ) \n",
    "    <= len(s) - v(s)\n",
    "    for s in S\n",
    ")\n",
    "mdl.addConstrs(x[i,j] + x[j,i] <= 1 for i in I[1:] for j in J[1:])\n",
    "mdl.addConstrs(x[i,j] <= 1 for i in I[1:] for j in J[1:])\n",
    "mdl.update()"
   ]
  },
  {
   "cell_type": "code",
   "execution_count": 9,
   "id": "838c8511",
   "metadata": {},
   "outputs": [
    {
     "name": "stdout",
     "output_type": "stream",
     "text": [
      "Gurobi Optimizer version 9.1.2 build v9.1.2rc0 (win64)\n",
      "Thread count: 8 physical cores, 16 logical processors, using up to 16 threads\n",
      "Optimize a model with 16790 rows, 225 columns and 746466 nonzeros\n",
      "Model fingerprint: 0xa9164242\n",
      "Variable types: 0 continuous, 225 integer (0 binary)\n",
      "Coefficient statistics:\n",
      "  Matrix range     [1e+00, 2e+00]\n",
      "  Objective range  [3e+01, 5e+02]\n",
      "  Bounds range     [2e+00, 2e+00]\n",
      "  RHS range        [1e+00, 1e+01]\n",
      "Found heuristic solution: objective 4026.3457607\n",
      "Presolve removed 497 rows and 106 columns\n",
      "Presolve time: 0.58s\n",
      "Presolved: 16293 rows, 119 columns, 372869 nonzeros\n",
      "Variable types: 0 continuous, 119 integer (91 binary)\n",
      "\n",
      "Root relaxation: objective 1.817769e+03, 15 iterations, 0.13 seconds\n",
      "\n",
      "    Nodes    |    Current Node    |     Objective Bounds      |     Work\n",
      " Expl Unexpl |  Obj  Depth IntInf | Incumbent    BestBd   Gap | It/Node Time\n",
      "\n",
      "*    0     0               0    1817.7694998 1817.76950  0.00%     -    0s\n",
      "\n",
      "Explored 0 nodes (15 simplex iterations) in 0.80 seconds\n",
      "Thread count was 16 (of 16 available processors)\n",
      "\n",
      "Solution count 2: 1817.77 4026.35 \n",
      "\n",
      "Optimal solution found (tolerance 1.00e-04)\n",
      "Best objective 1.817769499773e+03, best bound 1.817769499773e+03, gap 0.0000%\n",
      "Wall time: 808 ms\n"
     ]
    }
   ],
   "source": [
    "%%time\n",
    "\n",
    "# optimize\n",
    "mdl.optimize()"
   ]
  },
  {
   "cell_type": "code",
   "execution_count": 10,
   "id": "f648687a",
   "metadata": {},
   "outputs": [
    {
     "data": {
      "text/plain": [
       "[(0, 1),\n",
       " (0, 2),\n",
       " (0, 3),\n",
       " (0, 4),\n",
       " (0, 5),\n",
       " (0, 6),\n",
       " (0, 12),\n",
       " (1, 9),\n",
       " (4, 11),\n",
       " (7, 5),\n",
       " (7, 13),\n",
       " (8, 13),\n",
       " (9, 8),\n",
       " (10, 11),\n",
       " (14, 2),\n",
       " (14, 10)]"
      ]
     },
     "execution_count": 10,
     "metadata": {},
     "output_type": "execute_result"
    }
   ],
   "source": [
    "# get the route\n",
    "routes = [(i,j) for i,j in A if x[i,j].X > 0]\n",
    "routes"
   ]
  },
  {
   "cell_type": "code",
   "execution_count": 11,
   "id": "2733e16e",
   "metadata": {},
   "outputs": [
    {
     "data": {
      "text/plain": [
       "Text(0.5, 1.0, 'Routes')"
      ]
     },
     "execution_count": 11,
     "metadata": {},
     "output_type": "execute_result"
    },
    {
     "data": {
      "image/png": "[encoded data removed]",
      "text/plain": [
       "<Figure size 720x720 with 1 Axes>"
      ]
     },
     "metadata": {},
     "output_type": "display_data"
    }
   ],
   "source": [
    "# plot the coverage\n",
    "fig, ax = plt.subplots(figsize=(10,10))\n",
    "sns.scatterplot(x='X', y='Y', data=i_data, s=50, legend=False, label=\"Location\")\n",
    "plt.plot(i_data['X'][0], i_data['Y'][0], 'ok')\n",
    "\n",
    "for path in routes:\n",
    "    point1 = [i_data['X'][path[0]], i_data['Y'][path[0]]]\n",
    "    point2 = [i_data['X'][path[1]], i_data['Y'][path[1]]]\n",
    "    x_values = [point1[0], point2[0]]\n",
    "    y_values = [point1[1], point2[1]]\n",
    "    \n",
    "    plt.plot(x_values, y_values, 'r', linestyle=\":\", zorder=0)\n",
    "\n",
    "plt.title('Routes')"
   ]
  },
  {
   "cell_type": "code",
   "execution_count": 12,
   "id": "f60b45aa",
   "metadata": {},
   "outputs": [
    {
     "name": "stdout",
     "output_type": "stream",
     "text": [
      "Objective value = 1817.7694997733997\n"
     ]
    }
   ],
   "source": [
    "# find objective value\n",
    "print('Objective value =', sum(c[a]*x[a].X for a in A))"
   ]
  }
 ],
 "metadata": {
  "kernelspec": {
   "display_name": "Python 3 (ipykernel)",
   "language": "python",
   "name": "python3"
  },
  "language_info": {
   "codemirror_mode": {
    "name": "ipython",
    "version": 3
   },
   "file_extension": ".py",
   "mimetype": "text/x-python",
   "name": "python",
   "nbconvert_exporter": "python",
   "pygments_lexer": "ipython3",
   "version": "3.9.7"
  }
 },
 "nbformat": 4,
 "nbformat_minor": 5
}
