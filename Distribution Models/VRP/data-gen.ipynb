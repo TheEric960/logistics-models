{
 "cells": [
  {
   "cell_type": "code",
   "execution_count": 1,
   "id": "86fabd40",
   "metadata": {},
   "outputs": [],
   "source": [
    "# import libraries\n",
    "import time\n",
    "import random as r\n",
    "import numpy as np\n",
    "import matplotlib.pyplot as plt\n",
    "import pandas as pd\n",
    "import seaborn as sns\n",
    "\n",
    "%matplotlib inline"
   ]
  },
  {
   "cell_type": "code",
   "execution_count": 2,
   "id": "3da81b1e",
   "metadata": {},
   "outputs": [],
   "source": [
    "# settings\n",
    "sns.reset_orig\n",
    "sns.set_style('darkgrid')\n",
    "sns.set_palette('Set1')\n",
    "\n",
    "np.set_printoptions(linewidth=200)"
   ]
  },
  {
   "cell_type": "code",
   "execution_count": 3,
   "id": "69735952",
   "metadata": {
    "scrolled": true
   },
   "outputs": [
    {
     "name": "stdout",
     "output_type": "stream",
     "text": [
      "Seeded at 1656422885.\n"
     ]
    }
   ],
   "source": [
    "# initialize the random state using a seed\n",
    "epoch = int(time.time())\n",
    "r.seed(epoch)\n",
    "\n",
    "print(f'Seeded at {epoch}.')"
   ]
  },
  {
   "cell_type": "code",
   "execution_count": 4,
   "id": "70fd9ec9",
   "metadata": {},
   "outputs": [],
   "source": [
    "# create random coordinate function (-100 < X < 100)\n",
    "rcoord = lambda: r.random() * 100 * (-1 if r.randrange(2) else 1)"
   ]
  },
  {
   "cell_type": "code",
   "execution_count": 5,
   "id": "9a27b338",
   "metadata": {},
   "outputs": [
    {
     "data": {
      "text/html": [
       "<div>\n",
       "<style scoped>\n",
       "    .dataframe tbody tr th:only-of-type {\n",
       "        vertical-align: middle;\n",
       "    }\n",
       "\n",
       "    .dataframe tbody tr th {\n",
       "        vertical-align: top;\n",
       "    }\n",
       "\n",
       "    .dataframe thead th {\n",
       "        text-align: right;\n",
       "    }\n",
       "</style>\n",
       "<table border=\"1\" class=\"dataframe\">\n",
       "  <thead>\n",
       "    <tr style=\"text-align: right;\">\n",
       "      <th></th>\n",
       "      <th>X</th>\n",
       "      <th>Y</th>\n",
       "    </tr>\n",
       "  </thead>\n",
       "  <tbody>\n",
       "    <tr>\n",
       "      <th>0</th>\n",
       "      <td>41.106952</td>\n",
       "      <td>-18.376940</td>\n",
       "    </tr>\n",
       "    <tr>\n",
       "      <th>1</th>\n",
       "      <td>-13.820990</td>\n",
       "      <td>5.266214</td>\n",
       "    </tr>\n",
       "    <tr>\n",
       "      <th>2</th>\n",
       "      <td>15.770631</td>\n",
       "      <td>29.128957</td>\n",
       "    </tr>\n",
       "    <tr>\n",
       "      <th>3</th>\n",
       "      <td>86.126085</td>\n",
       "      <td>-24.089809</td>\n",
       "    </tr>\n",
       "    <tr>\n",
       "      <th>4</th>\n",
       "      <td>61.078549</td>\n",
       "      <td>52.312050</td>\n",
       "    </tr>\n",
       "    <tr>\n",
       "      <th>5</th>\n",
       "      <td>4.162820</td>\n",
       "      <td>-37.403961</td>\n",
       "    </tr>\n",
       "    <tr>\n",
       "      <th>6</th>\n",
       "      <td>30.199821</td>\n",
       "      <td>-6.476380</td>\n",
       "    </tr>\n",
       "    <tr>\n",
       "      <th>7</th>\n",
       "      <td>-5.888589</td>\n",
       "      <td>-44.925479</td>\n",
       "    </tr>\n",
       "    <tr>\n",
       "      <th>8</th>\n",
       "      <td>-75.208105</td>\n",
       "      <td>-78.876296</td>\n",
       "    </tr>\n",
       "    <tr>\n",
       "      <th>9</th>\n",
       "      <td>-20.704530</td>\n",
       "      <td>-22.088188</td>\n",
       "    </tr>\n",
       "  </tbody>\n",
       "</table>\n",
       "</div>"
      ],
      "text/plain": [
       "           X          Y\n",
       "0  41.106952 -18.376940\n",
       "1 -13.820990   5.266214\n",
       "2  15.770631  29.128957\n",
       "3  86.126085 -24.089809\n",
       "4  61.078549  52.312050\n",
       "5   4.162820 -37.403961\n",
       "6  30.199821  -6.476380\n",
       "7  -5.888589 -44.925479\n",
       "8 -75.208105 -78.876296\n",
       "9 -20.704530 -22.088188"
      ]
     },
     "execution_count": 5,
     "metadata": {},
     "output_type": "execute_result"
    }
   ],
   "source": [
    "# create set of locations\n",
    "i_data = pd.DataFrame()\n",
    "len_ = 15\n",
    "\n",
    "i_data['X'] = [rcoord() for _ in range(len_)]\n",
    "i_data['Y'] = [rcoord() for _ in range(len_)]\n",
    "\n",
    "i_data.head(10)"
   ]
  },
  {
   "cell_type": "code",
   "execution_count": 6,
   "id": "cd68a157",
   "metadata": {},
   "outputs": [
    {
     "data": {
      "text/plain": [
       "Text(0.5, 1.0, 'Locations')"
      ]
     },
     "execution_count": 6,
     "metadata": {},
     "output_type": "execute_result"
    },
    {
     "data": {
      "image/png": "[encoded data removed]",
      "text/plain": [
       "<Figure size 720x720 with 1 Axes>"
      ]
     },
     "metadata": {},
     "output_type": "display_data"
    }
   ],
   "source": [
    "fig, ax = plt.subplots(figsize=(10,10))\n",
    "sns.scatterplot(x='X', y='Y', data=i_data, size=1, color='red', legend=False, label=\"Locations\")\n",
    "plt.title('Locations')"
   ]
  },
  {
   "cell_type": "code",
   "execution_count": 7,
   "id": "2b1bc980",
   "metadata": {
    "scrolled": true
   },
   "outputs": [
    {
     "data": {
      "text/plain": [
       "array([[  0.        ,  59.80031381,  53.8399427 ,  45.38016307,  73.45609612,  41.55594269,  16.14276423,  53.9759731 , 131.10821631,  61.92279566, 117.65289493, 104.45878928,  34.95251392,\n",
       "         79.03592079, 133.30411354],\n",
       "       [ 59.80031381,   0.        ,  38.01439878, 104.16906365,  88.4491471 ,  46.30508868,  45.56007357,  50.81465328, 104.15536379,  28.20720503,  95.86402373, 126.56957352,  34.14145232,\n",
       "         96.46371681,  92.82173323],\n",
       "       [ 53.8399427 ,  38.01439878,   0.        ,  88.21636426,  50.894629  ,  67.5379182 ,  38.41798475,  77.15686078, 141.21708433,  62.87792335,  67.35955774,  88.98011448,  52.24541702,\n",
       "        118.69111928,  79.50038831],\n",
       "       [ 45.38016307, 104.16906365,  88.21636426,   0.        ,  80.40287983,  83.03760232,  58.63428913,  94.3441848 , 170.3827452 , 106.84936458, 139.66481676,  96.1830961 ,  79.77573224,\n",
       "        103.26922145, 164.61551895],\n",
       "       [ 73.45609612,  88.4491471 ,  50.894629  ,  80.40287983,   0.        , 106.2467072 ,  66.40463373, 118.06665253, 189.16774053, 110.56159988,  63.36783099,  38.12870011,  92.49040368,\n",
       "        151.83468953,  97.11982935],\n",
       "       [ 41.55594269,  46.30508868,  67.5379182 ,  83.03760232, 106.2467072 ,   0.        ,  40.428216  ,  12.5540448 ,  89.55276813,  29.20544465, 134.3840585 , 141.30600549,  15.30018966,\n",
       "         51.77985184, 137.92788642],\n",
       "       [ 16.14276423,  45.56007357,  38.41798475,  58.63428913,  66.40463373,  40.428216  ,   0.        ,  52.73240408, 127.87720107,  53.24454393, 103.98798551, 100.88188453,  28.5840784 ,\n",
       "         86.16550722, 117.61765805],\n",
       "       [ 53.9759731 ,  50.81465328,  77.15686078,  94.3441848 , 118.06665253,  12.5540448 ,  52.73240408,   0.        ,  77.18713199,  27.22230649, 143.04444034, 153.52743673,  25.76522009,\n",
       "         45.78026772, 143.61417942],\n",
       "       [131.10821631, 104.15536379, 141.21708433, 170.3827452 , 189.16774053,  89.55276813, 127.87720107,  77.18713199,   0.        ,  78.71168201, 197.50345621, 226.4561969 ,  99.298257  ,\n",
       "         81.78750199, 183.32635593],\n",
       "       [ 61.92279566,  28.20720503,  62.87792335, 106.84936458, 110.56159988,  29.20544465,  53.24454393,  27.22230649,  78.71168201,   0.        , 124.02385518, 148.11131638,  27.07634949,\n",
       "         72.16112683, 119.58364792],\n",
       "       [117.65289493,  95.86402373,  67.35955774, 139.66481676,  63.36783099, 134.3840585 , 103.98798551, 143.04444034, 197.50345621, 124.02385518,   0.        ,  82.0230813 , 119.11418932,\n",
       "        185.89614196,  40.58870083],\n",
       "       [104.45878928, 126.56957352,  88.98011448,  96.1830961 ,  38.12870011, 141.30600549, 100.88188453, 153.52743673, 226.4561969 , 148.11131638,  82.0230813 ,   0.        , 128.44905885,\n",
       "        183.39016933, 121.52695657],\n",
       "       [ 34.95251392,  34.14145232,  52.24541702,  79.77573224,  92.49040368,  15.30018966,  28.5840784 ,  25.76522009,  99.298257  ,  27.07634949, 119.11418932, 128.44905885,   0.        ,\n",
       "         66.89106587, 123.71019159],\n",
       "       [ 79.03592079,  96.46371681, 118.69111928, 103.26922145, 151.83468953,  51.77985184,  86.16550722,  45.78026772,  81.78750199,  72.16112683, 185.89614196, 183.39016933,  66.89106587,\n",
       "          0.        , 189.10951993],\n",
       "       [133.30411354,  92.82173323,  79.50038831, 164.61551895,  97.11982935, 137.92788642, 117.61765805, 143.61417942, 183.32635593, 119.58364792,  40.58870083, 121.52695657, 123.71019159,\n",
       "        189.10951993,   0.        ]])"
      ]
     },
     "execution_count": 7,
     "metadata": {},
     "output_type": "execute_result"
    }
   ],
   "source": [
    "# create distance matrix\n",
    "eucl = lambda x1, y1, x2, y2: ((x1 - x2)**2 + (y1 - y2)**2)**0.5\n",
    "\n",
    "i_loc = i_data[['X', 'Y']].values\n",
    "j_loc = i_data[['X', 'Y']].values\n",
    "\n",
    "dist_ij = np.array([[eucl(i[0],i[1],j[0],j[1]) for j in j_loc] for i in i_loc])\n",
    "dist_ij"
   ]
  },
  {
   "cell_type": "code",
   "execution_count": 8,
   "id": "8613a881",
   "metadata": {},
   "outputs": [
    {
     "name": "stdout",
     "output_type": "stream",
     "text": [
      "Done\n"
     ]
    }
   ],
   "source": [
    "# save new data to files\n",
    "with pd.ExcelWriter('data.xlsx', mode='w') as writer:\n",
    "    i_data.to_excel(writer, sheet_name='i_data', index=False)\n",
    "    pd.DataFrame(dist_ij).to_excel(writer, sheet_name='dist_ij', index=False)\n",
    "    \n",
    "print('Done')"
   ]
  }
 ],
 "metadata": {
  "kernelspec": {
   "display_name": "Python 3 (ipykernel)",
   "language": "python",
   "name": "python3"
  },
  "language_info": {
   "codemirror_mode": {
    "name": "ipython",
    "version": 3
   },
   "file_extension": ".py",
   "mimetype": "text/x-python",
   "name": "python",
   "nbconvert_exporter": "python",
   "pygments_lexer": "ipython3",
   "version": "3.9.7"
  }
 },
 "nbformat": 4,
 "nbformat_minor": 5
}
