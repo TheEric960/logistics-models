{
 "cells": [
  {
   "cell_type": "code",
   "execution_count": 1,
   "id": "86fabd40",
   "metadata": {},
   "outputs": [],
   "source": [
    "# import libraries\n",
    "import time\n",
    "import random as r\n",
    "import numpy as np\n",
    "import matplotlib.pyplot as plt\n",
    "import pandas as pd\n",
    "import seaborn as sns\n",
    "\n",
    "%matplotlib inline"
   ]
  },
  {
   "cell_type": "code",
   "execution_count": 2,
   "id": "3da81b1e",
   "metadata": {},
   "outputs": [],
   "source": [
    "# settings\n",
    "sns.reset_orig\n",
    "sns.set_style('darkgrid')\n",
    "sns.set_palette('Set1')\n",
    "\n",
    "np.set_printoptions(linewidth=200)"
   ]
  },
  {
   "cell_type": "code",
   "execution_count": 3,
   "id": "69735952",
   "metadata": {},
   "outputs": [
    {
     "name": "stdout",
     "output_type": "stream",
     "text": [
      "Seeded at 1653239709.\n"
     ]
    }
   ],
   "source": [
    "# initialize the random state using a seed\n",
    "epoch = int(time.time())\n",
    "r.seed(epoch)\n",
    "\n",
    "print(f'Seeded at {epoch}.')"
   ]
  },
  {
   "cell_type": "code",
   "execution_count": 4,
   "id": "70fd9ec9",
   "metadata": {},
   "outputs": [],
   "source": [
    "# create random coordinate function (-100 < X < 100)\n",
    "rcoord = lambda: r.random() * 100 * (-1 if r.randrange(2) else 1)"
   ]
  },
  {
   "cell_type": "code",
   "execution_count": 5,
   "id": "9a27b338",
   "metadata": {},
   "outputs": [
    {
     "data": {
      "text/html": [
       "<div>\n",
       "<style scoped>\n",
       "    .dataframe tbody tr th:only-of-type {\n",
       "        vertical-align: middle;\n",
       "    }\n",
       "\n",
       "    .dataframe tbody tr th {\n",
       "        vertical-align: top;\n",
       "    }\n",
       "\n",
       "    .dataframe thead th {\n",
       "        text-align: right;\n",
       "    }\n",
       "</style>\n",
       "<table border=\"1\" class=\"dataframe\">\n",
       "  <thead>\n",
       "    <tr style=\"text-align: right;\">\n",
       "      <th></th>\n",
       "      <th>X</th>\n",
       "      <th>Y</th>\n",
       "      <th>Demand</th>\n",
       "    </tr>\n",
       "  </thead>\n",
       "  <tbody>\n",
       "    <tr>\n",
       "      <th>0</th>\n",
       "      <td>-60.617062</td>\n",
       "      <td>18.725299</td>\n",
       "      <td>79.772811</td>\n",
       "    </tr>\n",
       "    <tr>\n",
       "      <th>1</th>\n",
       "      <td>61.175222</td>\n",
       "      <td>-79.457642</td>\n",
       "      <td>79.474204</td>\n",
       "    </tr>\n",
       "    <tr>\n",
       "      <th>2</th>\n",
       "      <td>-88.450467</td>\n",
       "      <td>31.838181</td>\n",
       "      <td>93.421560</td>\n",
       "    </tr>\n",
       "    <tr>\n",
       "      <th>3</th>\n",
       "      <td>-48.954354</td>\n",
       "      <td>-38.637760</td>\n",
       "      <td>78.139174</td>\n",
       "    </tr>\n",
       "    <tr>\n",
       "      <th>4</th>\n",
       "      <td>-18.119554</td>\n",
       "      <td>-54.315618</td>\n",
       "      <td>95.022300</td>\n",
       "    </tr>\n",
       "    <tr>\n",
       "      <th>5</th>\n",
       "      <td>-61.056377</td>\n",
       "      <td>-24.162762</td>\n",
       "      <td>74.466381</td>\n",
       "    </tr>\n",
       "    <tr>\n",
       "      <th>6</th>\n",
       "      <td>-32.149042</td>\n",
       "      <td>20.048644</td>\n",
       "      <td>63.777453</td>\n",
       "    </tr>\n",
       "    <tr>\n",
       "      <th>7</th>\n",
       "      <td>-18.227382</td>\n",
       "      <td>98.985863</td>\n",
       "      <td>72.074908</td>\n",
       "    </tr>\n",
       "    <tr>\n",
       "      <th>8</th>\n",
       "      <td>27.265733</td>\n",
       "      <td>18.202369</td>\n",
       "      <td>61.003249</td>\n",
       "    </tr>\n",
       "    <tr>\n",
       "      <th>9</th>\n",
       "      <td>-68.730808</td>\n",
       "      <td>36.725504</td>\n",
       "      <td>57.967847</td>\n",
       "    </tr>\n",
       "  </tbody>\n",
       "</table>\n",
       "</div>"
      ],
      "text/plain": [
       "           X          Y     Demand\n",
       "0 -60.617062  18.725299  79.772811\n",
       "1  61.175222 -79.457642  79.474204\n",
       "2 -88.450467  31.838181  93.421560\n",
       "3 -48.954354 -38.637760  78.139174\n",
       "4 -18.119554 -54.315618  95.022300\n",
       "5 -61.056377 -24.162762  74.466381\n",
       "6 -32.149042  20.048644  63.777453\n",
       "7 -18.227382  98.985863  72.074908\n",
       "8  27.265733  18.202369  61.003249\n",
       "9 -68.730808  36.725504  57.967847"
      ]
     },
     "execution_count": 5,
     "metadata": {},
     "output_type": "execute_result"
    }
   ],
   "source": [
    "# create set of customers\n",
    "i_data = pd.DataFrame()\n",
    "len_ = 100\n",
    "\n",
    "i_data['X'] = [rcoord() for _ in range(len_)]\n",
    "i_data['Y'] = [rcoord() for _ in range(len_)]\n",
    "i_data['Demand'] = [r.random() + r.randrange(50, 100) for _ in range(len_)]\n",
    "\n",
    "i_data.head(10)"
   ]
  },
  {
   "cell_type": "code",
   "execution_count": 6,
   "id": "7137dfad",
   "metadata": {},
   "outputs": [
    {
     "data": {
      "text/html": [
       "<div>\n",
       "<style scoped>\n",
       "    .dataframe tbody tr th:only-of-type {\n",
       "        vertical-align: middle;\n",
       "    }\n",
       "\n",
       "    .dataframe tbody tr th {\n",
       "        vertical-align: top;\n",
       "    }\n",
       "\n",
       "    .dataframe thead th {\n",
       "        text-align: right;\n",
       "    }\n",
       "</style>\n",
       "<table border=\"1\" class=\"dataframe\">\n",
       "  <thead>\n",
       "    <tr style=\"text-align: right;\">\n",
       "      <th></th>\n",
       "      <th>X</th>\n",
       "      <th>Y</th>\n",
       "      <th>Fixed Charge</th>\n",
       "    </tr>\n",
       "  </thead>\n",
       "  <tbody>\n",
       "    <tr>\n",
       "      <th>0</th>\n",
       "      <td>-61.802667</td>\n",
       "      <td>-90.040429</td>\n",
       "      <td>6355.290599</td>\n",
       "    </tr>\n",
       "    <tr>\n",
       "      <th>1</th>\n",
       "      <td>-7.663700</td>\n",
       "      <td>77.471823</td>\n",
       "      <td>7745.566326</td>\n",
       "    </tr>\n",
       "    <tr>\n",
       "      <th>2</th>\n",
       "      <td>3.231645</td>\n",
       "      <td>23.308295</td>\n",
       "      <td>7713.803786</td>\n",
       "    </tr>\n",
       "    <tr>\n",
       "      <th>3</th>\n",
       "      <td>78.563287</td>\n",
       "      <td>24.285828</td>\n",
       "      <td>5216.426382</td>\n",
       "    </tr>\n",
       "    <tr>\n",
       "      <th>4</th>\n",
       "      <td>-76.114013</td>\n",
       "      <td>-17.755394</td>\n",
       "      <td>6147.471892</td>\n",
       "    </tr>\n",
       "    <tr>\n",
       "      <th>5</th>\n",
       "      <td>-46.415470</td>\n",
       "      <td>-89.638055</td>\n",
       "      <td>8279.369940</td>\n",
       "    </tr>\n",
       "    <tr>\n",
       "      <th>6</th>\n",
       "      <td>81.451580</td>\n",
       "      <td>-63.429405</td>\n",
       "      <td>8385.168539</td>\n",
       "    </tr>\n",
       "    <tr>\n",
       "      <th>7</th>\n",
       "      <td>-5.721613</td>\n",
       "      <td>52.667884</td>\n",
       "      <td>5018.019613</td>\n",
       "    </tr>\n",
       "    <tr>\n",
       "      <th>8</th>\n",
       "      <td>1.394674</td>\n",
       "      <td>-53.365103</td>\n",
       "      <td>7074.519264</td>\n",
       "    </tr>\n",
       "    <tr>\n",
       "      <th>9</th>\n",
       "      <td>-70.460450</td>\n",
       "      <td>-52.106505</td>\n",
       "      <td>8126.522562</td>\n",
       "    </tr>\n",
       "  </tbody>\n",
       "</table>\n",
       "</div>"
      ],
      "text/plain": [
       "           X          Y  Fixed Charge\n",
       "0 -61.802667 -90.040429   6355.290599\n",
       "1  -7.663700  77.471823   7745.566326\n",
       "2   3.231645  23.308295   7713.803786\n",
       "3  78.563287  24.285828   5216.426382\n",
       "4 -76.114013 -17.755394   6147.471892\n",
       "5 -46.415470 -89.638055   8279.369940\n",
       "6  81.451580 -63.429405   8385.168539\n",
       "7  -5.721613  52.667884   5018.019613\n",
       "8   1.394674 -53.365103   7074.519264\n",
       "9 -70.460450 -52.106505   8126.522562"
      ]
     },
     "execution_count": 6,
     "metadata": {},
     "output_type": "execute_result"
    }
   ],
   "source": [
    "# create set of candidate locations\n",
    "j_data = pd.DataFrame()\n",
    "len_ = 20\n",
    "\n",
    "j_data['X'] = [rcoord() for _ in range(len_)]\n",
    "j_data['Y'] = [rcoord() for _ in range(len_)]\n",
    "j_data['Fixed Charge'] = [r.random() + r.randrange(5000, 10000) for _ in range(len_)]\n",
    "\n",
    "j_data.head(10)"
   ]
  },
  {
   "cell_type": "code",
   "execution_count": 7,
   "id": "a939e15a",
   "metadata": {},
   "outputs": [
    {
     "data": {
      "text/plain": [
       "Text(0.5, 1.0, 'Customers and Locations')"
      ]
     },
     "execution_count": 7,
     "metadata": {},
     "output_type": "execute_result"
    },
    {
     "data": {
      "image/png": "[encoded data removed]",
      "text/plain": [
       "<Figure size 720x720 with 1 Axes>"
      ]
     },
     "metadata": {},
     "output_type": "display_data"
    }
   ],
   "source": [
    "# plot the customers and facilities\n",
    "fig, ax = plt.subplots(figsize=(10,10))\n",
    "sns.scatterplot(x='X', y='Y', data=i_data, size=1, color='red', legend=False)\n",
    "sns.scatterplot(x='X', y='Y', data=j_data, s=100, color='black', marker='^')\n",
    "plt.title('Customers and Locations')"
   ]
  },
  {
   "cell_type": "code",
   "execution_count": 8,
   "id": "2b1bc980",
   "metadata": {},
   "outputs": [
    {
     "data": {
      "text/plain": [
       "array([[ 84.21746523, 116.37554547,  81.84303319, ...,  89.15231008,  80.22352028, 127.55297169],\n",
       "       [143.43979065, 164.39482862, 142.05869975, ..., 146.39168858, 141.13187202, 172.4881233 ],\n",
       "       [123.55860981, 147.36830118, 121.95257558, ..., 126.97355237, 120.87167499, 156.34548025],\n",
       "       ...,\n",
       "       [ 92.29209086, 122.34588742,  90.13063112, ...,  96.81623303,  88.66262906, 133.02258895],\n",
       "       [ 52.77203965,  96.10189542,  48.89364785, ...,  60.33606808,  46.13155021, 109.37123619],\n",
       "       [ 61.0544603 , 100.887726  ,  57.73515181, ...,  67.69933579,  55.41551118, 113.59941135]])"
      ]
     },
     "execution_count": 8,
     "metadata": {},
     "output_type": "execute_result"
    }
   ],
   "source": [
    "# create distance matrix\n",
    "eucl = lambda x1, x2, y1, y2: ((x1 - x2)**2 + (y1 - y2)**2)**0.5\n",
    "\n",
    "i_loc = i_data[['X', 'Y']].to_numpy()\n",
    "j_loc = j_data[['X', 'Y']].to_numpy()\n",
    "\n",
    "dist_ij = np.array([np.array([eucl(i[0],i[1],j[0],j[1]) for j in j_loc]) for i in i_loc])\n",
    "dist_ij"
   ]
  },
  {
   "cell_type": "code",
   "execution_count": 9,
   "id": "8613a881",
   "metadata": {},
   "outputs": [
    {
     "name": "stdout",
     "output_type": "stream",
     "text": [
      "Done\n"
     ]
    }
   ],
   "source": [
    "# save new data to files\n",
    "with pd.ExcelWriter('data.xlsx', mode='w') as writer:\n",
    "    i_data.to_excel(writer, sheet_name='i_data', index=False)\n",
    "    j_data.to_excel(writer, sheet_name='j_data', index=False)\n",
    "    pd.DataFrame(dist_ij).to_excel(writer, sheet_name='dist_ij', index=False)\n",
    "    \n",
    "print('Done')"
   ]
  }
 ],
 "metadata": {
  "kernelspec": {
   "display_name": "Python 3 (ipykernel)",
   "language": "python",
   "name": "python3"
  },
  "language_info": {
   "codemirror_mode": {
    "name": "ipython",
    "version": 3
   },
   "file_extension": ".py",
   "mimetype": "text/x-python",
   "name": "python",
   "nbconvert_exporter": "python",
   "pygments_lexer": "ipython3",
   "version": "3.9.7"
  }
 },
 "nbformat": 4,
 "nbformat_minor": 5
}
