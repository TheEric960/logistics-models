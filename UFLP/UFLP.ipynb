{
 "cells": [
  {
   "cell_type": "markdown",
   "id": "3c10bd9c",
   "metadata": {},
   "source": [
    "### (UFLP) Uncapacitated Fixed-Charge Location Problem\n",
    "- Find the number and location of facilities to minimize the total costs.\n",
    "- Costs include the fixed charge of facilities and transportation costs of customers.\n",
    "- Sets:\n",
    "    - $I$: set of customers\n",
    "    - $J$: set of candidate facility locations\n",
    "- Parameters:\n",
    "    - $c_{ij}$: cost to travel between customer $i$ and candidate facility at $j$\n",
    "    - $h_i$: demand at customer $i$ (annual)\n",
    "    - $f_j$: fixed charge at location $j$ (annual)\n",
    "    - $\\alpha$: transportation cost\n",
    "- Decision variables:\n",
    "    - $x_j=\\begin{cases}\n",
    "            1, \\quad\\text{if a facility is installed at } j\\\\\n",
    "            0, \\quad\\text{O.W.}\n",
    "        \\end{cases}\n",
    "        $\n",
    "    - $y_{ij}=\\begin{cases}\n",
    "            1, \\quad\\text{if customer } i \\text{ is covered by a facility at } j\\\\\n",
    "            0, \\quad\\text{O.W.}\n",
    "        \\end{cases}\n",
    "        $\n",
    "        \n",
    "<br>\n",
    "\n",
    "$\n",
    "\\begin{split}\n",
    "&\\text{(UFLP)}\\quad & \\text{minimize}\\quad \\sum\\limits_{j\\in J}f_{j}x_{j} + \\alpha\\sum\\limits_{i\\in I}\\sum\\limits_{j\\in J}h_{i}c_{ij}y_{ij}\\\\\n",
    "&&\\begin{split}\n",
    "\\text{subject to}\\quad \\sum\\limits_{j\\in J}&y_{ij}=1 & \\forall i\\in I\\\\\n",
    "    & y_{ij}\\le x_{j}                & \\forall i\\in I, \\forall j\\in J\\\\\n",
    "    & x_{j}\\in \\{0, 1\\}              & \\forall j\\in J\\\\\n",
    "    & y_{ij}\\in \\{0, 1\\}\\quad\\quad   & \\forall i\\in I, \\forall j\\in J\\\\\n",
    "\\end{split}\n",
    "\\end{split}\n",
    "$"
   ]
  },
  {
   "cell_type": "code",
   "execution_count": 1,
   "id": "a2df1d64",
   "metadata": {},
   "outputs": [],
   "source": [
    "# import libraries\n",
    "import numpy as np\n",
    "import matplotlib.pyplot as plt\n",
    "import pandas as pd\n",
    "import seaborn as sns\n",
    "\n",
    "from scipy import stats\n",
    "from gurobipy import Model, GRB, quicksum\n",
    "%matplotlib inline"
   ]
  },
  {
   "cell_type": "code",
   "execution_count": 2,
   "id": "a85b0eae",
   "metadata": {},
   "outputs": [],
   "source": [
    "# settings\n",
    "sns.reset_orig\n",
    "sns.set_style('darkgrid')\n",
    "sns.set_palette('Set1')\n",
    "\n",
    "np.set_printoptions(linewidth=200)"
   ]
  },
  {
   "cell_type": "code",
   "execution_count": 3,
   "id": "83b6fa85",
   "metadata": {},
   "outputs": [],
   "source": [
    "# import data\n",
    "i_data = pd.read_excel('data.xlsx', sheet_name='i_data')\n",
    "j_data = pd.read_excel('data.xlsx', sheet_name='j_data')\n",
    "dist_ij = pd.read_excel('data.xlsx', sheet_name='dist_ij').values"
   ]
  },
  {
   "cell_type": "code",
   "execution_count": 4,
   "id": "f89325c6",
   "metadata": {},
   "outputs": [],
   "source": [
    "# declare the parameters and sets\n",
    "h = i_data['Demand'].values\n",
    "f = j_data['Fixed Charge'].values\n",
    "\n",
    "I = [i for i in range(len(h))]\n",
    "J = [j for j in range(len(f))]\n",
    "A = [(i, j) for i in I for j in J]\n",
    "\n",
    "c = {(i, j): dist_ij[i, j] for (i, j) in A}\n",
    "\n",
    "a = 0.3"
   ]
  },
  {
   "cell_type": "code",
   "execution_count": 5,
   "id": "01a0d2d7",
   "metadata": {},
   "outputs": [
    {
     "name": "stdout",
     "output_type": "stream",
     "text": [
      "Academic license - for non-commercial use only - expires 2022-08-28\n",
      "Using license file C:\\Users\\jack4\\gurobi.lic\n"
     ]
    }
   ],
   "source": [
    "# create model\n",
    "mdl = Model('UFLP')"
   ]
  },
  {
   "cell_type": "code",
   "execution_count": 6,
   "id": "5e07fc31",
   "metadata": {},
   "outputs": [],
   "source": [
    "# add model variables\n",
    "x = mdl.addVars(J, vtype=GRB.BINARY)\n",
    "y = mdl.addVars(A, vtype=GRB.BINARY)"
   ]
  },
  {
   "cell_type": "code",
   "execution_count": 7,
   "id": "8db35570",
   "metadata": {},
   "outputs": [],
   "source": [
    "# add objective function\n",
    "mdl.ModelSense = GRB.MINIMIZE\n",
    "mdl.setObjective(quicksum(f[j]*x[j] for j in J) + a * quicksum(h[i]*c[i,j]*y[i,j] for i,j in A))"
   ]
  },
  {
   "cell_type": "code",
   "execution_count": 8,
   "id": "cc5d62ed",
   "metadata": {},
   "outputs": [],
   "source": [
    "# add the model constraints\n",
    "mdl.addConstrs(quicksum(y[i,j] for j in J) == 1 for i in I)\n",
    "mdl.addConstrs(y[i,j] <= x[j] for i,j in A)\n",
    "mdl.update()"
   ]
  },
  {
   "cell_type": "code",
   "execution_count": 9,
   "id": "15d7e183",
   "metadata": {},
   "outputs": [
    {
     "name": "stdout",
     "output_type": "stream",
     "text": [
      "Gurobi Optimizer version 9.1.2 build v9.1.2rc0 (win64)\n",
      "Thread count: 8 physical cores, 16 logical processors, using up to 16 threads\n",
      "Optimize a model with 2100 rows, 2020 columns and 6000 nonzeros\n",
      "Model fingerprint: 0xe6a00944\n",
      "Variable types: 0 continuous, 2020 integer (2020 binary)\n",
      "Coefficient statistics:\n",
      "  Matrix range     [1e+00, 1e+00]\n",
      "  Objective range  [7e+00, 1e+04]\n",
      "  Bounds range     [1e+00, 1e+00]\n",
      "  RHS range        [1e+00, 1e+00]\n",
      "Found heuristic solution: objective 420978.92595\n",
      "Presolve time: 0.01s\n",
      "Presolved: 2100 rows, 2020 columns, 6000 nonzeros\n",
      "Variable types: 0 continuous, 2020 integer (2020 binary)\n",
      "\n",
      "Root relaxation: objective 1.209925e+05, 405 iterations, 0.00 seconds\n",
      "\n",
      "    Nodes    |    Current Node    |     Objective Bounds      |     Work\n",
      " Expl Unexpl |  Obj  Depth IntInf | Incumbent    BestBd   Gap | It/Node Time\n",
      "\n",
      "*    0     0               0    120992.54814 120992.548  0.00%     -    0s\n",
      "\n",
      "Explored 0 nodes (405 simplex iterations) in 0.03 seconds\n",
      "Thread count was 16 (of 16 available processors)\n",
      "\n",
      "Solution count 2: 120993 420979 \n",
      "\n",
      "Optimal solution found (tolerance 1.00e-04)\n",
      "Best objective 1.209925481434e+05, best bound 1.209925481434e+05, gap 0.0000%\n",
      "Wall time: 31 ms\n"
     ]
    }
   ],
   "source": [
    "%%time\n",
    "\n",
    "# optimize\n",
    "mdl.optimize()"
   ]
  },
  {
   "cell_type": "code",
   "execution_count": 10,
   "id": "825b8a16",
   "metadata": {},
   "outputs": [],
   "source": [
    "# opened locations and covered customers\n",
    "opened = [j for j in J if x[j].X > 0.0]\n",
    "covered = [a for a in A if y[a].X > 0.0]"
   ]
  },
  {
   "cell_type": "code",
   "execution_count": 11,
   "id": "7de53a31",
   "metadata": {},
   "outputs": [],
   "source": [
    "# update the dataframes\n",
    "i_data['Covered'] = [a[1] for a in A if y[a].X > 0.0]\n",
    "j_data['Opened'] = [int(x[j].X > 0.0) for j in J]"
   ]
  },
  {
   "cell_type": "code",
   "execution_count": 12,
   "id": "05461a8f",
   "metadata": {},
   "outputs": [
    {
     "data": {
      "text/plain": [
       "Text(0.5, 1.0, 'Facilities Chosen')"
      ]
     },
     "execution_count": 12,
     "metadata": {},
     "output_type": "execute_result"
    },
    {
     "data": {
      "image/png": "[encoded data removed]",
      "text/plain": [
       "<Figure size 720x720 with 1 Axes>"
      ]
     },
     "metadata": {},
     "output_type": "display_data"
    }
   ],
   "source": [
    "# plot the station locations\n",
    "fig, ax = plt.subplots(figsize=(10,10))\n",
    "s = [100 if i == 1 else 50 for i in j_data['Opened'].values]\n",
    "sns.scatterplot(x='X', y='Y', data=j_data, hue='Opened', palette=['grey', 'red'], style='Opened', markers=('X', '^'), s=s)\n",
    "plt.title('Facilities Chosen')"
   ]
  },
  {
   "cell_type": "code",
   "execution_count": 13,
   "id": "2883f26a",
   "metadata": {},
   "outputs": [
    {
     "data": {
      "text/plain": [
       "Text(0.5, 1.0, 'Facility Coverage')"
      ]
     },
     "execution_count": 13,
     "metadata": {},
     "output_type": "execute_result"
    },
    {
     "data": {
      "image/png": "[encoded data removed]",
      "text/plain": [
       "<Figure size 720x720 with 1 Axes>"
      ]
     },
     "metadata": {},
     "output_type": "display_data"
    }
   ],
   "source": [
    "# plot the customer coverage\n",
    "fig, ax = plt.subplots(figsize=(10,10))\n",
    "sns.scatterplot(x='X', y='Y', data=i_data, size=1, legend=False, label=\"Customer\")\n",
    "sns.scatterplot(x='X', y='Y', data=j_data[j_data['Opened'] == 1], s=100, color='black', marker='^', label=\"Facility\")\n",
    "plt.title('Facility Coverage')"
   ]
  },
  {
   "cell_type": "code",
   "execution_count": 14,
   "id": "f7b34ed3",
   "metadata": {},
   "outputs": [
    {
     "name": "stdout",
     "output_type": "stream",
     "text": [
      "Facility cost =  36246.82258392695\n",
      "Transportation cost =  84745.72555945715\n",
      "Objective value =  120992.5481433841\n"
     ]
    }
   ],
   "source": [
    "# find objective value\n",
    "fac_cost = sum([f[j]*x[j].X for j in J])\n",
    "trans_cost = a * sum([h[i]*c[i,j] for i,j in covered])\n",
    "obj_val = fac_cost + trans_cost\n",
    "\n",
    "print('Facility cost = ', fac_cost)\n",
    "print('Transportation cost = ', trans_cost)\n",
    "print('Objective value = ', obj_val)"
   ]
  }
 ],
 "metadata": {
  "kernelspec": {
   "display_name": "Python 3 (ipykernel)",
   "language": "python",
   "name": "python3"
  },
  "language_info": {
   "codemirror_mode": {
    "name": "ipython",
    "version": 3
   },
   "file_extension": ".py",
   "mimetype": "text/x-python",
   "name": "python",
   "nbconvert_exporter": "python",
   "pygments_lexer": "ipython3",
   "version": "3.9.7"
  }
 },
 "nbformat": 4,
 "nbformat_minor": 5
}
