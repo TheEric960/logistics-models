{
 "cells": [
  {
   "cell_type": "markdown",
   "id": "b71e8664",
   "metadata": {},
   "source": [
    "### (SPP) Shortest Path Problem\n",
    "- Find the shortest path from a specified node $s\\in N$ to another node $t\\in N$\n",
    "- Sets:\n",
    "    - $N$: set of nodes\n",
    "    - $A$: set of arcs\n",
    "- Parameters:\n",
    "    - $c_{ij}$: cost of traversing arc $(i,j)\\in A$\n",
    "- Decision variables:\n",
    "    - $X_{(i,j)}=1$, if arc $(i,j)$ is on the shortest path from node $s\\in N$ to node $t\\in N$; or 0, O.W.\n",
    "\n",
    "<br>\n",
    "\n",
    "$$\n",
    "\\begin{split}\n",
    "\\text{(SPP)}\\quad & \\text{minimize}\\quad \\sum\\limits_{i\\in I}\\sum\\limits_{j\\in J}c_{ij}X_{ij}\\\\\n",
    "&\\begin{split}\n",
    "\\text{subject to}\\quad\\quad \\sum\\limits_{j\\in B_i}&X_{(j,i)}-\\sum\\limits_{j\\in A_i}X_{(i,k)}=\\begin{cases}-1 \\text{ }&\\text{if node }i=s\\\\0 &i\\in N,i\\ne s,i\\ne t\\\\1 &\\text{if node }i=t\\end{cases} \\quad\\quad&\\forall i\\in N\\\\\n",
    "        &X_{ij}\\in \\{0,1\\} \\quad\\quad\\forall (i,j)\\in A\\\\ \n",
    "\\end{split}\n",
    "\\end{split}\n",
    "$$"
   ]
  },
  {
   "cell_type": "code",
   "execution_count": 1,
   "id": "71d04f71",
   "metadata": {},
   "outputs": [],
   "source": [
    "# import libraries\n",
    "import numpy as np\n",
    "import matplotlib.pyplot as plt\n",
    "import pandas as pd\n",
    "import seaborn as sns\n",
    "\n",
    "from statistics import mean\n",
    "from gurobipy import Model, GRB, quicksum\n",
    "%matplotlib inline"
   ]
  },
  {
   "cell_type": "code",
   "execution_count": 2,
   "id": "3e56dc8e",
   "metadata": {},
   "outputs": [],
   "source": [
    "# settings\n",
    "sns.reset_orig\n",
    "sns.set_style('darkgrid')\n",
    "sns.set_palette('Set1')\n",
    "\n",
    "np.set_printoptions(linewidth=200)"
   ]
  },
  {
   "cell_type": "code",
   "execution_count": 3,
   "id": "4bfb2568",
   "metadata": {},
   "outputs": [],
   "source": [
    "# import data\n",
    "points = pd.read_excel('data.xlsx', sheet_name='points')\n",
    "links = pd.read_excel('data.xlsx', sheet_name='links')"
   ]
  },
  {
   "cell_type": "code",
   "execution_count": 4,
   "id": "c0097c30",
   "metadata": {},
   "outputs": [
    {
     "name": "stdout",
     "output_type": "stream",
     "text": [
      "(0.0, 0.0) -> (2.0, 2.0)\n"
     ]
    }
   ],
   "source": [
    "# declare the parameters and sets\n",
    "N = [tuple(v) for v in points.values]\n",
    "I = [i for i in range(len(N))]\n",
    "\n",
    "A = [(i,j) for i in I for j in I]\n",
    "\n",
    "c = {(i,j): links['Cost'].sum() + 1 for i,j in A}\n",
    "c.update({\n",
    "    (row['P1'], row['P2']): row['Cost'] \n",
    "    for index, row in links.iterrows()\n",
    "})\n",
    "\n",
    "s = 0\n",
    "t = len(N) - 1\n",
    "print(N[s],'->',N[t])"
   ]
  },
  {
   "cell_type": "code",
   "execution_count": 5,
   "id": "1e31f291",
   "metadata": {},
   "outputs": [
    {
     "name": "stdout",
     "output_type": "stream",
     "text": [
      "Academic license - for non-commercial use only - expires 2022-08-28\n",
      "Using license file C:\\Users\\jack4\\gurobi.lic\n"
     ]
    }
   ],
   "source": [
    "# create model\n",
    "mdl = Model('SPP')"
   ]
  },
  {
   "cell_type": "code",
   "execution_count": 6,
   "id": "48bbca1e",
   "metadata": {},
   "outputs": [],
   "source": [
    "# add model variables\n",
    "X = mdl.addVars(A, vtype=GRB.BINARY)"
   ]
  },
  {
   "cell_type": "code",
   "execution_count": 7,
   "id": "b7250664",
   "metadata": {},
   "outputs": [],
   "source": [
    "# add objective function\n",
    "mdl.ModelSense = GRB.MINIMIZE\n",
    "mdl.setObjective(quicksum(c[i,j]*X[i,j] for i,j in A))"
   ]
  },
  {
   "cell_type": "code",
   "execution_count": 8,
   "id": "a84fb0f2",
   "metadata": {},
   "outputs": [],
   "source": [
    "# add the model constraints\n",
    "mdl.addConstrs(\n",
    "    quicksum(X[j[0],i] for j in A if j[1] == i) \n",
    "    - quicksum(X[i,k[1]] for k in A if k[0] == i) \n",
    "    == -1 \n",
    "    for i in I if i == s\n",
    ")\n",
    "mdl.addConstrs(\n",
    "    quicksum(X[j[0],i] for j in A if j[1] == i) \n",
    "    - quicksum(X[i,k[1]] for k in A if k[0] == i) \n",
    "    == 0 \n",
    "    for i in I if s != i != t\n",
    ")\n",
    "mdl.addConstrs(\n",
    "    quicksum(X[j[0],i] for j in A if j[1] == i) \n",
    "    - quicksum(X[i,k[1]] for k in A if k[0] == i) \n",
    "    == 1 \n",
    "    for i in I if i == t\n",
    ")\n",
    "mdl.update()"
   ]
  },
  {
   "cell_type": "code",
   "execution_count": 9,
   "id": "838c8511",
   "metadata": {},
   "outputs": [
    {
     "name": "stdout",
     "output_type": "stream",
     "text": [
      "Gurobi Optimizer version 9.1.2 build v9.1.2rc0 (win64)\n",
      "Thread count: 8 physical cores, 16 logical processors, using up to 16 threads\n",
      "Optimize a model with 13 rows, 169 columns and 312 nonzeros\n",
      "Model fingerprint: 0x7c658640\n",
      "Variable types: 0 continuous, 169 integer (169 binary)\n",
      "Coefficient statistics:\n",
      "  Matrix range     [1e+00, 1e+00]\n",
      "  Objective range  [3e+00, 5e+02]\n",
      "  Bounds range     [1e+00, 1e+00]\n",
      "  RHS range        [1e+00, 1e+00]\n",
      "Found heuristic solution: objective 535.0000000\n",
      "Presolve removed 0 rows and 13 columns\n",
      "Presolve time: 0.01s\n",
      "Presolved: 13 rows, 156 columns, 312 nonzeros\n",
      "Variable types: 0 continuous, 156 integer (156 binary)\n",
      "\n",
      "Root relaxation: objective 3.000000e+01, 10 iterations, 0.00 seconds\n",
      "\n",
      "    Nodes    |    Current Node    |     Objective Bounds      |     Work\n",
      " Expl Unexpl |  Obj  Depth IntInf | Incumbent    BestBd   Gap | It/Node Time\n",
      "\n",
      "*    0     0               0      30.0000000   30.00000  0.00%     -    0s\n",
      "\n",
      "Explored 1 nodes (10 simplex iterations) in 0.04 seconds\n",
      "Thread count was 16 (of 16 available processors)\n",
      "\n",
      "Solution count 2: 30 535 \n",
      "\n",
      "Optimal solution found (tolerance 1.00e-04)\n",
      "Best objective 3.000000000000e+01, best bound 3.000000000000e+01, gap 0.0000%\n",
      "Wall time: 40.2 ms\n"
     ]
    }
   ],
   "source": [
    "%%time\n",
    "\n",
    "# optimize\n",
    "mdl.optimize()"
   ]
  },
  {
   "cell_type": "code",
   "execution_count": 10,
   "id": "f648687a",
   "metadata": {},
   "outputs": [
    {
     "data": {
      "text/plain": [
       "{(0, 1): 9, (1, 4): 5, (4, 7): 4, (7, 12): 12}"
      ]
     },
     "execution_count": 10,
     "metadata": {},
     "output_type": "execute_result"
    }
   ],
   "source": [
    "# get the route\n",
    "route = {(i,j): c[i,j] for i,j in A if X[i,j].X > 0}\n",
    "route"
   ]
  },
  {
   "cell_type": "code",
   "execution_count": 11,
   "id": "2733e16e",
   "metadata": {},
   "outputs": [
    {
     "data": {
      "text/plain": [
       "Text(0.5, 1.0, 'Shortest Path')"
      ]
     },
     "execution_count": 11,
     "metadata": {},
     "output_type": "execute_result"
    },
    {
     "data": {
      "image/png": "[encoded data removed]",
      "text/plain": [
       "<Figure size 720x720 with 1 Axes>"
      ]
     },
     "metadata": {},
     "output_type": "display_data"
    }
   ],
   "source": [
    "# plot the coverage\n",
    "fig, ax = plt.subplots(figsize=(10,10))\n",
    "sns.scatterplot(x='X', y='Y', data=points, s=50, legend=False, label=\"Locations\")\n",
    "\n",
    "for path, nb in route.items():\n",
    "    point1 = N[path[0]]\n",
    "    point2 = N[path[1]]\n",
    "    x_values = [point1[0], point2[0]]\n",
    "    y_values = [point1[1], point2[1]]\n",
    "    \n",
    "    plt.plot(x_values, y_values, 'k', linestyle=\"-\", zorder=0)\n",
    "    plt.text(\n",
    "        mean(x_values), mean(y_values), nb, backgroundcolor='#eaeaf2',\n",
    "        horizontalalignment='center', verticalalignment='center'\n",
    "    )\n",
    "\n",
    "plt.title('Shortest Path')"
   ]
  },
  {
   "cell_type": "code",
   "execution_count": 12,
   "id": "f60b45aa",
   "metadata": {},
   "outputs": [
    {
     "name": "stdout",
     "output_type": "stream",
     "text": [
      "Objective value = 30.0\n"
     ]
    }
   ],
   "source": [
    "# find objective value\n",
    "print('Objective value =', sum(c[a]*X[a].X for a in A))"
   ]
  }
 ],
 "metadata": {
  "kernelspec": {
   "display_name": "Python 3 (ipykernel)",
   "language": "python",
   "name": "python3"
  },
  "language_info": {
   "codemirror_mode": {
    "name": "ipython",
    "version": 3
   },
   "file_extension": ".py",
   "mimetype": "text/x-python",
   "name": "python",
   "nbconvert_exporter": "python",
   "pygments_lexer": "ipython3",
   "version": "3.9.7"
  }
 },
 "nbformat": 4,
 "nbformat_minor": 5
}
