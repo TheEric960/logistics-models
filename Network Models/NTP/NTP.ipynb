{
 "cells": [
  {
   "cell_type": "markdown",
   "id": "b71e8664",
   "metadata": {},
   "source": [
    "### (NTP) Network Transportation Problem\n",
    "- Find the shipment patterns from supply points to demand points such that all demands are satisfied and the total cost is minimized.\n",
    "- Sets:\n",
    "    - $I$: set of suppliers\n",
    "    - $J$: set of demand points\n",
    "- Parameters:\n",
    "    - $c_{ij}$: unit cost of shipping from supply node $i\\in I$ to demand node $j\\in J$\n",
    "    - $S_i$: supply at node $i\\in I$\n",
    "    - $D_j$: demand node at $j\\in J$\n",
    "- Decision variables:\n",
    "    - $X_{ij}=$ the amount shipped from supply node $i\\in I$ to demand node $j\\in J$\n",
    "\n",
    "<br>\n",
    "\n",
    "$$\n",
    "\\begin{split}\n",
    "\\text{(NTP)}\\quad & \\text{minimize}\\quad \\sum\\limits_{i\\in I}\\sum\\limits_{j\\in J}c_{ij}X_{ij}\\\\\n",
    "&\\begin{split}\n",
    "\\text{subject to}\\quad\\quad \\sum\\limits_{j\\in J}&X_{ij}\\le S_{i} &\\forall i\\in I\\\\\n",
    "   \\sum\\limits_{i\\in I}&X_{ij}\\ge D_{j} \\quad\\quad&\\forall j\\in J\\\\\n",
    "                       &X_{ij}\\ge 0     &\\forall i\\in I, \\forall j\\in J\\\\ \n",
    "\\end{split}\n",
    "\\end{split}\n",
    "$$"
   ]
  },
  {
   "cell_type": "code",
   "execution_count": 1,
   "id": "71d04f71",
   "metadata": {},
   "outputs": [],
   "source": [
    "# import libraries\n",
    "import numpy as np\n",
    "import matplotlib.pyplot as plt\n",
    "import pandas as pd\n",
    "import seaborn as sns\n",
    "\n",
    "from statistics import mean\n",
    "from scipy import stats\n",
    "from gurobipy import Model, GRB, quicksum\n",
    "%matplotlib inline"
   ]
  },
  {
   "cell_type": "code",
   "execution_count": 2,
   "id": "3e56dc8e",
   "metadata": {},
   "outputs": [],
   "source": [
    "# settings\n",
    "sns.reset_orig\n",
    "sns.set_style('darkgrid')\n",
    "sns.set_palette('Set1')\n",
    "\n",
    "np.set_printoptions(linewidth=200)"
   ]
  },
  {
   "cell_type": "code",
   "execution_count": 3,
   "id": "4bfb2568",
   "metadata": {},
   "outputs": [],
   "source": [
    "# import data\n",
    "i_data = pd.read_excel('data.xlsx', sheet_name='i_data')\n",
    "j_data = pd.read_excel('data.xlsx', sheet_name='j_data')\n",
    "dist_ij = pd.read_excel('data.xlsx', sheet_name='dist_ij').values"
   ]
  },
  {
   "cell_type": "code",
   "execution_count": 4,
   "id": "c0097c30",
   "metadata": {},
   "outputs": [],
   "source": [
    "# declare the parameters and sets\n",
    "S = i_data['Supply'].values\n",
    "D = j_data['Demand'].values\n",
    "\n",
    "I = [i for i in range(len(S))]\n",
    "J = [j for j in range(len(D))]\n",
    "A = [(i, j) for i in I for j in J]\n",
    "\n",
    "cost = 2\n",
    "c = {(i, j): dist_ij[i, j]*2 for (i, j) in A}"
   ]
  },
  {
   "cell_type": "code",
   "execution_count": 5,
   "id": "1e31f291",
   "metadata": {},
   "outputs": [
    {
     "name": "stdout",
     "output_type": "stream",
     "text": [
      "Academic license - for non-commercial use only - expires 2022-08-28\n",
      "Using license file C:\\Users\\jack4\\gurobi.lic\n"
     ]
    }
   ],
   "source": [
    "# create model\n",
    "mdl = Model('NTP')"
   ]
  },
  {
   "cell_type": "code",
   "execution_count": 6,
   "id": "48bbca1e",
   "metadata": {},
   "outputs": [],
   "source": [
    "# add model variables\n",
    "X = mdl.addVars(A)"
   ]
  },
  {
   "cell_type": "code",
   "execution_count": 7,
   "id": "b7250664",
   "metadata": {},
   "outputs": [],
   "source": [
    "# add objective function\n",
    "mdl.ModelSense = GRB.MINIMIZE\n",
    "mdl.setObjective(quicksum(c[i,j]*X[i,j] for i,j in A))"
   ]
  },
  {
   "cell_type": "code",
   "execution_count": 8,
   "id": "a84fb0f2",
   "metadata": {},
   "outputs": [],
   "source": [
    "# add the model constraints\n",
    "mdl.addConstrs(quicksum(X[i,j] for j in J) <= S[i] for i in I)\n",
    "mdl.addConstrs(quicksum(X[i,j] for i in I) >= D[j] for j in J)\n",
    "mdl.addConstrs(X[i,j] >= 0 for i,j in A)\n",
    "mdl.update()"
   ]
  },
  {
   "cell_type": "code",
   "execution_count": 9,
   "id": "838c8511",
   "metadata": {},
   "outputs": [
    {
     "name": "stdout",
     "output_type": "stream",
     "text": [
      "Gurobi Optimizer version 9.1.2 build v9.1.2rc0 (win64)\n",
      "Thread count: 8 physical cores, 16 logical processors, using up to 16 threads\n",
      "Optimize a model with 34 rows, 24 columns and 72 nonzeros\n",
      "Model fingerprint: 0x62d53ee1\n",
      "Coefficient statistics:\n",
      "  Matrix range     [1e+00, 1e+00]\n",
      "  Objective range  [1e+01, 1e+02]\n",
      "  Bounds range     [0e+00, 0e+00]\n",
      "  RHS range        [5e+01, 5e+02]\n",
      "Presolve removed 24 rows and 0 columns\n",
      "Presolve time: 0.00s\n",
      "Presolved: 10 rows, 24 columns, 48 nonzeros\n",
      "\n",
      "Iteration    Objective       Primal Inf.    Dual Inf.      Time\n",
      "       0    0.0000000e+00   5.937500e+01   0.000000e+00      0s\n",
      "       6    1.2989607e+04   0.000000e+00   0.000000e+00      0s\n",
      "\n",
      "Solved in 6 iterations and 0.00 seconds\n",
      "Optimal objective  1.298960672e+04\n",
      "Wall time: 6.98 ms\n"
     ]
    }
   ],
   "source": [
    "%%time\n",
    "\n",
    "# optimize\n",
    "mdl.optimize()"
   ]
  },
  {
   "cell_type": "code",
   "execution_count": 10,
   "id": "f648687a",
   "metadata": {},
   "outputs": [
    {
     "data": {
      "text/plain": [
       "{(0, 2): 53.0,\n",
       " (1, 3): 76.0,\n",
       " (1, 4): 86.0,\n",
       " (2, 0): 81.0,\n",
       " (3, 1): 80.0,\n",
       " (3, 5): 99.0}"
      ]
     },
     "execution_count": 10,
     "metadata": {},
     "output_type": "execute_result"
    }
   ],
   "source": [
    "# get amount shipped to each location\n",
    "shipped = {(i,j): X[i,j].X for i,j in A if X[i,j].X > 0}\n",
    "shipped"
   ]
  },
  {
   "cell_type": "code",
   "execution_count": 11,
   "id": "2733e16e",
   "metadata": {},
   "outputs": [
    {
     "data": {
      "text/plain": [
       "Text(0.5, 1.0, 'Demand Coverage')"
      ]
     },
     "execution_count": 11,
     "metadata": {},
     "output_type": "execute_result"
    },
    {
     "data": {
      "image/png": "[encoded data removed]",
      "text/plain": [
       "<Figure size 720x720 with 1 Axes>"
      ]
     },
     "metadata": {},
     "output_type": "display_data"
    }
   ],
   "source": [
    "# plot the coverage\n",
    "fig, ax = plt.subplots(figsize=(10,10))\n",
    "sns.scatterplot(x='X', y='Y', data=j_data, s=50, legend=False, label=\"Demand\")\n",
    "sns.scatterplot(x='X', y='Y', data=i_data, s=150, color='black', marker='^', label=\"Supply\")\n",
    "\n",
    "for path, nb in shipped.items():\n",
    "    point1 = [i_data['X'][path[0]], i_data['Y'][path[0]]]\n",
    "    point2 = [j_data['X'][path[1]], j_data['Y'][path[1]]]\n",
    "    x_values = [point1[0], point2[0]]\n",
    "    y_values = [point1[1], point2[1]]\n",
    "    \n",
    "    plt.plot(x_values, y_values, 'r', linestyle=\":\", zorder=0)\n",
    "    plt.text(\n",
    "        mean(x_values), mean(y_values), str(nb), backgroundcolor='#eaeaf2',\n",
    "        horizontalalignment='center', verticalalignment='center'\n",
    "    )\n",
    "\n",
    "plt.title('Demand Coverage')"
   ]
  },
  {
   "cell_type": "code",
   "execution_count": 12,
   "id": "f60b45aa",
   "metadata": {},
   "outputs": [
    {
     "name": "stdout",
     "output_type": "stream",
     "text": [
      "Objective value = 12989.606720211896\n"
     ]
    }
   ],
   "source": [
    "# find objective value\n",
    "print('Objective value =', sum(c[a]*X[a].X for a in A))"
   ]
  }
 ],
 "metadata": {
  "kernelspec": {
   "display_name": "Python 3 (ipykernel)",
   "language": "python",
   "name": "python3"
  },
  "language_info": {
   "codemirror_mode": {
    "name": "ipython",
    "version": 3
   },
   "file_extension": ".py",
   "mimetype": "text/x-python",
   "name": "python",
   "nbconvert_exporter": "python",
   "pygments_lexer": "ipython3",
   "version": "3.9.7"
  }
 },
 "nbformat": 4,
 "nbformat_minor": 5
}
