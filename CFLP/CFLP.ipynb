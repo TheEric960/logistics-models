{
 "cells": [
  {
   "cell_type": "markdown",
   "id": "dcafc505",
   "metadata": {},
   "source": [
    "### (CFLP) Capacitated Fixed-Charge Location Problem\n",
    "- Find the number and location of facilities to minimize the total costs.\n",
    "- Costs include the fixed charge of facilities and transportation cost of customers.\n",
    "- Sets:\n",
    "    - $I$: set of customers\n",
    "    - $J$: set of candidate facility locations\n",
    "- Parameters:\n",
    "    - $c_{ij}$: cost to travel between customer $i$ and candidate facility at $j$\n",
    "    - $h_i$: demand at customer $i$ (annual)\n",
    "    - $f_j$: fixed charge at location $j$ (annual)\n",
    "    - $v_j$: capacity at location $j$ (maximum dmeand that facility $j$ can serve per year)\n",
    "    - $\\alpha$: transportation cost\n",
    "- Decision variables:\n",
    "    - $x_j=\\begin{cases}\n",
    "            1, \\quad\\text{if a facility is installed at } j\\\\\n",
    "            0, \\quad\\text{O.W.}\n",
    "        \\end{cases}\n",
    "        $\n",
    "    - $y_{ij}=\\begin{cases}\n",
    "            1, \\quad\\text{if customer } i \\text{ is covered by a facility at } j\\\\\n",
    "            0, \\quad\\text{O.W.}\n",
    "        \\end{cases}\n",
    "        $\n",
    "\n",
    "<br>\n",
    "\n",
    "$\n",
    "\\begin{equation}\n",
    "\\begin{split}\n",
    "&\\text{(CFLP)}\\quad & \\text{minimize}\\quad \\sum\\limits_{j\\in J}f_{j}x_{j} + \\alpha\\sum\\limits_{i\\in I}\\sum\\limits_{j\\in J}h_{i}c_{ij}y_{ij}\\\\\n",
    "&&\\begin{split}\n",
    "\\text{subject to}\\quad\\quad \\sum\\limits_{j\\in J}&y_{ij} = 1 &\\forall i\\in I\\\\\n",
    "                          &y_{ij} \\le x_{j}             &\\forall i\\in I, \\forall j\\in J\\\\\n",
    "\\sum\\limits_{i\\in I}h_{i} &y_{ij} \\le v_{j}             &\\forall j\\in J\\\\\n",
    "                          &x_{j}\\in \\{0, 1\\}            &\\forall j\\in J\\\\\n",
    "                          &y_{ij}\\in \\{0, 1\\}\\quad\\quad &\\forall i\\in I, \\forall j\\in J\\\\ \n",
    "\\end{split}\n",
    "\\end{split}\n",
    "\\end{equation}\n",
    "$"
   ]
  },
  {
   "cell_type": "code",
   "execution_count": 1,
   "id": "a2df1d64",
   "metadata": {},
   "outputs": [],
   "source": [
    "# import libraries\n",
    "import numpy as np\n",
    "import matplotlib.pyplot as plt\n",
    "import pandas as pd\n",
    "import seaborn as sns\n",
    "\n",
    "from scipy import stats\n",
    "from gurobipy import Model, GRB, quicksum\n",
    "%matplotlib inline"
   ]
  },
  {
   "cell_type": "code",
   "execution_count": 2,
   "id": "a85b0eae",
   "metadata": {},
   "outputs": [],
   "source": [
    "# settings\n",
    "sns.reset_orig\n",
    "sns.set_style('darkgrid')\n",
    "sns.set_palette('Set1')\n",
    "\n",
    "np.set_printoptions(linewidth=200)"
   ]
  },
  {
   "cell_type": "code",
   "execution_count": 3,
   "id": "83b6fa85",
   "metadata": {},
   "outputs": [],
   "source": [
    "# import data\n",
    "i_data = pd.read_excel('data.xlsx', sheet_name='i_data')\n",
    "j_data = pd.read_excel('data.xlsx', sheet_name='j_data')\n",
    "dist_ij = pd.read_excel('data.xlsx', sheet_name='dist_ij').values"
   ]
  },
  {
   "cell_type": "code",
   "execution_count": 4,
   "id": "f89325c6",
   "metadata": {},
   "outputs": [],
   "source": [
    "# declare the parameters and sets\n",
    "h = i_data['Demand'].values\n",
    "f = j_data['Fixed Charge'].values\n",
    "v = j_data['Capacity'].values\n",
    "\n",
    "I = [i for i in range(len(h))]\n",
    "J = [j for j in range(len(f))]\n",
    "A = [(i, j) for i in I for j in J]\n",
    "\n",
    "c = {(i, j): dist_ij[i, j] for (i, j) in A}\n",
    "\n",
    "a = 0.3"
   ]
  },
  {
   "cell_type": "code",
   "execution_count": 5,
   "id": "01a0d2d7",
   "metadata": {},
   "outputs": [
    {
     "name": "stdout",
     "output_type": "stream",
     "text": [
      "Academic license - for non-commercial use only - expires 2022-08-28\n",
      "Using license file C:\\Users\\jack4\\gurobi.lic\n"
     ]
    }
   ],
   "source": [
    "# create model\n",
    "mdl = Model('CFLP')"
   ]
  },
  {
   "cell_type": "code",
   "execution_count": 6,
   "id": "5e07fc31",
   "metadata": {},
   "outputs": [],
   "source": [
    "# add model variables\n",
    "x = mdl.addVars(J, vtype=GRB.BINARY)\n",
    "y = mdl.addVars(A, vtype=GRB.BINARY)"
   ]
  },
  {
   "cell_type": "code",
   "execution_count": 7,
   "id": "8db35570",
   "metadata": {},
   "outputs": [],
   "source": [
    "# add objective function\n",
    "mdl.ModelSense = GRB.MINIMIZE\n",
    "mdl.setObjective(quicksum(f[j]*x[j] for j in J) + a * quicksum(h[i]*c[i,j]*y[i,j] for i,j in A))"
   ]
  },
  {
   "cell_type": "code",
   "execution_count": 8,
   "id": "cc5d62ed",
   "metadata": {},
   "outputs": [],
   "source": [
    "# add the model constraints\n",
    "mdl.addConstrs(quicksum(y[i,j] for j in J) == 1 for i in I)\n",
    "mdl.addConstrs(y[i,j] <= x[j] for i,j in A)\n",
    "mdl.addConstrs(quicksum(h[i]*y[i,j] for i in I) <= v[j] for j in J)\n",
    "mdl.update()"
   ]
  },
  {
   "cell_type": "code",
   "execution_count": 9,
   "id": "15d7e183",
   "metadata": {
    "scrolled": false
   },
   "outputs": [
    {
     "name": "stdout",
     "output_type": "stream",
     "text": [
      "Gurobi Optimizer version 9.1.2 build v9.1.2rc0 (win64)\n",
      "Thread count: 8 physical cores, 16 logical processors, using up to 16 threads\n",
      "Optimize a model with 2120 rows, 2020 columns and 8000 nonzeros\n",
      "Model fingerprint: 0x720ee0ca\n",
      "Variable types: 0 continuous, 2020 integer (2020 binary)\n",
      "Coefficient statistics:\n",
      "  Matrix range     [1e+00, 1e+02]\n",
      "  Objective range  [3e+00, 1e+04]\n",
      "  Bounds range     [1e+00, 1e+00]\n",
      "  RHS range        [1e+00, 1e+03]\n",
      "Found heuristic solution: objective 401430.02614\n",
      "Presolve time: 0.01s\n",
      "Presolved: 2120 rows, 2020 columns, 8000 nonzeros\n",
      "Variable types: 0 continuous, 2020 integer (2020 binary)\n",
      "\n",
      "Root relaxation: objective 1.323067e+05, 549 iterations, 0.01 seconds\n",
      "\n",
      "    Nodes    |    Current Node    |     Objective Bounds      |     Work\n",
      " Expl Unexpl |  Obj  Depth IntInf | Incumbent    BestBd   Gap | It/Node Time\n",
      "\n",
      "     0     0 132306.716    0  301 401430.026 132306.716  67.0%     -    0s\n",
      "H    0     0                    265056.59169 132306.716  50.1%     -    0s\n",
      "H    0     0                    177617.13454 132306.716  25.5%     -    0s\n",
      "H    0     0                    174851.22720 132306.716  24.3%     -    0s\n",
      "H    0     0                    174193.56026 132306.716  24.0%     -    0s\n",
      "     0     0 132705.326    0  294 174193.560 132705.326  23.8%     -    0s\n",
      "H    0     0                    165222.46253 132705.326  19.7%     -    0s\n",
      "     0     0 132717.111    0  294 165222.463 132717.111  19.7%     -    0s\n",
      "     0     0 135019.850    0  306 165222.463 135019.850  18.3%     -    0s\n",
      "     0     0 135123.570    0  285 165222.463 135123.570  18.2%     -    0s\n",
      "     0     0 135123.570    0  285 165222.463 135123.570  18.2%     -    0s\n",
      "     0     0 136999.785    0  337 165222.463 136999.785  17.1%     -    0s\n",
      "H    0     0                    164684.29146 136999.785  16.8%     -    0s\n",
      "     0     0 137027.566    0  312 164684.291 137027.566  16.8%     -    0s\n",
      "     0     0 137027.566    0  309 164684.291 137027.566  16.8%     -    0s\n",
      "     0     0 137644.302    0  324 164684.291 137644.302  16.4%     -    0s\n",
      "     0     0 137644.302    0  324 164684.291 137644.302  16.4%     -    0s\n",
      "     0     2 137644.302    0  324 164684.291 137644.302  16.4%     -    0s\n",
      "H   31    40                    160565.23446 137644.302  14.3%  94.9    0s\n",
      "H   32    40                    155647.32471 137644.302  11.6%  96.5    0s\n",
      "H   33    40                    153360.74234 137644.302  10.2%  97.9    0s\n",
      "H   83    91                    153320.03903 137644.302  10.2%  76.3    0s\n",
      "H  122   133                    153304.96393 137644.302  10.2%  73.2    0s\n",
      "H  123   133                    153300.64614 137644.302  10.2%  72.7    0s\n",
      "H  124   133                    153299.12052 137644.302  10.2%  72.9    0s\n",
      "H  849   722                    153200.81584 138269.468  9.75%  32.3    1s\n",
      "H 1514  1250                    153119.83987 138309.897  9.67%  27.2    1s\n",
      "  2452  1257     cutoff   48      153119.840 151893.511  0.80%  27.1    5s\n",
      "* 2854  1134              69    153074.30348 151893.511  0.77%  24.8    5s\n",
      "* 2859  1072              69    153070.50331 151893.511  0.77%  24.7    5s\n",
      "H 2862  1019                    152863.15827 151893.511  0.63%  24.7    5s\n",
      "* 4359   584              64    152847.02590 152574.870  0.18%  18.8    5s\n",
      "\n",
      "Cutting planes:\n",
      "  Gomory: 1\n",
      "  Cover: 2\n",
      "  MIR: 21\n",
      "  StrongCG: 10\n",
      "  Flow cover: 6\n",
      "  GUB cover: 3\n",
      "  Inf proof: 58\n",
      "  Zero half: 8\n",
      "\n",
      "Explored 7092 nodes (102982 simplex iterations) in 5.66 seconds\n",
      "Thread count was 16 (of 16 available processors)\n",
      "\n",
      "Solution count 10: 152847 152863 153071 ... 153320\n",
      "\n",
      "Optimal solution found (tolerance 1.00e-04)\n",
      "Best objective 1.528470258987e+05, best bound 1.528470258987e+05, gap 0.0000%\n",
      "Wall time: 5.66 s\n"
     ]
    }
   ],
   "source": [
    "%%time\n",
    "\n",
    "# optimize\n",
    "mdl.optimize()"
   ]
  },
  {
   "cell_type": "code",
   "execution_count": 10,
   "id": "825b8a16",
   "metadata": {},
   "outputs": [],
   "source": [
    "# opened locations and covered customers\n",
    "opened = [j for j in J if x[j].X > 0.0]\n",
    "covered = [a for a in A if y[a].X > 0.0]"
   ]
  },
  {
   "cell_type": "code",
   "execution_count": 11,
   "id": "7de53a31",
   "metadata": {},
   "outputs": [],
   "source": [
    "# update the dataframes\n",
    "i_data['Covered'] = [a[1] for a in A if y[a].X > 0.0]\n",
    "j_data['Opened'] = [int(x[j].X > 0.0) for j in J]"
   ]
  },
  {
   "cell_type": "code",
   "execution_count": 12,
   "id": "05461a8f",
   "metadata": {},
   "outputs": [
    {
     "data": {
      "text/plain": [
       "Text(0.5, 1.0, 'Facilities Chosen')"
      ]
     },
     "execution_count": 12,
     "metadata": {},
     "output_type": "execute_result"
    },
    {
     "data": {
      "image/png": "[encoded data removed]",
      "text/plain": [
       "<Figure size 720x720 with 1 Axes>"
      ]
     },
     "metadata": {},
     "output_type": "display_data"
    }
   ],
   "source": [
    "# plot the station locations\n",
    "fig, ax = plt.subplots(figsize=(10,10))\n",
    "s = [100 if i == 1 else 50 for i in j_data['Opened'].values]\n",
    "sns.scatterplot(x='X', y='Y', data=j_data, hue='Opened', palette=['grey', 'red'], style='Opened', markers=('X', '^'), s=s)\n",
    "plt.title('Facilities Chosen')"
   ]
  },
  {
   "cell_type": "code",
   "execution_count": 13,
   "id": "2883f26a",
   "metadata": {},
   "outputs": [
    {
     "data": {
      "text/plain": [
       "Text(0.5, 1.0, 'Facility Coverage')"
      ]
     },
     "execution_count": 13,
     "metadata": {},
     "output_type": "execute_result"
    },
    {
     "data": {
      "image/png": "[encoded data removed]",
      "text/plain": [
       "<Figure size 720x720 with 1 Axes>"
      ]
     },
     "metadata": {},
     "output_type": "display_data"
    }
   ],
   "source": [
    "# plot the customer coverage\n",
    "fig, ax = plt.subplots(figsize=(10,10))\n",
    "sns.scatterplot(x='X', y='Y', data=i_data, size=1, legend=False, label=\"Customer\")\n",
    "sns.scatterplot(x='X', y='Y', data=j_data[j_data['Opened'] == 1], s=100, color='black', marker='^', label=\"Facility\")\n",
    "plt.title('Facility Coverage')"
   ]
  },
  {
   "cell_type": "code",
   "execution_count": 14,
   "id": "f7b34ed3",
   "metadata": {},
   "outputs": [
    {
     "name": "stdout",
     "output_type": "stream",
     "text": [
      "Facility cost =  67380.40999312633\n",
      "Transportation cost =  85466.61590555446\n",
      "Objective value =  152847.0258986808\n"
     ]
    }
   ],
   "source": [
    "# find objective value\n",
    "fac_cost = sum([f[j]*x[j].X for j in J])\n",
    "trans_cost = a * sum([h[i]*c[i,j] for i,j in covered])\n",
    "obj_val = fac_cost + trans_cost\n",
    "\n",
    "print('Facility cost = ', fac_cost)\n",
    "print('Transportation cost = ', trans_cost)\n",
    "print('Objective value = ', obj_val)"
   ]
  }
 ],
 "metadata": {
  "kernelspec": {
   "display_name": "Python 3 (ipykernel)",
   "language": "python",
   "name": "python3"
  },
  "language_info": {
   "codemirror_mode": {
    "name": "ipython",
    "version": 3
   },
   "file_extension": ".py",
   "mimetype": "text/x-python",
   "name": "python",
   "nbconvert_exporter": "python",
   "pygments_lexer": "ipython3",
   "version": "3.9.7"
  }
 },
 "nbformat": 4,
 "nbformat_minor": 5
}
