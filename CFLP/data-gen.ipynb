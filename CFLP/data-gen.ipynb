{
 "cells": [
  {
   "cell_type": "code",
   "execution_count": 1,
   "id": "86fabd40",
   "metadata": {},
   "outputs": [],
   "source": [
    "# import libraries\n",
    "import time\n",
    "import random as r\n",
    "import numpy as np\n",
    "import matplotlib.pyplot as plt\n",
    "import pandas as pd\n",
    "import seaborn as sns\n",
    "\n",
    "%matplotlib inline"
   ]
  },
  {
   "cell_type": "code",
   "execution_count": 2,
   "id": "3da81b1e",
   "metadata": {},
   "outputs": [],
   "source": [
    "# settings\n",
    "sns.reset_orig\n",
    "sns.set_style('darkgrid')\n",
    "sns.set_palette('Set1')\n",
    "\n",
    "np.set_printoptions(linewidth=200)"
   ]
  },
  {
   "cell_type": "code",
   "execution_count": 3,
   "id": "69735952",
   "metadata": {},
   "outputs": [
    {
     "name": "stdout",
     "output_type": "stream",
     "text": [
      "Seeded at 1653242806.\n"
     ]
    }
   ],
   "source": [
    "# initialize the random state using a seed\n",
    "epoch = int(time.time())\n",
    "r.seed(epoch)\n",
    "\n",
    "print(f'Seeded at {epoch}.')"
   ]
  },
  {
   "cell_type": "code",
   "execution_count": 4,
   "id": "70fd9ec9",
   "metadata": {},
   "outputs": [],
   "source": [
    "# create random coordinate function (-100 < X < 100)\n",
    "rcoord = lambda: r.random() * 100 * (-1 if r.randrange(2) else 1)"
   ]
  },
  {
   "cell_type": "code",
   "execution_count": 5,
   "id": "9a27b338",
   "metadata": {},
   "outputs": [
    {
     "data": {
      "text/html": [
       "<div>\n",
       "<style scoped>\n",
       "    .dataframe tbody tr th:only-of-type {\n",
       "        vertical-align: middle;\n",
       "    }\n",
       "\n",
       "    .dataframe tbody tr th {\n",
       "        vertical-align: top;\n",
       "    }\n",
       "\n",
       "    .dataframe thead th {\n",
       "        text-align: right;\n",
       "    }\n",
       "</style>\n",
       "<table border=\"1\" class=\"dataframe\">\n",
       "  <thead>\n",
       "    <tr style=\"text-align: right;\">\n",
       "      <th></th>\n",
       "      <th>X</th>\n",
       "      <th>Y</th>\n",
       "      <th>Demand</th>\n",
       "    </tr>\n",
       "  </thead>\n",
       "  <tbody>\n",
       "    <tr>\n",
       "      <th>0</th>\n",
       "      <td>49.384259</td>\n",
       "      <td>18.400913</td>\n",
       "      <td>64.173884</td>\n",
       "    </tr>\n",
       "    <tr>\n",
       "      <th>1</th>\n",
       "      <td>-38.877643</td>\n",
       "      <td>-90.708446</td>\n",
       "      <td>97.271895</td>\n",
       "    </tr>\n",
       "    <tr>\n",
       "      <th>2</th>\n",
       "      <td>-40.211516</td>\n",
       "      <td>51.153161</td>\n",
       "      <td>57.632290</td>\n",
       "    </tr>\n",
       "    <tr>\n",
       "      <th>3</th>\n",
       "      <td>55.381785</td>\n",
       "      <td>-86.851185</td>\n",
       "      <td>89.896918</td>\n",
       "    </tr>\n",
       "    <tr>\n",
       "      <th>4</th>\n",
       "      <td>-88.342136</td>\n",
       "      <td>85.796783</td>\n",
       "      <td>78.726624</td>\n",
       "    </tr>\n",
       "    <tr>\n",
       "      <th>5</th>\n",
       "      <td>-50.204311</td>\n",
       "      <td>14.933519</td>\n",
       "      <td>76.257711</td>\n",
       "    </tr>\n",
       "    <tr>\n",
       "      <th>6</th>\n",
       "      <td>-14.295914</td>\n",
       "      <td>20.464046</td>\n",
       "      <td>68.586700</td>\n",
       "    </tr>\n",
       "    <tr>\n",
       "      <th>7</th>\n",
       "      <td>-89.291426</td>\n",
       "      <td>6.698310</td>\n",
       "      <td>85.174485</td>\n",
       "    </tr>\n",
       "    <tr>\n",
       "      <th>8</th>\n",
       "      <td>38.534899</td>\n",
       "      <td>21.543380</td>\n",
       "      <td>98.911709</td>\n",
       "    </tr>\n",
       "    <tr>\n",
       "      <th>9</th>\n",
       "      <td>80.664222</td>\n",
       "      <td>-56.580321</td>\n",
       "      <td>97.553711</td>\n",
       "    </tr>\n",
       "  </tbody>\n",
       "</table>\n",
       "</div>"
      ],
      "text/plain": [
       "           X          Y     Demand\n",
       "0  49.384259  18.400913  64.173884\n",
       "1 -38.877643 -90.708446  97.271895\n",
       "2 -40.211516  51.153161  57.632290\n",
       "3  55.381785 -86.851185  89.896918\n",
       "4 -88.342136  85.796783  78.726624\n",
       "5 -50.204311  14.933519  76.257711\n",
       "6 -14.295914  20.464046  68.586700\n",
       "7 -89.291426   6.698310  85.174485\n",
       "8  38.534899  21.543380  98.911709\n",
       "9  80.664222 -56.580321  97.553711"
      ]
     },
     "execution_count": 5,
     "metadata": {},
     "output_type": "execute_result"
    }
   ],
   "source": [
    "# create set of customers\n",
    "i_data = pd.DataFrame()\n",
    "len_ = 100\n",
    "\n",
    "i_data['X'] = [rcoord() for _ in range(len_)]\n",
    "i_data['Y'] = [rcoord() for _ in range(len_)]\n",
    "i_data['Demand'] = [r.random() + r.randrange(50, 100) for _ in range(len_)]\n",
    "\n",
    "i_data.head(10)"
   ]
  },
  {
   "cell_type": "code",
   "execution_count": 6,
   "id": "7137dfad",
   "metadata": {},
   "outputs": [
    {
     "data": {
      "text/html": [
       "<div>\n",
       "<style scoped>\n",
       "    .dataframe tbody tr th:only-of-type {\n",
       "        vertical-align: middle;\n",
       "    }\n",
       "\n",
       "    .dataframe tbody tr th {\n",
       "        vertical-align: top;\n",
       "    }\n",
       "\n",
       "    .dataframe thead th {\n",
       "        text-align: right;\n",
       "    }\n",
       "</style>\n",
       "<table border=\"1\" class=\"dataframe\">\n",
       "  <thead>\n",
       "    <tr style=\"text-align: right;\">\n",
       "      <th></th>\n",
       "      <th>X</th>\n",
       "      <th>Y</th>\n",
       "      <th>Fixed Charge</th>\n",
       "      <th>Capacity</th>\n",
       "    </tr>\n",
       "  </thead>\n",
       "  <tbody>\n",
       "    <tr>\n",
       "      <th>0</th>\n",
       "      <td>0.679668</td>\n",
       "      <td>-0.833457</td>\n",
       "      <td>7998.232805</td>\n",
       "      <td>852</td>\n",
       "    </tr>\n",
       "    <tr>\n",
       "      <th>1</th>\n",
       "      <td>68.243506</td>\n",
       "      <td>67.705973</td>\n",
       "      <td>7906.879840</td>\n",
       "      <td>835</td>\n",
       "    </tr>\n",
       "    <tr>\n",
       "      <th>2</th>\n",
       "      <td>-54.952300</td>\n",
       "      <td>42.162341</td>\n",
       "      <td>7267.976669</td>\n",
       "      <td>650</td>\n",
       "    </tr>\n",
       "    <tr>\n",
       "      <th>3</th>\n",
       "      <td>-14.364289</td>\n",
       "      <td>12.164176</td>\n",
       "      <td>6910.284668</td>\n",
       "      <td>842</td>\n",
       "    </tr>\n",
       "    <tr>\n",
       "      <th>4</th>\n",
       "      <td>55.295638</td>\n",
       "      <td>-20.035122</td>\n",
       "      <td>6656.058969</td>\n",
       "      <td>603</td>\n",
       "    </tr>\n",
       "    <tr>\n",
       "      <th>5</th>\n",
       "      <td>-35.841089</td>\n",
       "      <td>-78.925387</td>\n",
       "      <td>7324.065285</td>\n",
       "      <td>940</td>\n",
       "    </tr>\n",
       "    <tr>\n",
       "      <th>6</th>\n",
       "      <td>-56.717951</td>\n",
       "      <td>-82.680649</td>\n",
       "      <td>9771.517631</td>\n",
       "      <td>587</td>\n",
       "    </tr>\n",
       "    <tr>\n",
       "      <th>7</th>\n",
       "      <td>54.079889</td>\n",
       "      <td>-79.430271</td>\n",
       "      <td>7998.360512</td>\n",
       "      <td>535</td>\n",
       "    </tr>\n",
       "    <tr>\n",
       "      <th>8</th>\n",
       "      <td>12.565457</td>\n",
       "      <td>-99.227983</td>\n",
       "      <td>5852.031138</td>\n",
       "      <td>654</td>\n",
       "    </tr>\n",
       "    <tr>\n",
       "      <th>9</th>\n",
       "      <td>0.439505</td>\n",
       "      <td>64.012724</td>\n",
       "      <td>7543.553989</td>\n",
       "      <td>987</td>\n",
       "    </tr>\n",
       "  </tbody>\n",
       "</table>\n",
       "</div>"
      ],
      "text/plain": [
       "           X          Y  Fixed Charge  Capacity\n",
       "0   0.679668  -0.833457   7998.232805       852\n",
       "1  68.243506  67.705973   7906.879840       835\n",
       "2 -54.952300  42.162341   7267.976669       650\n",
       "3 -14.364289  12.164176   6910.284668       842\n",
       "4  55.295638 -20.035122   6656.058969       603\n",
       "5 -35.841089 -78.925387   7324.065285       940\n",
       "6 -56.717951 -82.680649   9771.517631       587\n",
       "7  54.079889 -79.430271   7998.360512       535\n",
       "8  12.565457 -99.227983   5852.031138       654\n",
       "9   0.439505  64.012724   7543.553989       987"
      ]
     },
     "execution_count": 6,
     "metadata": {},
     "output_type": "execute_result"
    }
   ],
   "source": [
    "# create set of candidate locations\n",
    "j_data = pd.DataFrame()\n",
    "len_ = 20\n",
    "\n",
    "j_data['X'] = [rcoord() for _ in range(len_)]\n",
    "j_data['Y'] = [rcoord() for _ in range(len_)]\n",
    "j_data['Fixed Charge'] = [r.random() + r.randrange(5000, 10000) for _ in range(len_)]\n",
    "j_data['Capacity'] = [r.randrange(500, 1000) for _ in range(len_)]\n",
    "\n",
    "j_data.head(10)"
   ]
  },
  {
   "cell_type": "code",
   "execution_count": 7,
   "id": "a939e15a",
   "metadata": {},
   "outputs": [
    {
     "data": {
      "text/plain": [
       "Text(0.5, 1.0, 'Customer and Facility Locations')"
      ]
     },
     "execution_count": 7,
     "metadata": {},
     "output_type": "execute_result"
    },
    {
     "data": {
      "image/png": "[encoded data removed]",
      "text/plain": [
       "<Figure size 720x720 with 1 Axes>"
      ]
     },
     "metadata": {},
     "output_type": "display_data"
    }
   ],
   "source": [
    "# plot the customers and facilities\n",
    "fig, ax = plt.subplots(figsize=(10,10))\n",
    "sns.scatterplot(x='X', y='Y', data=i_data, size=1, color='red', legend=False, label=\"Customer\")\n",
    "sns.scatterplot(x='X', y='Y', data=j_data, s=100, color='black', marker='^', label=\"Facility\")\n",
    "plt.legend()\n",
    "plt.title('Customer and Facility Locations')"
   ]
  },
  {
   "cell_type": "code",
   "execution_count": 8,
   "id": "2b1bc980",
   "metadata": {},
   "outputs": [
    {
     "data": {
      "text/plain": [
       "array([[ 31.02027204,  30.98800849, 101.9373402 , ..., 114.09502926, 113.53289436,  48.57255347],\n",
       "       [ 51.85288514,  51.83359036, 110.08036041, ..., 121.42545088, 120.89740494,  63.91992936],\n",
       "       [ 91.37720549,  91.36625786, 133.33700811, ..., 142.84681343, 142.39822508,  98.7260318 ],\n",
       "       ...,\n",
       "       [ 43.33421151,  43.3111219 , 106.33352217, ..., 118.03928292, 117.49601998,  57.22665079],\n",
       "       [ 21.27613197,  21.22906462,  99.40642757, ..., 111.83958251, 111.26605329,  43.0082488 ],\n",
       "       [ 26.00138923,  25.96288957, 100.52380958, ..., 112.83390743, 112.26545802,  45.53139482]])"
      ]
     },
     "execution_count": 8,
     "metadata": {},
     "output_type": "execute_result"
    }
   ],
   "source": [
    "# create distance matrix\n",
    "eucl = lambda x1, x2, y1, y2: ((x1 - x2)**2 + (y1 - y2)**2)**0.5\n",
    "\n",
    "i_loc = i_data[['X', 'Y']].to_numpy()\n",
    "j_loc = j_data[['X', 'Y']].to_numpy()\n",
    "\n",
    "dist_ij = np.array([np.array([eucl(i[0],i[1],j[0],j[1]) for j in j_loc]) for i in i_loc])\n",
    "dist_ij"
   ]
  },
  {
   "cell_type": "code",
   "execution_count": 9,
   "id": "8613a881",
   "metadata": {},
   "outputs": [
    {
     "name": "stdout",
     "output_type": "stream",
     "text": [
      "Done\n"
     ]
    }
   ],
   "source": [
    "# save new data to files\n",
    "with pd.ExcelWriter('data.xlsx', mode='w') as writer:\n",
    "    i_data.to_excel(writer, sheet_name='i_data', index=False)\n",
    "    j_data.to_excel(writer, sheet_name='j_data', index=False)\n",
    "    pd.DataFrame(dist_ij).to_excel(writer, sheet_name='dist_ij', index=False)\n",
    "    \n",
    "print('Done')"
   ]
  }
 ],
 "metadata": {
  "kernelspec": {
   "display_name": "Python 3 (ipykernel)",
   "language": "python",
   "name": "python3"
  },
  "language_info": {
   "codemirror_mode": {
    "name": "ipython",
    "version": 3
   },
   "file_extension": ".py",
   "mimetype": "text/x-python",
   "name": "python",
   "nbconvert_exporter": "python",
   "pygments_lexer": "ipython3",
   "version": "3.9.7"
  }
 },
 "nbformat": 4,
 "nbformat_minor": 5
}
