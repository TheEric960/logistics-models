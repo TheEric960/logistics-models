{
 "cells": [
  {
   "cell_type": "markdown",
   "id": "32a2db05",
   "metadata": {},
   "source": [
    "### (CFLP) Capacitated Fixed-Charge Location Problem\n",
    "- Find the number and location of facilities to minimize the total costs.\n",
    "- Costs include the fixed charge of facilities and transportation cost of customers.\n",
    "- Sets:\n",
    "    - $I$: set of customers\n",
    "    - $J$: set of candidate facility locations\n",
    "- Parameters:\n",
    "    - $c_{ij}$: cost to travel between customer $i$ and candidate facility at $j$\n",
    "    - $h_i$: demand at customer $i$ (annual)\n",
    "    - $f_j$: fixed charge at location $j$ (annual)\n",
    "    - $v_j$: capacity at location $j$ (maximum dmeand that facility $j$ can serve per year)\n",
    "    - $\\alpha$: transportation cost\n",
    "- Decision variables:\n",
    "    - $x_j=\\begin{cases}1, \\quad\\text{if a facility is installed at } j\\\\0, \\quad\\text{O.W.}\\end{cases}$\n",
    "    - $y_{ij}=\\begin{cases}1, \\quad\\text{if customer } i \\text{ is covered by a facility at } j\\\\0, \\quad\\text{O.W.}\\end{cases}$\n",
    "\n",
    "<br>\n",
    "\n",
    "$$\n",
    "\\begin{split}\n",
    "\\text{(CFLP)}\\quad & \\text{minimize}\\quad \\sum\\limits_{j\\in J}f_{j}x_{j} + \\alpha\\sum\\limits_{i\\in I}\\sum\\limits_{j\\in J}h_{i}c_{ij}y_{ij}\\\\\n",
    "&\\begin{split}\n",
    "\\text{subject to}\\quad\\quad \\sum\\limits_{j\\in J}&y_{ij} = 1 &\\forall i\\in I\\\\\n",
    "                          &y_{ij} \\le x_{j}             &\\forall i\\in I, \\forall j\\in J\\\\\n",
    "\\sum\\limits_{i\\in I}h_{i} &y_{ij} \\le v_{j}             &\\forall j\\in J\\\\\n",
    "                          &x_{j}\\in \\{0, 1\\}            &\\forall j\\in J\\\\\n",
    "                          &y_{ij}\\in \\{0, 1\\}\\quad\\quad &\\forall i\\in I, \\forall j\\in J\\\\ \n",
    "\\end{split}\n",
    "\\end{split}\n",
    "$$"
   ]
  }
 ],
 "metadata": {
  "kernelspec": {
   "display_name": "Python 3 (ipykernel)",
   "language": "python",
   "name": "python3"
  },
  "language_info": {
   "codemirror_mode": {
    "name": "ipython",
    "version": 3
   },
   "file_extension": ".py",
   "mimetype": "text/x-python",
   "name": "python",
   "nbconvert_exporter": "python",
   "pygments_lexer": "ipython3",
   "version": "3.9.7"
  }
 },
 "nbformat": 4,
 "nbformat_minor": 5
}
