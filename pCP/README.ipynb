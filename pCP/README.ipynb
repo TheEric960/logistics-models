{
 "cells": [
  {
   "cell_type": "markdown",
   "id": "32a2db05",
   "metadata": {},
   "source": [
    "### ($p$CP) $p$-Center Problem\n",
    "- Locate $p$ facilities (centers) to minimize the maximum distance between each customer and their nearest (assigned) facility (or center).\n",
    "- Sets:\n",
    "    - $I$: set of customers\n",
    "    - $J$: set of candidate facility locations\n",
    "- Parameters:\n",
    "    - $c_{ij}$: cost to travel between customer $i$ and candidate facility at $j$\n",
    "    - $p$: number of facilities to locate\n",
    "- Decision variables:\n",
    "    - $x_j=\\begin{cases}1, \\quad\\text{if a facility is installed at } j\\\\0, \\quad\\text{O.W.}\\end{cases}$\n",
    "    - $y_{ij}=\\begin{cases}1, \\quad\\text{if customer } i \\text{ is assigned to a facility at } j\\\\0, \\quad\\text{O.W.}\\end{cases}$\n",
    "    - $r=\\text{maximum distance, over all } i\\in I\\text{, from }i\\text{ to its assigned facility.}$\n",
    "        \n",
    "<br>\n",
    "\n",
    "$$\n",
    "\\begin{split}\n",
    "\\text{(}p\\text{CP)}\\quad & \\text{minimize}\\quad\\quad r\\\\\n",
    "&\\begin{split}\n",
    "\\text{subject to}\\quad\\quad \\sum\\limits_{j\\in J}&y_{ij}=1 & \\forall i\\in I\\\\\n",
    "    & y_{ij}\\le x_{j}                     & \\forall i\\in I, \\forall j\\in J\\\\\n",
    "    \\sum\\limits_{j\\in J}&x_{j}=p\\\\\n",
    "    \\sum\\limits_{j\\in J}&c_{ij}y_{ij}\\le r & \\forall i\\in I\\\\\n",
    "    & x_{j}\\in \\{0, 1\\}                   & \\forall j\\in J\\\\\n",
    "    & y_{ij}\\in \\{0, 1\\}\\quad\\quad        & \\forall i\\in I, \\forall j\\in J\\\\\n",
    "\\end{split}\n",
    "\\end{split}\n",
    "$$"
   ]
  }
 ],
 "metadata": {
  "kernelspec": {
   "display_name": "Python 3 (ipykernel)",
   "language": "python",
   "name": "python3"
  },
  "language_info": {
   "codemirror_mode": {
    "name": "ipython",
    "version": 3
   },
   "file_extension": ".py",
   "mimetype": "text/x-python",
   "name": "python",
   "nbconvert_exporter": "python",
   "pygments_lexer": "ipython3",
   "version": "3.9.7"
  }
 },
 "nbformat": 4,
 "nbformat_minor": 5
}
