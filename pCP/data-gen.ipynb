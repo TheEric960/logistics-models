{
 "cells": [
  {
   "cell_type": "code",
   "execution_count": 1,
   "id": "86fabd40",
   "metadata": {},
   "outputs": [],
   "source": [
    "# import libraries\n",
    "import time\n",
    "import random as r\n",
    "import numpy as np\n",
    "import matplotlib.pyplot as plt\n",
    "import pandas as pd\n",
    "import seaborn as sns\n",
    "\n",
    "%matplotlib inline"
   ]
  },
  {
   "cell_type": "code",
   "execution_count": 2,
   "id": "3da81b1e",
   "metadata": {},
   "outputs": [],
   "source": [
    "# settings\n",
    "sns.reset_orig\n",
    "sns.set_style('darkgrid')\n",
    "sns.set_palette('Set1')\n",
    "\n",
    "np.set_printoptions(linewidth=200)"
   ]
  },
  {
   "cell_type": "code",
   "execution_count": 3,
   "id": "69735952",
   "metadata": {},
   "outputs": [
    {
     "name": "stdout",
     "output_type": "stream",
     "text": [
      "Seeded at 1653258270.\n"
     ]
    }
   ],
   "source": [
    "# initialize the random state using a seed\n",
    "epoch = int(time.time())\n",
    "r.seed(epoch)\n",
    "\n",
    "print(f'Seeded at {epoch}.')"
   ]
  },
  {
   "cell_type": "code",
   "execution_count": 4,
   "id": "70fd9ec9",
   "metadata": {},
   "outputs": [],
   "source": [
    "# create random coordinate function (-100 < X < 100)\n",
    "rcoord = lambda: r.random() * 100 * (-1 if r.randrange(2) else 1)"
   ]
  },
  {
   "cell_type": "code",
   "execution_count": 5,
   "id": "9a27b338",
   "metadata": {},
   "outputs": [
    {
     "data": {
      "text/html": [
       "<div>\n",
       "<style scoped>\n",
       "    .dataframe tbody tr th:only-of-type {\n",
       "        vertical-align: middle;\n",
       "    }\n",
       "\n",
       "    .dataframe tbody tr th {\n",
       "        vertical-align: top;\n",
       "    }\n",
       "\n",
       "    .dataframe thead th {\n",
       "        text-align: right;\n",
       "    }\n",
       "</style>\n",
       "<table border=\"1\" class=\"dataframe\">\n",
       "  <thead>\n",
       "    <tr style=\"text-align: right;\">\n",
       "      <th></th>\n",
       "      <th>X</th>\n",
       "      <th>Y</th>\n",
       "    </tr>\n",
       "  </thead>\n",
       "  <tbody>\n",
       "    <tr>\n",
       "      <th>0</th>\n",
       "      <td>22.792393</td>\n",
       "      <td>19.672351</td>\n",
       "    </tr>\n",
       "    <tr>\n",
       "      <th>1</th>\n",
       "      <td>92.557766</td>\n",
       "      <td>-7.202176</td>\n",
       "    </tr>\n",
       "    <tr>\n",
       "      <th>2</th>\n",
       "      <td>-76.130610</td>\n",
       "      <td>-60.435631</td>\n",
       "    </tr>\n",
       "    <tr>\n",
       "      <th>3</th>\n",
       "      <td>-77.028504</td>\n",
       "      <td>58.995751</td>\n",
       "    </tr>\n",
       "    <tr>\n",
       "      <th>4</th>\n",
       "      <td>68.200161</td>\n",
       "      <td>69.813692</td>\n",
       "    </tr>\n",
       "    <tr>\n",
       "      <th>5</th>\n",
       "      <td>91.044410</td>\n",
       "      <td>47.800217</td>\n",
       "    </tr>\n",
       "    <tr>\n",
       "      <th>6</th>\n",
       "      <td>-46.727576</td>\n",
       "      <td>-40.440371</td>\n",
       "    </tr>\n",
       "    <tr>\n",
       "      <th>7</th>\n",
       "      <td>-23.507190</td>\n",
       "      <td>-43.579528</td>\n",
       "    </tr>\n",
       "    <tr>\n",
       "      <th>8</th>\n",
       "      <td>66.885501</td>\n",
       "      <td>-18.845177</td>\n",
       "    </tr>\n",
       "    <tr>\n",
       "      <th>9</th>\n",
       "      <td>78.649258</td>\n",
       "      <td>80.011512</td>\n",
       "    </tr>\n",
       "  </tbody>\n",
       "</table>\n",
       "</div>"
      ],
      "text/plain": [
       "           X          Y\n",
       "0  22.792393  19.672351\n",
       "1  92.557766  -7.202176\n",
       "2 -76.130610 -60.435631\n",
       "3 -77.028504  58.995751\n",
       "4  68.200161  69.813692\n",
       "5  91.044410  47.800217\n",
       "6 -46.727576 -40.440371\n",
       "7 -23.507190 -43.579528\n",
       "8  66.885501 -18.845177\n",
       "9  78.649258  80.011512"
      ]
     },
     "execution_count": 5,
     "metadata": {},
     "output_type": "execute_result"
    }
   ],
   "source": [
    "# create set of customers\n",
    "i_data = pd.DataFrame()\n",
    "len_ = 100\n",
    "\n",
    "i_data['X'] = [rcoord() for _ in range(len_)]\n",
    "i_data['Y'] = [rcoord() for _ in range(len_)]\n",
    "\n",
    "i_data.head(10)"
   ]
  },
  {
   "cell_type": "code",
   "execution_count": 6,
   "id": "7137dfad",
   "metadata": {},
   "outputs": [
    {
     "data": {
      "text/html": [
       "<div>\n",
       "<style scoped>\n",
       "    .dataframe tbody tr th:only-of-type {\n",
       "        vertical-align: middle;\n",
       "    }\n",
       "\n",
       "    .dataframe tbody tr th {\n",
       "        vertical-align: top;\n",
       "    }\n",
       "\n",
       "    .dataframe thead th {\n",
       "        text-align: right;\n",
       "    }\n",
       "</style>\n",
       "<table border=\"1\" class=\"dataframe\">\n",
       "  <thead>\n",
       "    <tr style=\"text-align: right;\">\n",
       "      <th></th>\n",
       "      <th>X</th>\n",
       "      <th>Y</th>\n",
       "    </tr>\n",
       "  </thead>\n",
       "  <tbody>\n",
       "    <tr>\n",
       "      <th>0</th>\n",
       "      <td>47.852513</td>\n",
       "      <td>12.439654</td>\n",
       "    </tr>\n",
       "    <tr>\n",
       "      <th>1</th>\n",
       "      <td>-89.264281</td>\n",
       "      <td>-23.893653</td>\n",
       "    </tr>\n",
       "    <tr>\n",
       "      <th>2</th>\n",
       "      <td>-39.429312</td>\n",
       "      <td>-75.138571</td>\n",
       "    </tr>\n",
       "    <tr>\n",
       "      <th>3</th>\n",
       "      <td>56.576003</td>\n",
       "      <td>9.062769</td>\n",
       "    </tr>\n",
       "    <tr>\n",
       "      <th>4</th>\n",
       "      <td>-68.114533</td>\n",
       "      <td>-91.650700</td>\n",
       "    </tr>\n",
       "    <tr>\n",
       "      <th>5</th>\n",
       "      <td>-96.280030</td>\n",
       "      <td>-32.113074</td>\n",
       "    </tr>\n",
       "    <tr>\n",
       "      <th>6</th>\n",
       "      <td>19.928771</td>\n",
       "      <td>81.992421</td>\n",
       "    </tr>\n",
       "    <tr>\n",
       "      <th>7</th>\n",
       "      <td>59.081145</td>\n",
       "      <td>32.781637</td>\n",
       "    </tr>\n",
       "    <tr>\n",
       "      <th>8</th>\n",
       "      <td>22.409048</td>\n",
       "      <td>26.805760</td>\n",
       "    </tr>\n",
       "    <tr>\n",
       "      <th>9</th>\n",
       "      <td>57.230290</td>\n",
       "      <td>27.768389</td>\n",
       "    </tr>\n",
       "  </tbody>\n",
       "</table>\n",
       "</div>"
      ],
      "text/plain": [
       "           X          Y\n",
       "0  47.852513  12.439654\n",
       "1 -89.264281 -23.893653\n",
       "2 -39.429312 -75.138571\n",
       "3  56.576003   9.062769\n",
       "4 -68.114533 -91.650700\n",
       "5 -96.280030 -32.113074\n",
       "6  19.928771  81.992421\n",
       "7  59.081145  32.781637\n",
       "8  22.409048  26.805760\n",
       "9  57.230290  27.768389"
      ]
     },
     "execution_count": 6,
     "metadata": {},
     "output_type": "execute_result"
    }
   ],
   "source": [
    "# create set of candidate locations\n",
    "j_data = pd.DataFrame()\n",
    "len_ = 20\n",
    "\n",
    "j_data['X'] = [rcoord() for _ in range(len_)]\n",
    "j_data['Y'] = [rcoord() for _ in range(len_)]\n",
    "\n",
    "j_data.head(10)"
   ]
  },
  {
   "cell_type": "code",
   "execution_count": 7,
   "id": "a939e15a",
   "metadata": {},
   "outputs": [
    {
     "data": {
      "text/plain": [
       "Text(0.5, 1.0, 'Customer and Facility Locations')"
      ]
     },
     "execution_count": 7,
     "metadata": {},
     "output_type": "execute_result"
    },
    {
     "data": {
      "image/png": "[encoded data removed]",
      "text/plain": [
       "<Figure size 720x720 with 1 Axes>"
      ]
     },
     "metadata": {},
     "output_type": "display_data"
    }
   ],
   "source": [
    "# plot the customers and facilities\n",
    "fig, ax = plt.subplots(figsize=(10,10))\n",
    "sns.scatterplot(x='X', y='Y', data=i_data, size=1, color='red', legend=False, label=\"Customer\")\n",
    "sns.scatterplot(x='X', y='Y', data=j_data, s=100, color='black', marker='^', label=\"Facility\")\n",
    "plt.legend()\n",
    "plt.title('Customer and Facility Locations')"
   ]
  },
  {
   "cell_type": "code",
   "execution_count": 8,
   "id": "2b1bc980",
   "metadata": {},
   "outputs": [
    {
     "data": {
      "text/plain": [
       "array([[ 26.08297367, 120.22767985, 113.40481232, ...,  51.91470843, 103.99535125, 119.26468744],\n",
       "       [ 48.82992012, 182.58658813, 148.44508202, ...,  78.41443307, 178.54243016, 147.40908171],\n",
       "       [143.81454006,  38.83052191,  39.53684041, ..., 178.11313839, 127.09687664,  51.37015269],\n",
       "       ...,\n",
       "       [ 30.36354322, 167.37045686, 153.88641627, ...,  28.28092926, 140.44539878, 157.27266988],\n",
       "       [ 48.12149359, 149.00674132, 153.04503075, ...,  19.476056  , 105.0754966 , 159.62856885],\n",
       "       [127.33985073,  58.99865524, 115.59457153, ..., 134.49080002,  33.43950803, 128.76899323]])"
      ]
     },
     "execution_count": 8,
     "metadata": {},
     "output_type": "execute_result"
    }
   ],
   "source": [
    "# create distance matrix\n",
    "eucl = lambda x1, y1, x2, y2: ((x1 - x2)**2 + (y1 - y2)**2)**0.5\n",
    "\n",
    "i_loc = i_data[['X', 'Y']].values\n",
    "j_loc = j_data[['X', 'Y']].values\n",
    "\n",
    "dist_ij = np.array([[eucl(i[0],i[1],j[0],j[1]) for j in j_loc] for i in i_loc])\n",
    "dist_ij"
   ]
  },
  {
   "cell_type": "code",
   "execution_count": 9,
   "id": "8613a881",
   "metadata": {},
   "outputs": [
    {
     "name": "stdout",
     "output_type": "stream",
     "text": [
      "Done\n"
     ]
    }
   ],
   "source": [
    "# save new data to files\n",
    "with pd.ExcelWriter('data.xlsx', mode='w') as writer:\n",
    "    i_data.to_excel(writer, sheet_name='i_data', index=False)\n",
    "    j_data.to_excel(writer, sheet_name='j_data', index=False)\n",
    "    pd.DataFrame(dist_ij).to_excel(writer, sheet_name='dist_ij', index=False)\n",
    "    \n",
    "print('Done')"
   ]
  }
 ],
 "metadata": {
  "kernelspec": {
   "display_name": "Python 3 (ipykernel)",
   "language": "python",
   "name": "python3"
  },
  "language_info": {
   "codemirror_mode": {
    "name": "ipython",
    "version": 3
   },
   "file_extension": ".py",
   "mimetype": "text/x-python",
   "name": "python",
   "nbconvert_exporter": "python",
   "pygments_lexer": "ipython3",
   "version": "3.9.7"
  }
 },
 "nbformat": 4,
 "nbformat_minor": 5
}
