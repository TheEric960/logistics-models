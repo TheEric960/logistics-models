{
 "cells": [
  {
   "cell_type": "markdown",
   "id": "a7e661f9",
   "metadata": {},
   "source": [
    "### ($p$CP) $p$-Center Problem\n",
    "- Locate $p$ facilities (centers) to minimize the maximum distance between each customer and their nearest (assigned) facility (or center).\n",
    "- Sets:\n",
    "    - $I$: set of customers\n",
    "    - $J$: set of candidate facility locations\n",
    "- Parameters:\n",
    "    - $c_{ij}$: cost to travel between customer $i$ and candidate facility at $j$\n",
    "    - $p$: number of facilities to locate\n",
    "- Decision variables:\n",
    "    - $x_j=\\begin{cases}\n",
    "            1, \\quad\\text{if a facility is installed at } j\\\\\n",
    "            0, \\quad\\text{O.W.}\n",
    "        \\end{cases}\n",
    "        $\n",
    "    - $y_{ij}=\\begin{cases}\n",
    "            1, \\quad\\text{if customer } i \\text{ is assigned to a facility at } j\\\\\n",
    "            0, \\quad\\text{O.W.}\n",
    "        \\end{cases}\n",
    "        $\n",
    "    - $r=\\text{maximum distance, over all } i\\in I\\text{, from }i\\text{ to its assigned facility.}$\n",
    "        \n",
    "<br>\n",
    "\n",
    "$\n",
    "\\begin{split}\n",
    "&\\text{(}p\\text{CP)}\\quad & \\text{minimize}\\quad\\quad r\\\\\n",
    "&&\\begin{split}\n",
    "\\text{subject to}\\quad\\quad \\sum\\limits_{j\\in J}&y_{ij}=1 & \\forall i\\in I\\\\\n",
    "    & y_{ij}\\le x_{j}                     & \\forall i\\in I, \\forall j\\in J\\\\\n",
    "    \\sum\\limits_{j\\in J}&x_{j}=p\\\\\n",
    "    \\sum\\limits_{j\\in J}&c_{ij}y_{ij}\\le r & \\forall i\\in I\\\\\n",
    "    & x_{j}\\in \\{0, 1\\}                   & \\forall j\\in J\\\\\n",
    "    & y_{ij}\\in \\{0, 1\\}\\quad\\quad        & \\forall i\\in I, \\forall j\\in J\\\\\n",
    "\\end{split}\n",
    "\\end{split}\n",
    "$"
   ]
  },
  {
   "cell_type": "code",
   "execution_count": 1,
   "id": "a2df1d64",
   "metadata": {},
   "outputs": [],
   "source": [
    "# import libraries\n",
    "import numpy as np\n",
    "import matplotlib.pyplot as plt\n",
    "import pandas as pd\n",
    "import seaborn as sns\n",
    "\n",
    "from scipy import stats\n",
    "from gurobipy import Model, GRB, quicksum\n",
    "%matplotlib inline"
   ]
  },
  {
   "cell_type": "code",
   "execution_count": 2,
   "id": "a85b0eae",
   "metadata": {},
   "outputs": [],
   "source": [
    "# settings\n",
    "sns.reset_orig\n",
    "sns.set_style('darkgrid')\n",
    "sns.set_palette('Set1')\n",
    "\n",
    "np.set_printoptions(linewidth=200)"
   ]
  },
  {
   "cell_type": "code",
   "execution_count": 3,
   "id": "83b6fa85",
   "metadata": {},
   "outputs": [],
   "source": [
    "# import data\n",
    "i_data = pd.read_excel('data.xlsx', sheet_name='i_data')\n",
    "j_data = pd.read_excel('data.xlsx', sheet_name='j_data')\n",
    "dist_ij = pd.read_excel('data.xlsx', sheet_name='dist_ij').values"
   ]
  },
  {
   "cell_type": "code",
   "execution_count": 4,
   "id": "f89325c6",
   "metadata": {},
   "outputs": [],
   "source": [
    "# declare the parameters and sets\n",
    "I = [i for i in range(len(i_data['X'].values))]\n",
    "J = [j for j in range(len(j_data['X'].values))]\n",
    "A = [(i, j) for i in I for j in J]\n",
    "\n",
    "p = 3\n",
    "c = {(i, j): dist_ij[i, j] for (i, j) in A}"
   ]
  },
  {
   "cell_type": "code",
   "execution_count": 5,
   "id": "01a0d2d7",
   "metadata": {
    "scrolled": true
   },
   "outputs": [
    {
     "name": "stdout",
     "output_type": "stream",
     "text": [
      "Academic license - for non-commercial use only - expires 2022-08-28\n",
      "Using license file C:\\Users\\jack4\\gurobi.lic\n"
     ]
    }
   ],
   "source": [
    "# create model\n",
    "mdl = Model('pCP')"
   ]
  },
  {
   "cell_type": "code",
   "execution_count": 6,
   "id": "5e07fc31",
   "metadata": {},
   "outputs": [],
   "source": [
    "# add model variables\n",
    "x = mdl.addVars(J, vtype=GRB.BINARY)\n",
    "y = mdl.addVars(A, vtype=GRB.BINARY)\n",
    "r = mdl.addVar()"
   ]
  },
  {
   "cell_type": "code",
   "execution_count": 7,
   "id": "8db35570",
   "metadata": {},
   "outputs": [],
   "source": [
    "# add objective function\n",
    "mdl.ModelSense = GRB.MINIMIZE\n",
    "mdl.setObjective(r)"
   ]
  },
  {
   "cell_type": "code",
   "execution_count": 8,
   "id": "cc5d62ed",
   "metadata": {},
   "outputs": [],
   "source": [
    "# add the model constraints\n",
    "mdl.addConstrs(quicksum(y[i,j] for j in J) == 1 for i in I)\n",
    "mdl.addConstrs(y[i,j] <= x[j] for i,j in A)\n",
    "mdl.addConstr(quicksum(x[j] for j in J) == p)\n",
    "mdl.addConstrs(quicksum(c[i,j]*y[i,j] for j in J) <= r for i in I)\n",
    "mdl.update()"
   ]
  },
  {
   "cell_type": "code",
   "execution_count": 9,
   "id": "15d7e183",
   "metadata": {},
   "outputs": [
    {
     "name": "stdout",
     "output_type": "stream",
     "text": [
      "Gurobi Optimizer version 9.1.2 build v9.1.2rc0 (win64)\n",
      "Thread count: 8 physical cores, 16 logical processors, using up to 16 threads\n",
      "Optimize a model with 2201 rows, 2021 columns and 8120 nonzeros\n",
      "Model fingerprint: 0xc174cbfb\n",
      "Variable types: 1 continuous, 2020 integer (2020 binary)\n",
      "Coefficient statistics:\n",
      "  Matrix range     [1e+00, 2e+02]\n",
      "  Objective range  [1e+00, 1e+00]\n",
      "  Bounds range     [1e+00, 1e+00]\n",
      "  RHS range        [1e+00, 3e+00]\n",
      "Presolve time: 0.02s\n",
      "Presolved: 2201 rows, 2021 columns, 7766 nonzeros\n",
      "Variable types: 1 continuous, 2020 integer (2020 binary)\n",
      "Found heuristic solution: objective 124.8818739\n",
      "\n",
      "Root relaxation: objective 7.090698e+01, 1142 iterations, 0.02 seconds\n",
      "\n",
      "    Nodes    |    Current Node    |     Objective Bounds      |     Work\n",
      " Expl Unexpl |  Obj  Depth IntInf | Incumbent    BestBd   Gap | It/Node Time\n",
      "\n",
      "     0     0   70.90698    0  431  124.88187   70.90698  43.2%     -    0s\n",
      "H    0     0                     123.7753527   70.90698  42.7%     -    0s\n",
      "H    0     0                     106.4379141   70.90698  33.4%     -    0s\n",
      "H    0     0                      97.2067469   70.90698  27.1%     -    0s\n",
      "     0     0     cutoff    0        97.20675   97.20675  0.00%     -    0s\n",
      "\n",
      "Cutting planes:\n",
      "  Gomory: 18\n",
      "  MIR: 32\n",
      "  Zero half: 17\n",
      "  Relax-and-lift: 11\n",
      "\n",
      "Explored 1 nodes (3661 simplex iterations) in 0.15 seconds\n",
      "Thread count was 16 (of 16 available processors)\n",
      "\n",
      "Solution count 4: 97.2067 106.438 123.775 124.882 \n",
      "\n",
      "Optimal solution found (tolerance 1.00e-04)\n",
      "Best objective 9.720674686936e+01, best bound 9.720674686936e+01, gap 0.0000%\n",
      "Wall time: 155 ms\n"
     ]
    }
   ],
   "source": [
    "%%time\n",
    "\n",
    "# optimize\n",
    "mdl.optimize()"
   ]
  },
  {
   "cell_type": "code",
   "execution_count": 10,
   "id": "825b8a16",
   "metadata": {},
   "outputs": [],
   "source": [
    "# opened locations and covered customers\n",
    "opened = [j for j in J if x[j].X > 0.0]\n",
    "covered = [a for a in A if y[a].X > 0.0]"
   ]
  },
  {
   "cell_type": "code",
   "execution_count": 11,
   "id": "7de53a31",
   "metadata": {},
   "outputs": [],
   "source": [
    "# update the dataframes\n",
    "j_data['Opened'] = [int(x[j].X > 0.0) for j in J]\n",
    "i_data['Covered'] = [int(any(y[i,j].X > 0.0 for j in J)) for i in I]\n",
    "i_data['Facility'] = [j for i,j in A if y[i,j].X > 0.0]"
   ]
  },
  {
   "cell_type": "code",
   "execution_count": 12,
   "id": "05461a8f",
   "metadata": {},
   "outputs": [
    {
     "data": {
      "text/plain": [
       "Text(0.5, 1.0, 'Facilities Chosen')"
      ]
     },
     "execution_count": 12,
     "metadata": {},
     "output_type": "execute_result"
    },
    {
     "data": {
      "image/png": "[encoded data removed]",
      "text/plain": [
       "<Figure size 720x720 with 1 Axes>"
      ]
     },
     "metadata": {},
     "output_type": "display_data"
    }
   ],
   "source": [
    "# plot the station locations\n",
    "fig, ax = plt.subplots(figsize=(10,10))\n",
    "s = [100 if i == 1 else 50 for i in j_data['Opened'].values]\n",
    "sns.scatterplot(x='X', y='Y', data=j_data, hue='Opened', palette=['grey', 'red'], style='Opened', markers=('X', '^'), s=s)\n",
    "plt.title('Facilities Chosen')"
   ]
  },
  {
   "cell_type": "code",
   "execution_count": 13,
   "id": "2883f26a",
   "metadata": {},
   "outputs": [
    {
     "data": {
      "text/plain": [
       "Text(0.5, 1.0, 'Facility Coverage')"
      ]
     },
     "execution_count": 13,
     "metadata": {},
     "output_type": "execute_result"
    },
    {
     "data": {
      "image/png": "[encoded data removed]",
      "text/plain": [
       "<Figure size 720x720 with 1 Axes>"
      ]
     },
     "metadata": {},
     "output_type": "display_data"
    }
   ],
   "source": [
    "# plot the customer coverage\n",
    "fig, ax = plt.subplots(figsize=(10,10))\n",
    "sns.scatterplot(x='X', y='Y', data=i_data, hue='Facility', palette='tab10', s=35, legend=False, label=\"Customer\")\n",
    "sns.scatterplot(x='X', y='Y', data=j_data[j_data['Opened'] == 1], s=100, color='black', marker='^', label=\"Facility\")\n",
    "plt.title('Facility Coverage')"
   ]
  },
  {
   "cell_type": "code",
   "execution_count": 14,
   "id": "f7b34ed3",
   "metadata": {},
   "outputs": [
    {
     "name": "stdout",
     "output_type": "stream",
     "text": [
      "Objective value =  97.20674686935553\n"
     ]
    }
   ],
   "source": [
    "# find objective value\n",
    "obj_val = r.X\n",
    "\n",
    "print('Objective value = ', obj_val)"
   ]
  }
 ],
 "metadata": {
  "kernelspec": {
   "display_name": "Python 3 (ipykernel)",
   "language": "python",
   "name": "python3"
  },
  "language_info": {
   "codemirror_mode": {
    "name": "ipython",
    "version": 3
   },
   "file_extension": ".py",
   "mimetype": "text/x-python",
   "name": "python",
   "nbconvert_exporter": "python",
   "pygments_lexer": "ipython3",
   "version": "3.9.7"
  }
 },
 "nbformat": 4,
 "nbformat_minor": 5
}
